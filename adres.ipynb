{
  "nbformat": 4,
  "nbformat_minor": 0,
  "metadata": {
    "colab": {
      "name": "Untitled0.ipynb",
      "provenance": [],
      "mount_file_id": "https://github.com/yagmurcengizz/hu-bby162-2021/blob/main/adres.ipynb",
      "authorship_tag": "ABX9TyOxmikHo0KNyi5xmqXjzVfw",
      "include_colab_link": true
    },
    "kernelspec": {
      "name": "python3",
      "display_name": "Python 3"
    },
    "language_info": {
      "name": "python"
    }
  },
  "cells": [
    {
      "cell_type": "markdown",
      "metadata": {
        "id": "view-in-github",
        "colab_type": "text"
      },
      "source": [
        "<a href=\"https://colab.research.google.com/github/yagmurcengizz/hu-bby162-2021/blob/main/adres.ipynb\" target=\"_parent\"><img src=\"https://colab.research.google.com/assets/colab-badge.svg\" alt=\"Open In Colab\"/></a>"
      ]
    },
    {
      "cell_type": "code",
      "metadata": {
        "colab": {
          "base_uri": "https://localhost:8080/"
        },
        "id": "vmGbBWsAoPxr",
        "outputId": "f773a45f-b320-41e9-bb10-ef60e1dae3f8"
      },
      "source": [
        "dosya = \"/content/drive/MyDrive/HU BBY162/Colab Notebooks/adres.txt\"\n",
        "\n",
        "f = open(dosya, 'a') \n",
        "\n",
        "ilkBilgi = input(\"Adı: \")\n",
        "ikinciBilgi = input(\"Soyadı: \")\n",
        "ucuncuBilgi = input(\"E-posta Adresi: \")\n",
        "\n",
        "f.write(ilkBilgi+ \" \" + ikinciBilgi+ \" \" + ucuncuBilgi+ \" \" + \"\\n\") \n",
        "\n",
        "f.close\n",
        "\n",
        "f = open(dosya, 'r') \n",
        "for line in f. readlines(): \n",
        "    print(line)\n",
        "f.close()\n"
      ],
      "execution_count": 2,
      "outputs": [
        {
          "output_type": "stream",
          "text": [
            "Adı: Yağmur\n",
            "Soyadı: Cengiz\n",
            "E-posta Adresi: yagmurcengizz@gmail.com\n",
            " Yağmur Cengiz yagmurcengizz@gmail.com \n",
            "\n"
          ],
          "name": "stdout"
        }
      ]
    }
  ]
}