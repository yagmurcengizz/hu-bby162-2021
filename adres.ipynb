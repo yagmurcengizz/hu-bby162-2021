{
  "nbformat": 4,
  "nbformat_minor": 0,
  "metadata": {
    "colab": {
      "name": "Untitled0.ipynb",
      "provenance": [],
      "authorship_tag": "ABX9TyNfJfgqWN0VG+VEE14gKibP",
      "include_colab_link": true
    },
    "kernelspec": {
      "name": "python3",
      "display_name": "Python 3"
    },
    "language_info": {
      "name": "python"
    }
  },
  "cells": [
    {
      "cell_type": "markdown",
      "metadata": {
        "id": "view-in-github",
        "colab_type": "text"
      },
      "source": [
        "<a href=\"https://colab.research.google.com/github/yagmurcengizz/hu-bby162-2021/blob/main/adres.ipynb\" target=\"_parent\"><img src=\"https://colab.research.google.com/assets/colab-badge.svg\" alt=\"Open In Colab\"/></a>"
      ]
    },
    {
      "cell_type": "code",
      "metadata": {
        "colab": {
          "base_uri": "https://localhost:8080/"
        },
        "id": "vmGbBWsAoPxr",
        "outputId": "8011b60e-f237-4b2c-a5e1-531fc90b0790"
      },
      "source": [
        "dosya = \"adres.txt\"\n",
        "\n",
        "f = open(dosya, 'a') #Mevcut veriye ek veri yazılması için parametre: 'a'\n",
        "ilkBilgi = input(\"Adı: \")\n",
        "ikinciBilgi = input(\"Soyadı: \")\n",
        "ucuncuBilgi = input(\"E-posta Adresi: \")\n",
        "\n",
        "f.write(ilkBilgi+ \"\\n\") # Her yeni verinin bir alt satırına yazdırılması \"test\\n\"\n",
        "f.write(ikinciBilgi+ \"\\n\") # Her yeni verinin bir alt satırına yazdırılması \"test\\n\"\n",
        "f.write(ucuncuBilgi+ \"\\n\") # Her yeni verinin bir alt satırına yazdırılması \"test\\n\"\n",
        "f.close()\n",
        "\n",
        "f = open(dosya, 'r') #Mevcut veriye ek veri yazılması için parametre: 'a'\n",
        "\n",
        "for line in f. readlines(): \n",
        "    print(line)\n",
        "\n",
        "f.close()\n"
      ],
      "execution_count": 34,
      "outputs": [
        {
          "output_type": "stream",
          "text": [
            "Adı: Yağmur\n",
            "Soyadı: Cengiz\n",
            "E-posta Adresi: yagmurrcengizz@gmail.com\n",
            "\n",
            "\n",
            "Yağmur\n",
            "\n",
            "Cengiz\n",
            "\n",
            "yagmurrcengizz@gmail.com\n",
            "\n"
          ],
          "name": "stdout"
        }
      ]
    }
  ]
}