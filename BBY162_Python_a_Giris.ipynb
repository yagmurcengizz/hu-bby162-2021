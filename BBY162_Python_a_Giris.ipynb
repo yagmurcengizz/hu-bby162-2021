{
  "nbformat": 4,
  "nbformat_minor": 0,
  "metadata": {
    "colab": {
      "name": "BBY162_Python_a_Giris.ipynb",
      "provenance": [],
      "collapsed_sections": [],
      "include_colab_link": true
    },
    "kernelspec": {
      "name": "python3",
      "display_name": "Python 3"
    }
  },
  "cells": [
    {
      "cell_type": "markdown",
      "metadata": {
        "id": "view-in-github",
        "colab_type": "text"
      },
      "source": [
        "<a href=\"https://colab.research.google.com/github/yagmurcengizz/hu-bby162-2021/blob/main/BBY162_Python_a_Giris.ipynb\" target=\"_parent\"><img src=\"https://colab.research.google.com/assets/colab-badge.svg\" alt=\"Open In Colab\"/></a>"
      ]
    },
    {
      "cell_type": "markdown",
      "metadata": {
        "id": "NfVak32KVWSs"
      },
      "source": [
        "#Bölüm 00: Python'a Giriş"
      ]
    },
    {
      "cell_type": "markdown",
      "metadata": {
        "id": "Jx99cm91VfHw"
      },
      "source": [
        "## Yazar Hakkında\n",
        "Yağmur Cengiz"
      ]
    },
    {
      "cell_type": "markdown",
      "metadata": {
        "id": "Pg3xaBR3XNNs"
      },
      "source": [
        "##Çalışma Defteri Hakkında\n",
        "\n",
        "Bu çalışma defteri Google'ın Jupyter Notebook platformuna benzer özellikler taşıyan Google Colab üzerinde oluşturulmuştur. Google Colab, herhangi bir altyapı düzenlemesine ihtiyaç duymadan Web tabanlı olarak Python kodları yazmanıza ve çalıştırmanıza imkan veren ücretsiz bir platformdur. Platform ile ilgili detaylı bilgiye [https://colab.research.google.com/notebooks/intro.ipynb](https://colab.research.google.com/notebooks/intro.ipynb) adresinden ulaşabilirsiniz.\n",
        "\n",
        "Python'a giriş seviyesinde 10 dersten oluşan bu çalışma defteri daha önce kodlama deneyimi olmayan öğrenenler için hazırlanmıştır. Etkileşimli yapısından dolayı hem konu anlatımlarının hem de çalıştırılabilir örneklerin bir arada olduğu bu yapı, sürekli olarak güncellenebilecek bir altyapıya sahiptir. Bu açıdan çalışma defterinin güncel sürümünü aşağıdaki adresten kontrol etmenizi tavsiye ederim.\n",
        "\n",
        "Sürüm 1.0: [Python'a Giriş](https://github.com/orcunmadran/hu-bby162-2020/blob/master/BBY162_Python_a_Giris.ipynb)\n",
        "\n",
        "İyi çalışmalar ve başarılar :)"
      ]
    },
    {
      "cell_type": "markdown",
      "metadata": {
        "id": "6IOyCRzqRgBu"
      },
      "source": [
        "## Kullanım Şartları\n",
        "\n",
        "Bu çalışma defteri aşağıda belirtilen şartlar altında, katkıda bulunanlara Atıf vermek ve aynı lisansla paylaşmak kaydıyla ticari amaç dahil olmak üzere her şekilde dağıtabilir, paylaşabilir, üzerinde değişiklik yapılarak yeniden kullanılabilir.\n",
        "\n",
        "\n",
        "---\n",
        "\n",
        "![Atıf-AynıLisanslaPaylaş 4.0 Uluslararası Lisansı](https://i.creativecommons.org/l/by-sa/4.0/88x31.png)\n",
        "\n",
        "Bu çalışma defteri Jetbrains'in \"Introduction to Python\" dersi temel alınarak hazırlanmış ve Creative Commons [Atıf-AynıLisanslaPaylaş 4.0 Uluslararası Lisansı](http://creativecommons.org/licenses/by-sa/4.0/) ile lisanslanmıştır.\n",
        "\n",
        "---\n",
        "\n"
      ]
    },
    {
      "cell_type": "markdown",
      "metadata": {
        "id": "AE4EYdj6VPvq"
      },
      "source": [
        "# Bölüm 01: Giriş\n",
        "\n",
        "Bu bölümde:\n",
        "\n",
        "*   İlk bilgisayar programımız,\n",
        "*   Yorumlar yer almaktadır."
      ]
    },
    {
      "cell_type": "markdown",
      "metadata": {
        "id": "4nLn-agoUdfh"
      },
      "source": [
        "## İlk Bilgisayar Programımız\n",
        "Geleneksel olarak herhangi bir programlama dilinde yazılan ilk program \"Merhaba Dünya!\"'dır."
      ]
    },
    {
      "cell_type": "markdown",
      "metadata": {
        "id": "xhY6ovVFSBp1"
      },
      "source": [
        "**Örnek Uygulama:**\n",
        "\n",
        "\n",
        "```\n",
        "print(\"Merhaba Dünya!\")\n",
        "```\n",
        "\n",
        "\n"
      ]
    },
    {
      "cell_type": "code",
      "metadata": {
        "id": "ji14524dirwG",
        "colab": {
          "base_uri": "https://localhost:8080/"
        },
        "outputId": "8820fe86-2895-436f-c3fc-1c6ad5966151"
      },
      "source": [
        "# Örnek uygulamayı çalıştır\n",
        "\n",
        "print(\"Merhaba Dünya!\")"
      ],
      "execution_count": null,
      "outputs": [
        {
          "output_type": "stream",
          "text": [
            "Merhaba Dünya!\n"
          ],
          "name": "stdout"
        }
      ]
    },
    {
      "cell_type": "markdown",
      "metadata": {
        "id": "MuYQpCfoh7In"
      },
      "source": [
        "**Görev:** Kendinizi dünyaya tanıtacak ilk bilgisayar programını yazın!"
      ]
    },
    {
      "cell_type": "code",
      "metadata": {
        "id": "CBHkVbIlUXgW",
        "cellView": "both",
        "colab": {
          "base_uri": "https://localhost:8080/"
        },
        "outputId": "28a98dd2-cbc1-4015-b494-92c04e23de18"
      },
      "source": [
        "print(\"Merhaba Dünya!Ben Yağmur Cengiz.BBY162 dersi sayesinde proglamlama dilini öğreneceğimi düşünüyorum.\")"
      ],
      "execution_count": null,
      "outputs": [
        {
          "output_type": "stream",
          "text": [
            "Merhaba Dünya!Ben Yağmur Cengiz.BBY162 dersi sayesinde proglamlama dilini öğreneceğimi düşünüyorum.\n"
          ],
          "name": "stdout"
        }
      ]
    },
    {
      "cell_type": "markdown",
      "metadata": {
        "id": "0S8fTkAqVb4v"
      },
      "source": [
        "## Yorumlar\n",
        "Python'daki yorumlar # \"hash\" karakteriyle başlar ve fiziksel çizginin sonuna kadar uzanır. Yorum yapmak için kullanılan # \"hash\" karakteri kod satırlarını geçici olarak devre dışı bırakmak amacıyla da kullanılabilir. "
      ]
    },
    {
      "cell_type": "markdown",
      "metadata": {
        "id": "ql-GYfPYWpUW"
      },
      "source": [
        "**Örnek Uygulama:**\n",
        "\n",
        "\n",
        "```\n",
        "# Bu ilk bilgisayar programım için ilk yorumum\n",
        "print(\"# bu bir yorum değildir\")\n",
        "print(\"Merhaba!\")  # yorumlar kod satırının devamında da yapılabilir.\n",
        "#print(\"Bu kod geçici olarak devre dışı bırakılmıştır.\")\n",
        "```\n",
        "\n"
      ]
    },
    {
      "cell_type": "code",
      "metadata": {
        "id": "ZjHL-qoEd7Bj",
        "colab": {
          "base_uri": "https://localhost:8080/"
        },
        "outputId": "997809d1-44bd-41ae-b7a1-56b36da6e7e8"
      },
      "source": [
        "# Örnek uygulamayı çalıştır\n",
        "\n",
        "# Bu ilk bilgisayar programım için ilk yorumum\n",
        "print(\"# bu bir yorum değildir\")\n",
        "print(\"Merhaba!\")  # yorumlar kod satırının devamında da yapılabilir.\n",
        "# print(\"Bu kod geçici olarak devre dışı bırakılmıştır.\")"
      ],
      "execution_count": null,
      "outputs": [
        {
          "output_type": "stream",
          "text": [
            "# bu bir yorum değildir\n",
            "Merhaba!\n"
          ],
          "name": "stdout"
        }
      ]
    },
    {
      "cell_type": "markdown",
      "metadata": {
        "id": "4ufK03hEiP76"
      },
      "source": [
        "**Görev:** Python kodunuza yeni bir yorum ekleyin, mevcut satıra yorum ekleyin, yazılmış olan bir kod satırını geçici olarak devre dışı bırakın!"
      ]
    },
    {
      "cell_type": "code",
      "metadata": {
        "id": "QzUppEjoXLPM",
        "colab": {
          "base_uri": "https://localhost:8080/"
        },
        "outputId": "bb736d43-eacd-4cd3-ac05-5eb2d0ad408a"
      },
      "source": [
        "#İlk Hafta Ödevim\n",
        "print(\"Bu satırın devamına bir yorum ekleyin\") #yorum\n",
        "#print(\"Bu satırı devre dışı bırakın!\")"
      ],
      "execution_count": null,
      "outputs": [
        {
          "output_type": "stream",
          "text": [
            "Bu satırın devamına bir yorum ekleyin\n"
          ],
          "name": "stdout"
        }
      ]
    },
    {
      "cell_type": "markdown",
      "metadata": {
        "id": "9JeaGlvQYylS"
      },
      "source": [
        "# Bölüm 02: Değişkenler\n",
        "Bu bölümde:\n",
        "\n",
        "\n",
        "*   Değişken nedir?,\n",
        "*   Değişken tanımlama,\n",
        "*   Değişken türleri,\n",
        "*   Değişken türü dönüştürme,\n",
        "*   Aritmetik operatörler,\n",
        "*   Artıtılmış atama operatörleri,\n",
        "*   Boolean operatörleri,\n",
        "*   Karşılaştırma operatörleri yer almaktadır.\n",
        "\n"
      ]
    },
    {
      "cell_type": "markdown",
      "metadata": {
        "id": "VzeGixS6Y919"
      },
      "source": [
        "## Değişken Nedir?\n",
        "Değişkenler değerleri depolamak için kullanılır. Böylece daha sonra bu değişkenler program içinden çağırılarak atanan değer tekrar ve tekrar kullanılabilir. Değişkenlere metinler ve / veya sayılar atanabilir. Sayı atamaları direkt rakamların yazılması ile gerçekleştirilirken, metin atamalarında metin tek tırnak içinde ( 'abc' ) ya da çift tırnak ( \"abc\" ) içinde atanır.\n",
        "\n",
        "Değişkenler etiketlere benzer ve atama operatörü olarak adlandırılan eşittir ( = ) operatörü ile bir değişkene bir değer atanabilir. Bir değer ataması zincirleme şeklinde gerçekleştirilebilir. Örneğin: a = b = 2"
      ]
    },
    {
      "cell_type": "markdown",
      "metadata": {
        "id": "7tWAdnNlZtQr"
      },
      "source": [
        "**Örnek Uygulama 1**\n",
        "\n",
        "Aşağıda bir \"zincir atama\" örneği yer almaktadır. Değer olarak atanan 2 hem  \"a\" değişkenine, hem de \"b\" değişkenine atanmaktadır.\n",
        "\n",
        "```\n",
        "a = b = 2\n",
        "print(\"a = \" + str(a))\n",
        "print(\"b = \" + str(b))\n",
        "```\n",
        "\n",
        "\"a\" ve \"b\" değişkenleri başka metinler ile birlikte ekrana yazdırılmak istendiğinde metin formatına çevrilmesi gerekmektedir. Bu bağlamda kullanılan \"str(a)\" ve  \"str(b)\" ifadeleri eğitimin ilerleyen bölümlerinde anlatılacaktır."
      ]
    },
    {
      "cell_type": "code",
      "metadata": {
        "id": "lmrymxeNjAR5",
        "colab": {
          "base_uri": "https://localhost:8080/"
        },
        "outputId": "bdad6933-2d55-4ba5-d74c-240d81f8011c"
      },
      "source": [
        "# Örnek uygulamayı çalıştır\n",
        "\n",
        "a = b = 2\n",
        "print(\"a = \" + str(a))\n",
        "print(\"b = \" + str(b))"
      ],
      "execution_count": null,
      "outputs": [
        {
          "output_type": "stream",
          "text": [
            "a = 2\n",
            "b = 2\n"
          ],
          "name": "stdout"
        }
      ]
    },
    {
      "cell_type": "markdown",
      "metadata": {
        "id": "3eqETZKEi7ZG"
      },
      "source": [
        "**Örnek Uygulama 2**\n",
        "\n",
        "\n",
        "```\n",
        "adSoyad = \"Orçun Madran\"\n",
        "print(\"Adı Soyadı: \" + adSoyad)\n",
        "```"
      ]
    },
    {
      "cell_type": "code",
      "metadata": {
        "id": "4iU4Hw7wjNzk",
        "colab": {
          "base_uri": "https://localhost:8080/"
        },
        "outputId": "5438536d-1d29-488f-8b2f-21730ab4cd49"
      },
      "source": [
        "# Örnek uygulamayı çalıştır\n",
        "\n",
        "adSoyad = \"Orçun Madran\"\n",
        "print(\"Adı Soyadı: \" + adSoyad)"
      ],
      "execution_count": null,
      "outputs": [
        {
          "output_type": "stream",
          "text": [
            "Adı Soyadı: Orçun Madran\n"
          ],
          "name": "stdout"
        }
      ]
    },
    {
      "cell_type": "markdown",
      "metadata": {
        "id": "szRkWMg9idf9"
      },
      "source": [
        "**Görev:** \"eposta\" adlı bir değişken oluşturun. Oluşturduğunuz bu değişkene bir e-posta adresi atayın. Daha sonra atadığınız bu değeri ekrana yazdırın. Örneğin: \"E-posta: orcun[at]madran.net\""
      ]
    },
    {
      "cell_type": "code",
      "metadata": {
        "id": "RmIa5BJsZ2EI",
        "colab": {
          "base_uri": "https://localhost:8080/"
        },
        "outputId": "93e76a58-06d8-4de4-bec0-0744588a7264"
      },
      "source": [
        "# Ekrana e-posta yazdır\n",
        "eposta = \"yagmurrcengizz@gmail.com\"\n",
        "print(\"E-posta: \" + eposta) "
      ],
      "execution_count": null,
      "outputs": [
        {
          "output_type": "stream",
          "text": [
            "E-posta: yagmurrcengizz@gmail.com\n"
          ],
          "name": "stdout"
        }
      ]
    },
    {
      "cell_type": "markdown",
      "metadata": {
        "id": "2irKEi_raxaB"
      },
      "source": [
        "## Değişken Tanımlama\n",
        "Değişken isimlerinde uyulması gereken bir takım kurallar vardır:\n",
        "\n",
        "\n",
        "*   Rakam ile başlayamaz.\n",
        "*   Boşluk kullanılamaz.\n",
        "*   Alt tire ( _ ) haricinde bir noktalama işareti kullanılamaz.\n",
        "*   Python içinde yerleşik olarak tanımlanmış anahtar kelimeler kullanılamaz (ör: print).\n",
        "*   Python 3. sürümden itibaren latin dışı karakter desteği olan \"Unicode\" desteği gelmiştir. Türkçe karakterler değişken isimlerinde kullanılabilir. \n",
        "\n",
        "**Dikkat:** Değişken isimleri büyük-küçük harfe duyarlıdır. Büyük harfle başlanan isimlendirmeler genelde *sınıflar* için kullanılır. Değişken isimlerinin daha anlaşılır olması için deve notasyonu (camelCase) ya da alt tire kullanımı tavsiye edilir.\n"
      ]
    },
    {
      "cell_type": "markdown",
      "metadata": {
        "id": "pOxCruNHdp9M"
      },
      "source": [
        "**Örnek Uygulama:**\n",
        "\n",
        "```\n",
        "degisken = 1\n",
        "kullaniciAdi = \"orcunmadran\"\n",
        "kul_ad = \"rafet\"\n",
        "```\n",
        "\n"
      ]
    },
    {
      "cell_type": "markdown",
      "metadata": {
        "id": "SVwQ0Tf-isfz"
      },
      "source": [
        "Henüz tanımlanmamış bir değişken kullanıldığında derleyicinin döndürdüğü hatayı kodu çalıştırarak gözlemleyin!"
      ]
    },
    {
      "cell_type": "code",
      "metadata": {
        "id": "1W14OfkxeGuN",
        "colab": {
          "base_uri": "https://localhost:8080/",
          "height": 180
        },
        "outputId": "0b8c3c60-d609-433a-e170-2b1238e8d156"
      },
      "source": [
        "degisken1 = \"Veri\"\n",
        "print(degisken2)"
      ],
      "execution_count": null,
      "outputs": [
        {
          "output_type": "error",
          "ename": "NameError",
          "evalue": "ignored",
          "traceback": [
            "\u001b[0;31m---------------------------------------------------------------------------\u001b[0m",
            "\u001b[0;31mNameError\u001b[0m                                 Traceback (most recent call last)",
            "\u001b[0;32m<ipython-input-1-031e866b659a>\u001b[0m in \u001b[0;36m<module>\u001b[0;34m()\u001b[0m\n\u001b[1;32m      1\u001b[0m \u001b[0mdegisken1\u001b[0m \u001b[0;34m=\u001b[0m \u001b[0;34m\"Veri\"\u001b[0m\u001b[0;34m\u001b[0m\u001b[0;34m\u001b[0m\u001b[0m\n\u001b[0;32m----> 2\u001b[0;31m \u001b[0mprint\u001b[0m\u001b[0;34m(\u001b[0m\u001b[0mdegisken2\u001b[0m\u001b[0;34m)\u001b[0m\u001b[0;34m\u001b[0m\u001b[0;34m\u001b[0m\u001b[0m\n\u001b[0m",
            "\u001b[0;31mNameError\u001b[0m: name 'degisken2' is not defined"
          ]
        }
      ]
    },
    {
      "cell_type": "markdown",
      "metadata": {
        "id": "GwLgmn1fi04Q"
      },
      "source": [
        "**Görev:** Tanımladığınız değişkeni ekrana yazdırın!"
      ]
    },
    {
      "cell_type": "code",
      "metadata": {
        "id": "JrNUlQAyeqHQ",
        "colab": {
          "base_uri": "https://localhost:8080/"
        },
        "outputId": "c7edaa36-abd2-47ff-a848-d6ef3ea90f81"
      },
      "source": [
        "degisken3 = 'Yeni veri'\n",
        "print(degisken3)"
      ],
      "execution_count": null,
      "outputs": [
        {
          "output_type": "stream",
          "text": [
            "Yeni veri\n"
          ],
          "name": "stdout"
        }
      ]
    },
    {
      "cell_type": "markdown",
      "metadata": {
        "id": "_6eRj3kmeyGw"
      },
      "source": [
        "## Değişken Türleri\n",
        "Python'da iki ana sayı türü vardır; tam sayılar ve ondalık sayılar.\n",
        "\n",
        "**Dikkat:** Ondalık sayıların yazımında Türkçe'de *virgül* (,) kullanılmasına rağmen, programlama dillerinin evrensel yazım kuralları içerisinde ondalık sayılar *nokta* (.) ile ifade edilir."
      ]
    },
    {
      "cell_type": "markdown",
      "metadata": {
        "id": "37MxozrGf1-F"
      },
      "source": [
        "**Örnek Uygulama:**\n",
        "\n",
        "```\n",
        "tamSayi = 5\n",
        "print(type(tamSayi))   # tamSayi değişkeninin türünü yazdırır\n",
        "\n",
        "ondalikSayi = 7.4\n",
        "print(type(ondalikSayi) # ondalikSayi değişkeninin türünü yazdırır\n",
        "```"
      ]
    },
    {
      "cell_type": "code",
      "metadata": {
        "id": "Vzg4x_inkN9h",
        "colab": {
          "base_uri": "https://localhost:8080/"
        },
        "outputId": "e715bcc7-a449-4e8d-8780-d393787b21f9"
      },
      "source": [
        "# Örnek uygulamayı çalıştır\n",
        "\n",
        "tamSayi = 5\n",
        "print(type(tamSayi))\n",
        "\n",
        "ondalikSayi = 7.4\n",
        "print(type(ondalikSayi))"
      ],
      "execution_count": null,
      "outputs": [
        {
          "output_type": "stream",
          "text": [
            "<class 'int'>\n",
            "<class 'float'>\n"
          ],
          "name": "stdout"
        }
      ]
    },
    {
      "cell_type": "markdown",
      "metadata": {
        "id": "asiOZVmbn_TO"
      },
      "source": [
        "**Görev:** \"sayi\" değişkeninin türünü belirleyerek ekrana yazdırın!"
      ]
    },
    {
      "cell_type": "code",
      "metadata": {
        "id": "UrGfF38CgjdQ",
        "cellView": "both",
        "colab": {
          "base_uri": "https://localhost:8080/"
        },
        "outputId": "8d2d1da4-e2f0-4c17-df81-0e6d7273f425"
      },
      "source": [
        "sayi = 9.0\n",
        "print(type(ondalikSayi))\n"
      ],
      "execution_count": null,
      "outputs": [
        {
          "output_type": "stream",
          "text": [
            "<class 'float'>\n"
          ],
          "name": "stdout"
        }
      ]
    },
    {
      "cell_type": "markdown",
      "metadata": {
        "id": "i3Qht_zmjLf2"
      },
      "source": [
        "## Değişken Türü Dönüştürme\n",
        "Bir veri türünü diğerine dönüştürmenize izin veren birkaç yerleşik fonksiyon (built-in function) vardır. Bu fonksiyonlar (\"int()\", \"str()\", \"float()\") uygulandıkları değişkeni dönüştürerek yeni bir nesne döndürürler. "
      ]
    },
    {
      "cell_type": "markdown",
      "metadata": {
        "id": "F-Zp8zfmkzJX"
      },
      "source": [
        "**Örnek Uygulama**\n",
        "\n",
        "\n",
        "```\n",
        "sayi = 6.5\n",
        "print(type(sayi)) # \"sayi\" değişkeninin türünü ondalık olarak yazdırır\n",
        "print(sayi)\n",
        "\n",
        "sayi = int(sayi)  # Ondalık sayı olan \"sayi\" değişkenini tam sayıya dönüştürür\n",
        "print(type(sayi))\n",
        "print(sayi)\n",
        "\n",
        "sayi = float(sayi) # Tam sayı olan \"sayi\" değişkenini ondalık sayıya dönüştürür\n",
        "print(type(sayi))\n",
        "print(sayi)\n",
        "\n",
        "sayi = str(sayi) # \"sayi\" değişkeni artık düz metin halini almıştır\n",
        "print(type(sayi))\n",
        "print(sayi)\n",
        "```"
      ]
    },
    {
      "cell_type": "code",
      "metadata": {
        "id": "G0bwb2rBkgVN",
        "colab": {
          "base_uri": "https://localhost:8080/"
        },
        "outputId": "d7e0ce9e-a351-41c6-84d7-e9030d169478"
      },
      "source": [
        "# Örnek uygulamayı çalıştır\n",
        "\n",
        "sayi = 6.5\n",
        "print(type(sayi))\n",
        "print(sayi)\n",
        " \n",
        "sayi = int(sayi)\n",
        "print(type(sayi))\n",
        "print(sayi)\n",
        " \n",
        "sayi = float(sayi)\n",
        "print(type(sayi))\n",
        "print(sayi)\n",
        " \n",
        "sayi = str(sayi)\n",
        "print(type(sayi))\n",
        "print(sayi)"
      ],
      "execution_count": null,
      "outputs": [
        {
          "output_type": "stream",
          "text": [
            "<class 'float'>\n",
            "6.5\n",
            "<class 'int'>\n",
            "6\n",
            "<class 'float'>\n",
            "6.0\n",
            "<class 'str'>\n",
            "6.0\n"
          ],
          "name": "stdout"
        }
      ]
    },
    {
      "cell_type": "markdown",
      "metadata": {
        "id": "7j51gKaIlM-u"
      },
      "source": [
        "**Görev:** Ondalık sayıyı tam sayıya dönüştürün ve ekrana değişken türünü ve değeri yazdırın!"
      ]
    },
    {
      "cell_type": "code",
      "metadata": {
        "id": "o9ZQ6Jr3lL6A",
        "colab": {
          "base_uri": "https://localhost:8080/"
        },
        "outputId": "99c2ebb9-6b37-4ac2-aa88-5abeac6884e7"
      },
      "source": [
        "sayi = 3.14\n",
        "sayi = int(sayi)\n",
        "print(type(sayi))\n",
        "print(sayi)\n"
      ],
      "execution_count": null,
      "outputs": [
        {
          "output_type": "stream",
          "text": [
            "<class 'int'>\n",
            "3\n"
          ],
          "name": "stdout"
        }
      ]
    },
    {
      "cell_type": "markdown",
      "metadata": {
        "id": "f5MK6vZOl6dG"
      },
      "source": [
        "## Aritmetik Operatörler\n",
        "Diğer tüm programlama dillerinde olduğu gibi, toplama (+), çıkarma (-), çarpma (yıldız) ve bölme (/) operatörleri sayılarla kullanılabilir. Bunlarla birlikte Python'un üs (çift yıldız) ve mod (%) operatörleri vardır.\n",
        "\n",
        "**Dikkat:** Matematik işlemlerinde geçerli olan aritmetik operatörlerin öncelik sıralamaları (çarpma, bölme, toplama, çıkarma) ve parantezlerin önceliği kuralları Python içindeki matematiksel işlemler için de geçerlidir. \n"
      ]
    },
    {
      "cell_type": "markdown",
      "metadata": {
        "id": "1THb0XpGmwSD"
      },
      "source": [
        "**Örnek Uygulama:**\n",
        "\n",
        "```\n",
        "# Toplama işlemi\n",
        "sayi = 7.0\n",
        "sonuc = sayi + 3.5\n",
        "print(sonuc)\n",
        "\n",
        "# Çıkarma işlemi\n",
        "sayi = 200\n",
        "sonuc = sayi - 35\n",
        "print(sonuc)\n",
        "\n",
        "# Çarpma işlemi\n",
        "sayi = 44\n",
        "sonuc = sayi * 10\n",
        "print(sonuc)\n",
        "\n",
        "# Bölme işlemi\n",
        "sayi = 30\n",
        "sonuc = sayi / 3\n",
        "print(sonuc)\n",
        "\n",
        "# Üs alma işlemi\n",
        "sayi = 30\n",
        "sonuc = sayi ** 3\n",
        "print(sonuc)\n",
        "\n",
        "# Mod alma işlemi \n",
        "sayi = 35\n",
        "sonuc = sayi % 4\n",
        "print(sonuc)\n",
        "```"
      ]
    },
    {
      "cell_type": "code",
      "metadata": {
        "id": "zdOXer1klJVQ",
        "colab": {
          "base_uri": "https://localhost:8080/"
        },
        "outputId": "a39d309a-0e12-4fb3-e768-f2745e22c9fe"
      },
      "source": [
        "# Örnek uygulamayı çalıştır\n",
        "\n",
        "# Toplama işlemi\n",
        "sayi = 7.0\n",
        "sonuc = sayi + 3.5\n",
        "print(sonuc)\n",
        " \n",
        "# Çıkarma işlemi\n",
        "sayi = 200\n",
        "sonuc = sayi - 35\n",
        "print(sonuc)\n",
        " \n",
        "# Çarpma işlemi\n",
        "sayi = 44\n",
        "sonuc = sayi * 10\n",
        "print(sonuc)\n",
        " \n",
        "# Bölme işlemi\n",
        "sayi = 30\n",
        "sonuc = sayi / 3\n",
        "print(sonuc)\n",
        " \n",
        "# Üs alma işlemi\n",
        "sayi = 30\n",
        "sonuc = sayi ** 3\n",
        "print(sonuc)\n",
        " \n",
        "# Mod alma işlemi \n",
        "sayi = 35\n",
        "sonuc = sayi % 4\n",
        "print(sonuc)"
      ],
      "execution_count": null,
      "outputs": [
        {
          "output_type": "stream",
          "text": [
            "10.5\n",
            "165\n",
            "440\n",
            "10.0\n",
            "27000\n",
            "3\n"
          ],
          "name": "stdout"
        }
      ]
    },
    {
      "cell_type": "markdown",
      "metadata": {
        "id": "jp3PvDghnJkY"
      },
      "source": [
        "**Görev:** Aşağıda değer atamaları tamamlanmış olan değişkenleri kullanarak ürünlerin peşin satın alınma bedelini TL olarak hesaplayınız ve ürün adı ile birlikte ekrana yazdırınız! İpucu: Ürün adını ve ürün bedelini tek bir satırda yazdırmak isterseniz ürün bedelini str() fonksiyonu ile düz metin değişken türüne çevirmeniz gerekir. "
      ]
    },
    {
      "cell_type": "code",
      "metadata": {
        "id": "oMY_MZjmndQj",
        "colab": {
          "base_uri": "https://localhost:8080/"
        },
        "outputId": "4d78ba03-71bc-4849-b5dc-b98d5c1e1d55"
      },
      "source": [
        "\n",
        "urunAdi = \"Bisiklet\"\n",
        "urunBedeliAvro = 850\n",
        "pariteAvroTL = 7\n",
        "urunAdet = 3\n",
        "pesinAdetIndirimTL = 500\n",
        "sonuc = urunBedeliAvro * urunAdet\n",
        "print(sonuc)\n",
        "sonuc1 = sonuc * kurAvro\n",
        "print(sonuc1)\n",
        "sonuc2 = pesinAdetIndirimTL * urunAdet\n",
        "print(sonuc2)\n",
        "sonuc3 = sonuc1 - sonuc2\n",
        "print(sonuc3)\n",
        "print(\"Bisiklet =\" + str(sonuc3) + \"TL\")\n"
      ],
      "execution_count": null,
      "outputs": [
        {
          "output_type": "stream",
          "text": [
            "2550\n",
            "17850\n",
            "1500\n",
            "16350\n",
            "Bisiklet =16350TL\n"
          ],
          "name": "stdout"
        }
      ]
    },
    {
      "cell_type": "code",
      "metadata": {
        "id": "WUZ-hIb25_ry"
      },
      "source": [
        ""
      ],
      "execution_count": null,
      "outputs": []
    },
    {
      "cell_type": "markdown",
      "metadata": {
        "id": "OUWeht_8nyCx"
      },
      "source": [
        "## Artırılmış Atama Operatörleri\n",
        "Artırılmış atama, bir değişkenin mevcut değerine belirlenen değerin eklenerek ( += ) ya da çıkartılarak ( -= ) atanması işlemidir. \n"
      ]
    },
    {
      "cell_type": "markdown",
      "metadata": {
        "id": "r-6ImrKCobv_"
      },
      "source": [
        "**Örnek Uygulama**\n",
        "\n",
        "```\n",
        "sayi = 8\n",
        "sayi += 4  # Mevcut değer olan 8'e 4 daha ekler.\n",
        "print(sayi) \n",
        "\n",
        "sayi -= 6 # Mevcut değer olan 12'den 6 eksiltir.\n",
        "print(\"Sayı = \" + str(sayi))\n",
        "```\n",
        "\n"
      ]
    },
    {
      "cell_type": "code",
      "metadata": {
        "id": "p281janglpzz",
        "colab": {
          "base_uri": "https://localhost:8080/"
        },
        "outputId": "3e373df0-dc50-48ba-b3ca-943e0c8c3fd2"
      },
      "source": [
        "# Örnek uygulama çalıştır\n",
        "\n",
        "sayi = 8\n",
        "sayi += 4\n",
        "print(sayi) \n",
        " \n",
        "sayi -= 6 \n",
        "print(\"Sayı = \" + str(sayi))"
      ],
      "execution_count": null,
      "outputs": [
        {
          "output_type": "stream",
          "text": [
            "12\n",
            "Sayı = 6\n"
          ],
          "name": "stdout"
        }
      ]
    },
    {
      "cell_type": "markdown",
      "metadata": {
        "id": "Du5w88EaovzQ"
      },
      "source": [
        "**Görev:** Artıtılmış atama operatörleri kullanarak \"sayi\" değişkenine 20 ekleyip, 10 çıkartarak değişkenin güncel değerini ekrana yazdırın! "
      ]
    },
    {
      "cell_type": "code",
      "metadata": {
        "id": "ro0-FwgDpCkx",
        "colab": {
          "base_uri": "https://localhost:8080/"
        },
        "outputId": "81cfda78-e200-4318-b2b0-7364e1d3622c"
      },
      "source": [
        "sayi = 55\n",
        "sayi+= 20\n",
        "print(sayi)\n",
        "sayi-=10\n",
        "print(\"Sayı =\" + str(sayi))"
      ],
      "execution_count": null,
      "outputs": [
        {
          "output_type": "stream",
          "text": [
            "75\n",
            "Sayı =65\n"
          ],
          "name": "stdout"
        }
      ]
    },
    {
      "cell_type": "markdown",
      "metadata": {
        "id": "C0G673j0pQD4"
      },
      "source": [
        "## Boolean Operatörleri\n",
        "Boolean, yalnızca **Doğru (True)** veya **Yanlış (False)** olabilen bir değer türüdür. Eşitlik (==) operatörleri karşılaştırılan iki değişkenin eşit olup olmadığını kontrol eder ve *True* ya da *False* değeri döndürür."
      ]
    },
    {
      "cell_type": "markdown",
      "metadata": {
        "id": "Trd3P6X4pwbu"
      },
      "source": [
        "**Örnek Uygulama:**\n",
        "\n",
        "```\n",
        "deger1 = 10\n",
        "deger2 = 10\n",
        "esitMi = (deger1 == deger2) # Eşit olup olmadıkları kontrol ediliyor\n",
        "print(esitMi) # Değişken \"True\" olarak dönüyor\n",
        "\n",
        "deger1 = \"Python\"\n",
        "deger2 = \"Piton\"\n",
        "esitMi = (deger1 == deger2) # Eşit olup olmadıkları kontrol ediliyor\n",
        "print(esitMi) # Değişken \"False\" olarak dönüyor\n",
        "```"
      ]
    },
    {
      "cell_type": "code",
      "metadata": {
        "id": "COYD_DtlmXgr",
        "colab": {
          "base_uri": "https://localhost:8080/"
        },
        "outputId": "dee9734e-f47e-45b0-c4ab-107374c76db8"
      },
      "source": [
        "# Örnek uygulama çalıştır\n",
        "\n",
        "deger1 = 10\n",
        "deger2 = 10\n",
        "esitMi = (deger1 == deger2) \n",
        "print(esitMi) \n",
        " \n",
        "deger1 = \"Python\"\n",
        "deger2 = \"Piton\"\n",
        "esitMi = (deger1 == deger2)\n",
        "print(esitMi)"
      ],
      "execution_count": null,
      "outputs": [
        {
          "output_type": "stream",
          "text": [
            "True\n",
            "False\n"
          ],
          "name": "stdout"
        }
      ]
    },
    {
      "cell_type": "markdown",
      "metadata": {
        "id": "QSvUSLN4p7Ra"
      },
      "source": [
        "**Görev:** Atamaları yapılmış olan değişkenler arasındaki eşitliği kontrol edin ve sonucu ekrana yazıdırın!"
      ]
    },
    {
      "cell_type": "code",
      "metadata": {
        "id": "ihVP2eQpttpv",
        "colab": {
          "base_uri": "https://localhost:8080/"
        },
        "outputId": "36ffe7e9-8a83-4af3-cc9e-bf46d9d685cf"
      },
      "source": [
        "sifre = \"Python2020\"\n",
        "sifreTekrar = \"Piton2020\"\n",
        "esitMi = (sifre == sifreTekrar)\n",
        "print(esitMi)"
      ],
      "execution_count": null,
      "outputs": [
        {
          "output_type": "stream",
          "text": [
            "False\n"
          ],
          "name": "stdout"
        }
      ]
    },
    {
      "cell_type": "markdown",
      "metadata": {
        "id": "NU2bhXlwuUtj"
      },
      "source": [
        "## Karşılaştırma Operatörleri\n",
        "Python'da, >=, <= , >, < vb. dahil olmak üzere birçok operatör bulunmaktadır. Python'daki tüm karşılaştırma operatörleri aynı önceliğe sahiptir. Karşılaştırma sonucunda boole değerleri (*True* ya da *False*) döner. Karşılaştırma operatörleri isteğe bağlı olarak arka arkaya da (zincirlenerek) kullanılabilir."
      ]
    },
    {
      "cell_type": "markdown",
      "metadata": {
        "id": "kUkH4Qe6vBIm"
      },
      "source": [
        "**Örnek Uygulama:**\n",
        "\n",
        "```\n",
        "deger1 = 5\n",
        "deger2 = 7\n",
        "deger3 = 9\n",
        "\n",
        "print(deger1 < deger2 < deger3)  # Sonuç \"True\" olarak dönecektir\n",
        "```\n",
        "\n"
      ]
    },
    {
      "cell_type": "code",
      "metadata": {
        "id": "NXpmIY32mwsY",
        "colab": {
          "base_uri": "https://localhost:8080/"
        },
        "outputId": "835832f6-f839-479f-b2dd-c602ff751d74"
      },
      "source": [
        "# Örnek uygulama çalıştır\n",
        "\n",
        "deger1 = 5\n",
        "deger2 = 7\n",
        "deger3 = 9\n",
        " \n",
        "print(deger1 < deger2 < deger3)"
      ],
      "execution_count": null,
      "outputs": [
        {
          "output_type": "stream",
          "text": [
            "True\n"
          ],
          "name": "stdout"
        }
      ]
    },
    {
      "cell_type": "markdown",
      "metadata": {
        "id": "JrbnTUNavEsJ"
      },
      "source": [
        "**Görev:** Aşağıda değer atamaları tamamlanmış olan değişkenleri kullanarak ürünlerin peşin satın alınma bedelini TL olarak hesaplayın. Toplam satın alma bedeli ile bütçenizi karşılaştırın. Satın alma bedelini ve bütçenizi ekrana yazdırın. Ödeme bütçenizi aşıyorsa ekrana \"False\", aşmıyorsa \"True\" yazdırın.  "
      ]
    },
    {
      "cell_type": "code",
      "metadata": {
        "id": "chsHnUn9vWDA",
        "colab": {
          "base_uri": "https://localhost:8080/"
        },
        "outputId": "e21c5f7d-d81c-4ff7-f664-c11e4a385886"
      },
      "source": [
        "urunAdi = \"Bisiklet\"\n",
        "urunBedeliAvro = 850\n",
        "kurAvro = 7\n",
        "urunAdet = 3\n",
        "pesinAdetIndirimTL = 500\n",
        "butce = 15000\n",
        "sonuc = urunBedeliAvro * urunAdet\n",
        "print(sonuc) \n",
        "sonuc1 = sonuc * kurAvro\n",
        "print(sonuc1)\n",
        "sonuc2 = pesinAdetIndirimTL * urunAdet\n",
        "print(sonuc2)\n",
        "sonuc3 = sonuc1 - sonuc2\n",
        "print(sonuc3)\n",
        "print(\"Bisiklet =\" + str(sonuc3) + \"TL\")\n",
        "deger1 = 16350\n",
        "deger2 = 15000\n",
        "print(deger1 < deger2)"
      ],
      "execution_count": null,
      "outputs": [
        {
          "output_type": "stream",
          "text": [
            "2550\n",
            "17850\n",
            "1500\n",
            "16350\n",
            "Bisiklet =16350TL\n",
            "False\n"
          ],
          "name": "stdout"
        }
      ]
    },
    {
      "cell_type": "markdown",
      "metadata": {
        "id": "qhLUJ8wJM79g"
      },
      "source": [
        "# Bölüm 03: Metin Katarları\n",
        "\n",
        "Bu bölümde:\n",
        "\n",
        "*   Birbirine bağlama,\n",
        "*   Metin katarı çarpımı,\n",
        "*   Metin katarı dizinleme,\n",
        "*   Metin katarı negatif dizinleme,\n",
        "*   Metin katarı dilimleme,\n",
        "*   In operatörü,\n",
        "*   Metin katarının uzunluğu,\n",
        "*   Özel karakterlerden kaçma,\n",
        "*   Basit metin katarı metodları,\n",
        "*   Metin katarı biçimlendirme yer almaktadır."
      ]
    },
    {
      "cell_type": "markdown",
      "metadata": {
        "id": "9UNmx1IUNSrB"
      },
      "source": [
        "## Birbirine Bağlama\n",
        "Birbirine bağlama artı (+) işlemini kullanarak iki metin katarının birleştirilmesi işlemine denir."
      ]
    },
    {
      "cell_type": "markdown",
      "metadata": {
        "id": "1CkYIUTqNhSR"
      },
      "source": [
        "**Örnek Uygulama**\n",
        "\n",
        "```\n",
        "deger1 = \"Merhaba\"\n",
        "deger2 = \"Dünya\"\n",
        "\n",
        "selamlama = deger1 + \" \" + deger2\n",
        "print(selamlama)      # Çıktı: Merhaba Dünya\n",
        "```\n",
        "\n"
      ]
    },
    {
      "cell_type": "code",
      "metadata": {
        "id": "-kLiOIo7Ku-F",
        "colab": {
          "base_uri": "https://localhost:8080/"
        },
        "outputId": "6eb4352d-fd54-4092-beb6-6ba2d8aba4d6"
      },
      "source": [
        "# Örnek uygulamayı çalışıtır\n",
        "\n",
        "deger1 = \"Merhaba\"\n",
        "deger2 = \"Dünya\"\n",
        "\n",
        "selamlama = deger1 + \" \" + deger2\n",
        "print(selamlama)"
      ],
      "execution_count": null,
      "outputs": [
        {
          "output_type": "stream",
          "text": [
            "Merhaba Dünya\n"
          ],
          "name": "stdout"
        }
      ]
    },
    {
      "cell_type": "markdown",
      "metadata": {
        "id": "n9rA4HAHNqI7"
      },
      "source": [
        "**Görev:** *ad*, *soyad* ve *hitap* değişkenlerini tek bir çıktıda birleştirecek kodu yazın! "
      ]
    },
    {
      "cell_type": "code",
      "metadata": {
        "id": "xyNs9VEFOHJc",
        "colab": {
          "base_uri": "https://localhost:8080/"
        },
        "outputId": "178fdea4-32b1-4c49-88ff-ddc22620d241"
      },
      "source": [
        "hitap = \"Öğr. Gör.\"\n",
        "ad = \"Orçun\"\n",
        "soyad = \"Madran\"\n",
        "cıktı = hitap + ad + soyad\n",
        "print(cıktı)"
      ],
      "execution_count": null,
      "outputs": [
        {
          "output_type": "stream",
          "text": [
            "Öğr. Gör.OrçunMadran\n"
          ],
          "name": "stdout"
        }
      ]
    },
    {
      "cell_type": "markdown",
      "metadata": {
        "id": "ipcnECBCOKWX"
      },
      "source": [
        "## Metin Katarı Çarpımı\n",
        "Python, metin katarlarının çarpım sayısı kadar tekrar ettirilmesini desteklemektedir."
      ]
    },
    {
      "cell_type": "markdown",
      "metadata": {
        "id": "HXxuq9kMO2xm"
      },
      "source": [
        "**Örnek Uygulama**\n",
        "\n",
        "```\n",
        "metin = \"Hadi! \"\n",
        "metniCarp = metin * 4\n",
        "print(metniCarp) # Çıktı: Hadi! Hadi! Hadi! Hadi! \n",
        "```\n",
        "\n"
      ]
    },
    {
      "cell_type": "code",
      "metadata": {
        "id": "12AYvND7LYwN",
        "colab": {
          "base_uri": "https://localhost:8080/"
        },
        "outputId": "201a56ea-3b20-4349-d583-9043432d830c"
      },
      "source": [
        "# Örnek uygulamayı çalıştır\n",
        "\n",
        "metin = \"Hadi! \"\n",
        "metniCarp = metin * 4\n",
        "print(metniCarp)"
      ],
      "execution_count": null,
      "outputs": [
        {
          "output_type": "stream",
          "text": [
            "Hadi! Hadi! Hadi! Hadi! \n"
          ],
          "name": "stdout"
        }
      ]
    },
    {
      "cell_type": "markdown",
      "metadata": {
        "id": "56NercDUOh8x"
      },
      "source": [
        "**Görev:** Sizi sürekli bekleten arkadaşınızı uyarabilmek için istediğiniz sayıda \"Hadi!\" kelimesini ekrana yazdırın!"
      ]
    },
    {
      "cell_type": "code",
      "metadata": {
        "id": "j_CdqS1bPHAb",
        "colab": {
          "base_uri": "https://localhost:8080/"
        },
        "outputId": "de1065a8-835c-4a81-9329-507ac9501503"
      },
      "source": [
        "metin = \"Hadi! \"\n",
        "metniCarp = metin * 8\n",
        "print(metniCarp)\n",
        "# Çıktı: Hadi! Hadi! Hadi! Hadi! ... Hadi!"
      ],
      "execution_count": null,
      "outputs": [
        {
          "output_type": "stream",
          "text": [
            "Hadi! Hadi! Hadi! Hadi! Hadi! Hadi! Hadi! Hadi! \n"
          ],
          "name": "stdout"
        }
      ]
    },
    {
      "cell_type": "markdown",
      "metadata": {
        "id": "Xo6sOrv-PpgY"
      },
      "source": [
        "##Metin Katarı Dizinleme\n",
        "Konumu biliniyorsa, bir metin katarındaki ilgili karaktere erişilebilir. Örneğin; str[index] metin katarındaki indeks numarasının karşılık geldiği karakteri geri döndürecektir. İndekslerin her zaman 0'dan başladığı unutulmamalıdır. İndeksler, sağdan saymaya başlamak için negatif sayılar da olabilir. -0, 0 ile aynı olduğundan, negatif indeksler -1 ile başlar."
      ]
    },
    {
      "cell_type": "markdown",
      "metadata": {
        "id": "VV71MAQFQaPs"
      },
      "source": [
        "**Örnek Uygulama**\n",
        "\n",
        "```\n",
        "metin = \"Python Programlama Dili\"\n",
        "print(\"'h' harfini yakala: \" + metin[3]) # Çıktı: 'h' harfini yakala: h\"\n",
        "```\n"
      ]
    },
    {
      "cell_type": "code",
      "metadata": {
        "id": "S7c1TXGlL3XI",
        "colab": {
          "base_uri": "https://localhost:8080/"
        },
        "outputId": "0b6c388e-701e-4277-9209-41fc2e083914"
      },
      "source": [
        "# örnek uygulama çalıştır\n",
        "\n",
        "metin = \"Python Programlama Dili\"\n",
        "print(\"'h' harfini yakala: \" + metin[3])"
      ],
      "execution_count": null,
      "outputs": [
        {
          "output_type": "stream",
          "text": [
            "'h' harfini yakala: h\n"
          ],
          "name": "stdout"
        }
      ]
    },
    {
      "cell_type": "markdown",
      "metadata": {
        "id": "55Lviae-QTax"
      },
      "source": [
        "**Görev:** İndeks numarasını kullanarak metin katarındaki ikinci \"P\" harfini ekrana yazdırın!\n"
      ]
    },
    {
      "cell_type": "code",
      "metadata": {
        "id": "dHJ48v5WQe4c",
        "colab": {
          "base_uri": "https://localhost:8080/"
        },
        "outputId": "2d79a513-be06-4496-ea05-4baed5077bff"
      },
      "source": [
        "metin = \"Python Programlama Dili\"\n",
        "print(\"İkinci 'P' harfini ekrana yazdırın:\" + metin[7])\n",
        "# Çıktı: P"
      ],
      "execution_count": null,
      "outputs": [
        {
          "output_type": "stream",
          "text": [
            "İkinci 'P' harfini ekrana yazdırın:P\n"
          ],
          "name": "stdout"
        }
      ]
    },
    {
      "cell_type": "markdown",
      "metadata": {
        "id": "op2D6v9xQsRe"
      },
      "source": [
        "## Metin Katarı Negatif Dizinleme\n",
        "Metin katarının sonlarında yer alan bir karaktere daha rahat erişebilmek için indeks numarası negatif bir değer olarak belirlenebilir."
      ]
    },
    {
      "cell_type": "markdown",
      "metadata": {
        "id": "kZTrtqD6RM7j"
      },
      "source": [
        "**Örnek Uygulama**\n",
        "\n",
        "```\n",
        "metin = \"Python Programlama Dili\"\n",
        "dHarfi = metin[-4]\n",
        "print(dHarfi) # Çıktı: D\n",
        "```\n",
        "\n"
      ]
    },
    {
      "cell_type": "code",
      "metadata": {
        "id": "_iG5JXqmM96K",
        "colab": {
          "base_uri": "https://localhost:8080/"
        },
        "outputId": "4d894e3c-7b80-42d6-a6d8-a3a9a9f175f0"
      },
      "source": [
        "# Örnek uygulama çalıştır\n",
        "\n",
        "metin = \"Python Programlama Dili\"\n",
        "dHarfi = metin[-4]\n",
        "print(dHarfi)"
      ],
      "execution_count": null,
      "outputs": [
        {
          "output_type": "stream",
          "text": [
            "D\n"
          ],
          "name": "stdout"
        }
      ]
    },
    {
      "cell_type": "markdown",
      "metadata": {
        "id": "ZM6vbbChQ_4R"
      },
      "source": [
        "**Görev:** Metin katarının sonunda yer alan \"i\" harfini ekrana yazdırın!"
      ]
    },
    {
      "cell_type": "code",
      "metadata": {
        "id": "d49Cfw-FRJMT",
        "colab": {
          "base_uri": "https://localhost:8080/"
        },
        "outputId": "d260b717-236f-4e3a-fa1c-3551b8026283"
      },
      "source": [
        "metin = \"Python Programlama Dili\"\n",
        "iHarfi = metin[-1]\n",
        "print(iHarfi)\n",
        "#Çıktı: i"
      ],
      "execution_count": null,
      "outputs": [
        {
          "output_type": "stream",
          "text": [
            "i\n"
          ],
          "name": "stdout"
        }
      ]
    },
    {
      "cell_type": "markdown",
      "metadata": {
        "id": "xPgrx41FRbrw"
      },
      "source": [
        "##Metin Katarı Dilimleme\n",
        "Dilimleme, bir metin katarından birden çok karakter (bir alt katar oluşturmak) almak için kullanılır. Söz dizimi indeks numarası ile bir karaktere erişmeye benzer, ancak iki nokta üst üste işaretiyle ayrılmış iki indeks numarası kullanılır. Ör: str[ind1:ind2].\n",
        "\n",
        "Noktalı virgülün solundaki indeks numarası belirlenmezse ilk karakterden itibaren (ilk karakter dahil) seçimin yapılacağı anlamına gelir. Ör: str[:ind2]\n",
        "\n",
        "Noktalı virgülün sağındaki indeks numarası belirlenmezse son karaktere kadar (son karakter dahil) seçimin yapılacağı anlamına gelir. Ör: str[ind1:]"
      ]
    },
    {
      "cell_type": "markdown",
      "metadata": {
        "id": "X_MHtUgUSFpY"
      },
      "source": [
        "**Örnek Uygulama**\n",
        "\n",
        "```\n",
        "metin = \"Python Programlama Dili\"\n",
        "dilimle = metin[:6]      \n",
        "print(dilimle) # Çıktı: Python\n",
        "\n",
        "metin = \"Python Programlama Dili\" \n",
        "print(metin[7:]) # Çıktı: Programlama Dili\n",
        "\n",
        "```\n",
        "\n"
      ]
    },
    {
      "cell_type": "code",
      "metadata": {
        "id": "UDTKDiPeNh_a",
        "colab": {
          "base_uri": "https://localhost:8080/"
        },
        "outputId": "7669e026-ee04-47a3-e71d-b06652852749"
      },
      "source": [
        "# Örnek uygulama çalıştır\n",
        "\n",
        "metin = \"Python Programlama Dili\"\n",
        "dilimle = metin[:6]      \n",
        "print(dilimle)\n",
        "\n",
        "metin = \"Python Programlama Dili\" \n",
        "print(metin[7:])"
      ],
      "execution_count": null,
      "outputs": [
        {
          "output_type": "stream",
          "text": [
            "Python\n",
            "Programlama Dili\n"
          ],
          "name": "stdout"
        }
      ]
    },
    {
      "cell_type": "markdown",
      "metadata": {
        "id": "SjPJOtqUR7rT"
      },
      "source": [
        "**Görev:** Metin katarını dilemleyerek katarda yer alan üç kelimeyi de ayrı ayrı (alt alta) ekrana yazdırın!."
      ]
    },
    {
      "cell_type": "code",
      "metadata": {
        "id": "bHxs-WnaSKie",
        "colab": {
          "base_uri": "https://localhost:8080/"
        },
        "outputId": "db5ea163-9864-43fa-b046-fe84d27f6641"
      },
      "source": [
        "metin = \"Python Programlama Dili\" \n",
        "dilimle = metin[:6]\n",
        "print(dilimle)\n",
        "metin = \"Programlama Dili\"\n",
        "dilimle = metin[:11]\n",
        "print(dilimle)\n",
        "dilimle1 = metin[12:]\n",
        "print(dilimle1)\n",
        "# Çıktı:\n",
        "# Python\n",
        "# Programlama\n",
        "# Dili"
      ],
      "execution_count": null,
      "outputs": [
        {
          "output_type": "stream",
          "text": [
            "Python\n",
            "Programlama\n",
            "Dili\n"
          ],
          "name": "stdout"
        }
      ]
    },
    {
      "cell_type": "markdown",
      "metadata": {
        "id": "aIfLylzcShEG"
      },
      "source": [
        "##In Operatörü\n",
        "Bir metin katarının belirli bir harf ya da bir alt katar içerip içermediğini kontrol etmek için, in anahtar sözcüğü kullanılır."
      ]
    },
    {
      "cell_type": "markdown",
      "metadata": {
        "id": "pZZxStolS-Rg"
      },
      "source": [
        "**Örnek Uygulama**\n",
        "\n",
        "```\n",
        "metin = \"Python Programlama Dili\"\n",
        "print(\"Programlama\" in metin)    # Çıktı: True\n",
        "```\n",
        "\n"
      ]
    },
    {
      "cell_type": "markdown",
      "metadata": {
        "id": "551pDT0YS14M"
      },
      "source": [
        "**Görev:** Metin katarında \"Python\" kelimesinin geçip geçmediğini kontrol ederek ekrana yazdırın!"
      ]
    },
    {
      "cell_type": "code",
      "metadata": {
        "id": "2CpxVwHMTENL",
        "colab": {
          "base_uri": "https://localhost:8080/"
        },
        "outputId": "9f340be2-3e78-4cc5-eb87-4dcc93c8d42a"
      },
      "source": [
        "metin = \"Python Programlama Dili\"\n",
        "print(\"Python\" in metin)"
      ],
      "execution_count": null,
      "outputs": [
        {
          "output_type": "stream",
          "text": [
            "True\n"
          ],
          "name": "stdout"
        }
      ]
    },
    {
      "cell_type": "markdown",
      "metadata": {
        "id": "mKLQLw8_TJyz"
      },
      "source": [
        "##Metin Katarının Uzunluğu\n",
        "Bir metin katarının kaç karakter içerdiğini saymak için len() yerleşik fonksiyonu kullanılır. "
      ]
    },
    {
      "cell_type": "markdown",
      "metadata": {
        "id": "aa4IkB7CTuyr"
      },
      "source": [
        "**Örnek Uygulama**\n",
        "\n",
        "```\n",
        "metin = \"Python programlama dili\"\n",
        "print(len(metin)) # Çıktı: 23\n",
        "```\n",
        "\n"
      ]
    },
    {
      "cell_type": "code",
      "metadata": {
        "id": "dOa6Pu2CPpW7",
        "colab": {
          "base_uri": "https://localhost:8080/"
        },
        "outputId": "50608436-7aa0-4ed0-d69c-ddfbfe78cf47"
      },
      "source": [
        "# Örnek uygulamayı çalıştır\n",
        "\n",
        "metin = \"Python programlama dili\"\n",
        "print(len(metin)) "
      ],
      "execution_count": null,
      "outputs": [
        {
          "output_type": "stream",
          "text": [
            "23\n"
          ],
          "name": "stdout"
        }
      ]
    },
    {
      "cell_type": "markdown",
      "metadata": {
        "id": "BF5DPvyuTa4R"
      },
      "source": [
        "**Görev:** Metin katarındaki cümlenin ilk yarısını ekrana yazdırın! Yazılan kod cümlenin uzunluğundan bağımsız olarak cümleyi ikiye bölmelidir."
      ]
    },
    {
      "cell_type": "code",
      "metadata": {
        "id": "Uvnr2f1XT05N",
        "colab": {
          "base_uri": "https://localhost:8080/"
        },
        "outputId": "d1538c91-2d74-43da-9bfd-b5279675e998"
      },
      "source": [
        "metin = \"Python programlama dili, dünyada eğitim amacıyla en çok kullanılan programlama dillerinin başında gelir.\"\n",
        "boyut = (len(metin))\n",
        "print(metin[:int(boyut/2)])\n",
        "# Çıktı: Python programlama dili, dünyada eğitim amacıyla en"
      ],
      "execution_count": null,
      "outputs": [
        {
          "output_type": "stream",
          "text": [
            "Python programlama dili, dünyada eğitim amacıyla en \n"
          ],
          "name": "stdout"
        }
      ]
    },
    {
      "cell_type": "markdown",
      "metadata": {
        "id": "T_u1X0aKVAO2"
      },
      "source": [
        "## Özel Karakterlerden Kaçma\n",
        "Metin katarları içerisinde tek ve çift tırnak kullanımı kimi zaman sorunlara yol açmaktadır. Bu karakterin metin katarları içerisinde kullanılabilmesi için \"Ters Eğik Çizgi\" ile birlikte kullanılırlar. \n",
        "\n",
        "Örneğin: 'Önümüzdeki ay \"Ankara'da Python Eğitimi\" gerçekleştirilecek' cümlesindeki tek tırnak kullanımı soruna yol açacağından 'Önümüzdeki ay \"Ankara\\'da Python Eğitimi\" gerçekleştirilecek' şeklinde kullanılmalıdır.\n",
        "\n",
        "**İpucu:** Tek tırnaklı metin katarlarından kaçmak için çift tırnak ya da tam tersi kullanılabilir."
      ]
    },
    {
      "cell_type": "markdown",
      "metadata": {
        "id": "bJX6J5bvVbZa"
      },
      "source": [
        "**Örnek Uygulama**\n",
        "\n",
        "```\n",
        "metin = 'Önümüzdeki ay \"Ankara\\'da Python Eğitimi\" gerçekleştirilecektir.'\n",
        "print(metin) #Çıktı: Önümüzdeki ay \"Ankara'da Python Eğitimi\" gerçekleştirilecektir.\n",
        "\n",
        "metin = 'Önümüzdeki ay \"Ankara'da Python Eğitimi\" gerçekleştirilecektir.'\n",
        "print(metin) # Çıktı: Geçersiz söz dizimi hatası dönecektir. \n",
        "```\n",
        "\n"
      ]
    },
    {
      "cell_type": "code",
      "metadata": {
        "id": "GopY-yJSQ8Z_",
        "colab": {
          "base_uri": "https://localhost:8080/"
        },
        "outputId": "c438e440-9a41-4b99-e2b9-a0f12c2653ef"
      },
      "source": [
        "# Örnek uygulamayı çalıştır\n",
        "\n",
        "metin = 'Önümüzdeki ay \"Ankara\\'da Python Eğitimi\" gerçekleştirilecektir.'\n",
        "print(metin)"
      ],
      "execution_count": null,
      "outputs": [
        {
          "output_type": "stream",
          "text": [
            "Önümüzdeki ay \"Ankara'da Python Eğitimi\" gerçekleştirilecektir.\n"
          ],
          "name": "stdout"
        }
      ]
    },
    {
      "cell_type": "code",
      "metadata": {
        "id": "a0TZUON2Qd2X",
        "colab": {
          "base_uri": "https://localhost:8080/",
          "height": 129
        },
        "outputId": "a46a9bfa-3c09-4a21-c473-573770b3494d"
      },
      "source": [
        "# Örnek uygulamadaki hatayı gözlemle\n",
        "\n",
        "metin = 'Önümüzdeki ay \"Ankara'da Python Eğitimi\" gerçekleştirilecektir.'\n",
        "print(metin)"
      ],
      "execution_count": null,
      "outputs": [
        {
          "output_type": "error",
          "ename": "SyntaxError",
          "evalue": "ignored",
          "traceback": [
            "\u001b[0;36m  File \u001b[0;32m\"<ipython-input-106-7067b27e1e4c>\"\u001b[0;36m, line \u001b[0;32m3\u001b[0m\n\u001b[0;31m    metin = 'Önümüzdeki ay \"Ankara'da Python Eğitimi\" gerçekleştirilecektir.'\u001b[0m\n\u001b[0m                                    ^\u001b[0m\n\u001b[0;31mSyntaxError\u001b[0m\u001b[0;31m:\u001b[0m invalid syntax\n"
          ]
        }
      ]
    },
    {
      "cell_type": "markdown",
      "metadata": {
        "id": "5520MewzVPmx"
      },
      "source": [
        "**Görev:** Metin katarındaki cümlede yer alan noktalama işaretlerinden uygun şekilde kaçarak cümleyi ekrana yazdırın!"
      ]
    },
    {
      "cell_type": "code",
      "metadata": {
        "id": "A8Gpec2uVhxU",
        "colab": {
          "base_uri": "https://localhost:8080/"
        },
        "outputId": "785fcc62-3e7c-4788-abb7-31af3c498261"
      },
      "source": [
        "metin = 'Bilimsel çalışmalarda \"Python\" kullanımı Türkiye\\'de çok yaygınlaştı!'\n",
        "print(metin)"
      ],
      "execution_count": null,
      "outputs": [
        {
          "output_type": "stream",
          "text": [
            "Bilimsel çalışmalarda \"Python\" kullanımı Türkiye'de çok yaygınlaştı!\n"
          ],
          "name": "stdout"
        }
      ]
    },
    {
      "cell_type": "markdown",
      "metadata": {
        "id": "cft6m1VaVqVH"
      },
      "source": [
        "##Basit Metin Katarı Metodları\n",
        "Python içinde birçok yerleşik metin katarı fonksiyonu vardır. En çok kullanılan fonksiyonlardan bazıları olarak;\n",
        "\n",
        "* tüm harfleri büyük harfe dönüştüren *upper()*,\n",
        "* tüm harfleri küçük harfe dönüştüren *lower()*,\n",
        "* sadece cümlenin ilk harfini büyük hale getiren *capitalize()* sayılabilir.\n",
        "\n",
        "**İpucu:** Python'daki yerleşik fonksiyonların bir listesini görüntüleyebilmek için metin katarından sonra bir nokta (.) koyulur ve uygun olan fonksiyonlar arayüz tarafından otomatik olarak listelenir. Bu yardımcı işlevi tetiklemek için CTRL + Bolşuk tuş kombinasyonu da kullanılabilir."
      ]
    },
    {
      "cell_type": "markdown",
      "metadata": {
        "id": "S3-V5gloV3MM"
      },
      "source": [
        "**Örnek Uygulama**\n",
        "\n",
        "```\n",
        "metin = \"Python Programlama Dili\"\n",
        "print(metin.lower())    # Çıktı: python programlama dili\n",
        "print(metin.upper())    # Çıktı: PYTHON PROGRAMLAMA DILI\n",
        "print(metin.capitalize())    # Çıktı: Python programlama dili\n",
        "```\n",
        "\n"
      ]
    },
    {
      "cell_type": "code",
      "metadata": {
        "id": "x6OiDHydSKra",
        "colab": {
          "base_uri": "https://localhost:8080/"
        },
        "outputId": "1c822db2-8c48-408c-9c75-f2cf57a778f6"
      },
      "source": [
        "# Örnek uygulamayı çalıştır\n",
        "\n",
        "metin = \"Python Programlama Dili\"\n",
        "print(metin.lower())\n",
        "print(metin.upper())\n",
        "print(metin.capitalize())"
      ],
      "execution_count": null,
      "outputs": [
        {
          "output_type": "stream",
          "text": [
            "python programlama dili\n",
            "PYTHON PROGRAMLAMA DILI\n",
            "Python programlama dili\n"
          ],
          "name": "stdout"
        }
      ]
    },
    {
      "cell_type": "markdown",
      "metadata": {
        "id": "-ko2Gpq_Vz23"
      },
      "source": [
        "**Görev:** *anahtarKelime* ve *arananKelime* değişkenlerinde yer alan metinler karşılaştırıldığında birbirlerine eşit (==) olmalarını sağlayın ve dönen değerin \"True\" olmasını sağlayın!"
      ]
    },
    {
      "cell_type": "code",
      "metadata": {
        "id": "XfaN4psBV8wr",
        "colab": {
          "base_uri": "https://localhost:8080/"
        },
        "outputId": "f7488483-fdc2-4ef3-9f66-1436182f18ba"
      },
      "source": [
        "anahtarKelime = \"Makine Öğrenmesi\"\n",
        "arananKelime = \"makine öğrenmesi\"\n",
        "print(anahtarKelime.lower() == arananKelime) # Çıktı: True"
      ],
      "execution_count": null,
      "outputs": [
        {
          "output_type": "stream",
          "text": [
            "True\n"
          ],
          "name": "stdout"
        }
      ]
    },
    {
      "cell_type": "markdown",
      "metadata": {
        "id": "16m1oC6LWEdJ"
      },
      "source": [
        "##Metin Katarı Biçimlendirme\n",
        "Bir metin katarından sonraki % operatörü, bir metin katarını değişkenlerle birleştirmek için kullanılır. % operatörü, bir metin katarıdanki % s öğesini, arkasından gelen değişkenle değiştirir. % d sembolü ise, sayısal veya ondalık değerler için yer tutucu olarak kullanılır."
      ]
    },
    {
      "cell_type": "markdown",
      "metadata": {
        "id": "1l70j4-3WP4b"
      },
      "source": [
        "**Örnek Uygulama**\n",
        "\n",
        "```\n",
        "adsoyad = \"Orçun Madran\"\n",
        "dogumTarihi = 1976\n",
        "\n",
        "print(\"Merhaba, ben %s!\" % adsoyad) #  Çıktı: Merhaba, ben Orçun Madran!\n",
        "print(\"Ben %d doğumluyum\" % dogumTarihi) #  Ben 1976 doğumluyum.\n",
        "\n",
        "ad = \"Orçun\"\n",
        "soyad = \"Madran\"\n",
        "\n",
        "print(\"Merhaba, ben %s %s!\" % (ad, soyad)) #  Çıktı: Merhaba, ben Orçun Madran!\n",
        "```\n",
        "\n"
      ]
    },
    {
      "cell_type": "code",
      "metadata": {
        "id": "L1lvJBIVSzRK",
        "colab": {
          "base_uri": "https://localhost:8080/"
        },
        "outputId": "1ca3805d-72d1-4629-b2af-d6099c43ca68"
      },
      "source": [
        "# Örnek uygulamayı çalıştır\n",
        "\n",
        "adsoyad = \"Orçun Madran\"\n",
        "dogumTarihi = 1976\n",
        "\n",
        "print(\"Merhaba, ben %s!\" % adsoyad)\n",
        "print(\"Ben %d doğumluyum\" % dogumTarihi)"
      ],
      "execution_count": null,
      "outputs": [
        {
          "output_type": "stream",
          "text": [
            "Merhaba, ben Orçun Madran!\n",
            "Ben 1976 doğumluyum\n"
          ],
          "name": "stdout"
        }
      ]
    },
    {
      "cell_type": "code",
      "metadata": {
        "id": "YEhvVmn0TAlx",
        "colab": {
          "base_uri": "https://localhost:8080/"
        },
        "outputId": "148c0d20-306d-4124-c590-42f49ccd1d2d"
      },
      "source": [
        "# Örnek uygulamayı çalıştır\n",
        "\n",
        "ad = \"Orçun\"\n",
        "soyad = \"Madran\"\n",
        "\n",
        "print(\"Merhaba, ben %s %s!\" % (ad, soyad))"
      ],
      "execution_count": null,
      "outputs": [
        {
          "output_type": "stream",
          "text": [
            "Merhaba, ben Orçun Madran!\n"
          ],
          "name": "stdout"
        }
      ]
    },
    {
      "cell_type": "markdown",
      "metadata": {
        "id": "b7ny_Q7uWJJX"
      },
      "source": [
        "**Görev:** \"Merhaba Orçun Madran, bu dönemki dersiniz 'Programlama Dilleri'. Başarılar!\" cümlesini ekrana biçimlendirmeyi kullanarak (artı işaretini kullanmadan) yazdırın!"
      ]
    },
    {
      "cell_type": "code",
      "metadata": {
        "id": "HxYY3XqGWYsi",
        "colab": {
          "base_uri": "https://localhost:8080/"
        },
        "outputId": "9c024937-9684-46b8-9752-9480d0c6b946"
      },
      "source": [
        "ad = \"Orçun\"\n",
        "soyad = \"Madran\"\n",
        "ders = \"Programlama Dilleri\"\n",
        "print(\"Merhaba %s %s,\" % (ad,soyad))\n",
        "print(\"bu dönemki dersiniz %s. Başarılar!\" % ders)\n",
        "# Çıktı: Merhaba Orçun Madran, bu dönemki dersiniz \"Programlama Dilleri\". Başarılar!"
      ],
      "execution_count": null,
      "outputs": [
        {
          "output_type": "stream",
          "text": [
            "Merhaba Orçun Madran,\n",
            "bu dönemki dersiniz Programlama Dilleri. Başarılar!\n"
          ],
          "name": "stdout"
        }
      ]
    },
    {
      "cell_type": "markdown",
      "metadata": {
        "id": "nTiryVt-EuJP"
      },
      "source": [
        "# Bölüm 04: Veri Yapılar\n",
        "\n",
        "Bu bölümde:\n",
        "\n",
        "*   Listeler,\n",
        "*   Liste işlemleri,\n",
        "*   Liste öğeleri,\n",
        "*   Demetler (Tuples),\n",
        "*   Sözlükler,\n",
        "*   Sözlük değerleri ve anahtarları,\n",
        "*   In anahtar kelimesinin kullanımı yer almaktadır.\n"
      ]
    },
    {
      "cell_type": "markdown",
      "metadata": {
        "id": "H78J_wNDE1Id"
      },
      "source": [
        "## Listeler\n",
        "Liste, birden fazla değeri tek bir değişken adı altında saklamak için kullanabileceğiniz bir veri yapısıdır. Bir liste köşeli parantez arasında virgülle ayrılmış değerler dizisi olarak yazılır. Ör: liste = [deger1, deger2].\n",
        "\n",
        "Listeler farklı türden öğeler içerebilir, ancak genellikle listedeki tüm öğeler aynı türdedir. Metin katarları gibi listeler de dizine eklenebilir ve dilimlenebilir. (Bkz. Bölüm 3)."
      ]
    },
    {
      "cell_type": "markdown",
      "metadata": {
        "id": "O4TC5Qs2Ge8H"
      },
      "source": [
        "**Örnek Uygulama**\n",
        "\n",
        "```\n",
        "acikListe = [\"Açık Bilim\", \"Açık Erişim\", \"Açık Veri\", \"Açık Eğitim\", \"Açık Kaynak\"]   # acikListe adında yeni bir liste oluşturur\n",
        "\n",
        "print(acikListe) # Çıktı: ['Açık Bilim', 'Açık Erişim', 'Açık Veri', 'Açık Eğitim', 'Açık Kaynak']\n",
        "```\n",
        "\n"
      ]
    },
    {
      "cell_type": "code",
      "metadata": {
        "id": "p1GRzMQkUgX0",
        "colab": {
          "base_uri": "https://localhost:8080/"
        },
        "outputId": "35566aab-af88-43b3-9a73-acf142488a0b"
      },
      "source": [
        "# Örnek uygulamayı çalıştır\n",
        "\n",
        "acikListe = [\"Açık Bilim\", \"Açık Erişim\", \"Açık Veri\", \"Açık Eğitim\", \"Açık Kaynak\"]\n",
        "print(acikListe)"
      ],
      "execution_count": null,
      "outputs": [
        {
          "output_type": "stream",
          "text": [
            "['Açık Bilim', 'Açık Erişim', 'Açık Veri', 'Açık Eğitim', 'Açık Kaynak']\n"
          ],
          "name": "stdout"
        }
      ]
    },
    {
      "cell_type": "markdown",
      "metadata": {
        "id": "ZqYRBLZSIJvi"
      },
      "source": [
        "**Görev 1:** acikListe içinde yer alan 3. liste öğesini ekrana yazıdırın! "
      ]
    },
    {
      "cell_type": "code",
      "metadata": {
        "id": "bVSMLdnLG7Kx",
        "colab": {
          "base_uri": "https://localhost:8080/"
        },
        "outputId": "02f5956f-7fed-485b-882d-ae9d47215143"
      },
      "source": [
        "acikListe = [\"Açık Bilim\", \"Açık Erişim\", \"Açık Veri\", \"Açık Eğitim\", \"Açık Kaynak\"]\n",
        "print(acikListe[3])"
      ],
      "execution_count": null,
      "outputs": [
        {
          "output_type": "stream",
          "text": [
            "Açık Eğitim\n"
          ],
          "name": "stdout"
        }
      ]
    },
    {
      "cell_type": "markdown",
      "metadata": {
        "id": "pZ4hTBC0JCln"
      },
      "source": [
        "**Görev 2:** acikListe içinde yer alan 4. ve 5. liste öğesini ekrana yazıdırın! "
      ]
    },
    {
      "cell_type": "code",
      "metadata": {
        "id": "_DgLPxODI3aP",
        "colab": {
          "base_uri": "https://localhost:8080/"
        },
        "outputId": "614d2d4d-e34b-4734-d9bc-8906a063aa72"
      },
      "source": [
        "acikListe = [\"Açık Bilim\", \"Açık Erişim\", \"Açık Veri\", \"Açık Eğitim\", \"Açık Kaynak\"]\n",
        "print(acikListe[3:5])"
      ],
      "execution_count": null,
      "outputs": [
        {
          "output_type": "stream",
          "text": [
            "['Açık Eğitim', 'Açık Kaynak']\n"
          ],
          "name": "stdout"
        }
      ]
    },
    {
      "cell_type": "markdown",
      "metadata": {
        "id": "D_Vt3_mQJq9Q"
      },
      "source": [
        "## Liste İşlemleri\n",
        "append() fonksiyonunu kullanarak ya da artırılmış atama operatörü ( += ) yardımıyla listenin sonuna yeni öğeler (değerler) eklenebilir.  Listelerin içindeki öğeler güncellenebilir, yani liste[indeksNo] = yeni_deger kullanarak içeriklerini değiştirmek mümkündür."
      ]
    },
    {
      "cell_type": "markdown",
      "metadata": {
        "id": "3xGEUhipL11G"
      },
      "source": [
        "**Örnek Uygulama**\n",
        "\n",
        "```\n",
        "acikListe = [\"Açık Bilim\", \"Açık Erişim\", \"Açık Veri\", \"Açık Eğitim\", \"Açık Kaynak\"]   # acikListe adında yeni bir liste oluşturur\n",
        "print(acikListe) # Çıktı: ['Açık Bilim', 'Açık Erişim', 'Açık Veri', 'Açık Eğitim', 'Açık Kaynak']\n",
        "\n",
        "acikListe += [\"Açık Donanım\", \"Açık İnovasyon\"]    # listeye iki yeni öğe ekler\n",
        "print(acikListe) # Çıktı: ['Açık Bilim', 'Açık Erişim', 'Açık Veri', 'Açık Eğitim', 'Açık Kaynak', 'Açık Donanım', 'Açık İnovasyon']\n",
        "\n",
        "acikListe.append(\"Açık Veri Gazeteciliği\")   # listeye yeni bir öğe ekler\n",
        "print(acikListe) # Çıktı: ['Açık Bilim', 'Açık Erişim', 'Açık Veri', 'Açık Eğitim', 'Açık Kaynak', 'Açık Donanım', 'Açık İnovasyon', 'Açık Veri Gazeteciliği']\n",
        "\n",
        "acikListe[4] = \"Açık Kaynak Kod\" # listenin 5. öğesini değiştirir\n",
        "print(acikListe) # Çıktı: ['Açık Bilim', 'Açık Erişim', 'Açık Veri', 'Açık Eğitim', 'Açık Kaynak Kod', 'Açık Donanım', 'Açık İnovasyon', 'Açık Veri Gazeteciliği']\n",
        "```\n",
        "\n"
      ]
    },
    {
      "cell_type": "code",
      "metadata": {
        "id": "YlhpK0Y2VbBw",
        "colab": {
          "base_uri": "https://localhost:8080/"
        },
        "outputId": "a8cf9001-42b1-42fa-830a-be19256362ad"
      },
      "source": [
        "# Örnek uygulamayı çalıştır\n",
        "\n",
        "acikListe = [\"Açık Bilim\", \"Açık Erişim\", \"Açık Veri\", \"Açık Eğitim\", \"Açık Kaynak\"]\n",
        "print(acikListe)\n",
        " \n",
        "acikListe += [\"Açık Donanım\", \"Açık İnovasyon\"] \n",
        "print(acikListe)\n",
        " \n",
        "acikListe.append(\"Açık Veri Gazeteciliği\")\n",
        "print(acikListe)\n",
        " \n",
        "acikListe[4] = \"Açık Kaynak Kod\"\n",
        "print(acikListe)"
      ],
      "execution_count": null,
      "outputs": [
        {
          "output_type": "stream",
          "text": [
            "['Açık Bilim', 'Açık Erişim', 'Açık Veri', 'Açık Eğitim', 'Açık Kaynak']\n",
            "['Açık Bilim', 'Açık Erişim', 'Açık Veri', 'Açık Eğitim', 'Açık Kaynak', 'Açık Donanım', 'Açık İnovasyon']\n",
            "['Açık Bilim', 'Açık Erişim', 'Açık Veri', 'Açık Eğitim', 'Açık Kaynak', 'Açık Donanım', 'Açık İnovasyon', 'Açık Veri Gazeteciliği']\n",
            "['Açık Bilim', 'Açık Erişim', 'Açık Veri', 'Açık Eğitim', 'Açık Kaynak Kod', 'Açık Donanım', 'Açık İnovasyon', 'Açık Veri Gazeteciliği']\n"
          ],
          "name": "stdout"
        }
      ]
    },
    {
      "cell_type": "markdown",
      "metadata": {
        "id": "5hgUnMj7ODY1"
      },
      "source": [
        "**Görev:** bilgiBilim adlı bir liste oluşturun. Bu listeye bilgi bilim disiplini ile ilgili 3 adet anahtar kelime ya da kavram ekleyin. Bu listeyi ekrana yazdırın. Listeye istediğiniz bir yöntem ile (append(), +=) 2 yeni öğe ekleyin. Ekrana listenin son durumunu yazdırın. Listenizdeki son öğeyi değiştirin. Listenin son halini ekrana yazıdırn."
      ]
    },
    {
      "cell_type": "code",
      "metadata": {
        "id": "_gzwR_UGLkL4",
        "colab": {
          "base_uri": "https://localhost:8080/"
        },
        "outputId": "add82062-b2b2-42c7-f6d7-010fd5b2b7a6"
      },
      "source": [
        "#bilgiBilim\n",
        "bilgiBilim = [\"Bilgi\", \"Bilgi Kuramı\", \"Epistemoloji\"]\n",
        "print(bilgiBilim)\n",
        "bilgiBilim += [\"Bilgi Felsefesi\", \"Bilgibilim Bilgisi\"]\n",
        "print(bilgiBilim)"
      ],
      "execution_count": null,
      "outputs": [
        {
          "output_type": "stream",
          "text": [
            "['Bilgi', 'Bilgi Kuramı', 'Epistemoloji']\n",
            "['Bilgi', 'Bilgi Kuramı', 'Epistemoloji', 'Bilgi Felsefesi', 'Bilgibilim Bilgisi']\n"
          ],
          "name": "stdout"
        }
      ]
    },
    {
      "cell_type": "markdown",
      "metadata": {
        "id": "qiE0PiXLPQmM"
      },
      "source": [
        "## Liste Öğeleri"
      ]
    },
    {
      "cell_type": "markdown",
      "metadata": {
        "id": "S7yYWbwTPXQ8"
      },
      "source": [
        "Liste öğelerini dilimleme (slice) yaparak da atamak mümkündür. Bu bir listenin boyutunu değiştirebilir veya listeyi tamamen temizleyebilir."
      ]
    },
    {
      "cell_type": "markdown",
      "metadata": {
        "id": "_ooqgLJbPsXC"
      },
      "source": [
        "**Örnek Uygulama**\n",
        "\n",
        "```\n",
        "acikListe = [\"Açık Bilim\", \"Açık Erişim\", \"Açık Veri\", \"Açık Eğitim\", \"Açık Kaynak\"]   # acikListe adında yeni bir liste oluşturur\n",
        "print(acikListe) # Çıktı: ['Açık Bilim', 'Açık Erişim', 'Açık Veri', 'Açık Eğitim', 'Açık Kaynak']\n",
        "\n",
        "acikListe[2:4] = [\"Açık İnovasyon\"]    # \"Açık Veri\" ve \"Açık Eğitim\" öğelerinin yerine tek bir öğe ekler\n",
        "print(acikListe)  #Çıktı:  [\"Açık Bilim\", \"Açık Erişim\", \"Açık İnovasyon\", \"Açık Kaynak\"]\n",
        "\n",
        "acikListe[:2] = []     # listenin ilk iki öğesini siler\n",
        "print(acikListe)  #Çıktı:  [\"Açık İnovasyon\", \"Açık Kaynak\"]\n",
        "\n",
        "acikListe[:] = [] # listeyi temizler \n",
        "print(acikListe)  #Çıktı: []\n",
        "```\n",
        "\n"
      ]
    },
    {
      "cell_type": "code",
      "metadata": {
        "id": "ZTD-lZlkWPQZ",
        "colab": {
          "base_uri": "https://localhost:8080/"
        },
        "outputId": "7060d7b1-471a-4ad8-81a3-f165289ba1c9"
      },
      "source": [
        "# Örnek uygulamayı çalıştır\n",
        "\n",
        "acikListe = [\"Açık Bilim\", \"Açık Erişim\", \"Açık Veri\", \"Açık Eğitim\", \"Açık Kaynak\"]\n",
        "print(acikListe)\n",
        "\n",
        "acikListe[2:4] = [\"Açık İnovasyon\"]\n",
        "print(acikListe)\n",
        "\n",
        "acikListe[:2] = []\n",
        "print(acikListe)\n",
        "\n",
        "acikListe[:] = []\n",
        "print(acikListe)"
      ],
      "execution_count": null,
      "outputs": [
        {
          "output_type": "stream",
          "text": [
            "['Açık Bilim', 'Açık Erişim', 'Açık Veri', 'Açık Eğitim', 'Açık Kaynak']\n",
            "['Açık Bilim', 'Açık Erişim', 'Açık İnovasyon', 'Açık Kaynak']\n",
            "['Açık İnovasyon', 'Açık Kaynak']\n",
            "[]\n"
          ],
          "name": "stdout"
        }
      ]
    },
    {
      "cell_type": "markdown",
      "metadata": {
        "id": "4C3xLijJSKdE"
      },
      "source": [
        "**Görev:** Önceki görevde oluşturulan \"bilgiBilim\" adlı listenin istediğiniz öğesini silerek listenin güncel halini ekrana yazdırın. Listeyi tamamen temizleyerek listenin güncel halini ekrana yazdırın."
      ]
    },
    {
      "cell_type": "code",
      "metadata": {
        "id": "uQPbQgJAQ8nq",
        "colab": {
          "base_uri": "https://localhost:8080/"
        },
        "outputId": "ebb280fc-e72f-4c72-a889-84e738bb5ddc"
      },
      "source": [
        "#bilgiBilim\n",
        "bilgiBilim = [\"Bilgi\", \"Bilgi Kuramı\",\"Epistemoloji\", \"Bilgi Felsefesi\", \"Bilgibilim Bilgisi\"]\n",
        "print(bilgiBilim)\n",
        "bilgiBilim[2:3] = []\n",
        "print(bilgiBilim)\n",
        "bilgiBilim[:] = []\n",
        "print(bilgiBilim)"
      ],
      "execution_count": null,
      "outputs": [
        {
          "output_type": "stream",
          "text": [
            "['Bilgi', 'Bilgi Kuramı', 'Epistemoloji', 'Bilgi Felsefesi', 'Bilgibilim Bilgisi']\n",
            "['Bilgi', 'Bilgi Kuramı', 'Bilgi Felsefesi', 'Bilgibilim Bilgisi']\n",
            "[]\n"
          ],
          "name": "stdout"
        }
      ]
    },
    {
      "cell_type": "markdown",
      "metadata": {
        "id": "J_f83oCDS-Hz"
      },
      "source": [
        "## Demetler (Tuples)"
      ]
    },
    {
      "cell_type": "markdown",
      "metadata": {
        "id": "9er0WsfhTBpI"
      },
      "source": [
        "Demetler neredeyse listelerle aynı. Demetler ve listeler arasındaki tek önemli fark, demetlerin değiştirilememesidir. Demetlere öğe eklenmez, öğe değiştirilmez veya demetlerden öğe silinemez. Demetler, parantez içine alınmış bir virgül operatörü tarafından oluşturulur. Ör: demet = (\"deger1\", \"deger2\", \"deger3\"). Tek bir öğe demetinde (\"d\",) gibi bir virgül olmalıdır."
      ]
    },
    {
      "cell_type": "markdown",
      "metadata": {
        "id": "h95qzA42Tti-"
      },
      "source": [
        "**Örnek Uygulama**\n",
        "\n",
        "```\n",
        "ulkeKodlari = (\"TR\", \"US\", \"EN\", \"JP\")\n",
        "print(ulkeKodlari)   # Çıktı: ('TR', 'US', 'EN', 'JP')\n",
        "```\n",
        "\n"
      ]
    },
    {
      "cell_type": "code",
      "metadata": {
        "id": "XHSZ06qzWxmB",
        "colab": {
          "base_uri": "https://localhost:8080/"
        },
        "outputId": "7c9c95e4-9f2c-415f-c280-c7210481a9fa"
      },
      "source": [
        "# Örnek uygulamayı çalıştır\n",
        "\n",
        "ulkeKodlari = (\"TR\", \"US\", \"EN\", \"JP\")\n",
        "print(ulkeKodlari)"
      ],
      "execution_count": null,
      "outputs": [
        {
          "output_type": "stream",
          "text": [
            "('TR', 'US', 'EN', 'JP')\n"
          ],
          "name": "stdout"
        }
      ]
    },
    {
      "cell_type": "markdown",
      "metadata": {
        "id": "ON1kJ2-nU2ZO"
      },
      "source": [
        "**Görev:** Kongre Kütüphanesi konu başlıkları listesinin kodlarından oluşan bir demet oluşturun ve ekrana yazdırın! Oluşturulan demet içindeki tek bir öğeyi ekrana yazdırın!"
      ]
    },
    {
      "cell_type": "code",
      "metadata": {
        "id": "p4i7BTX1Uv9S",
        "colab": {
          "base_uri": "https://localhost:8080/"
        },
        "outputId": "47c5a920-0208-4cd2-91e8-edcedaf67eb7"
      },
      "source": [
        "#konuBasliklari\n",
        "konuBasliklari = (\"Genel Eserler\",\"Felsefe\",\"Psikoloji\", \"Din\", \"Tarih İle İlgili Yan Bilimler\", \"Hukuk\", \"Eğitim\")\n",
        "print(konuBasliklari)\n",
        "print(\"Psikoloji\",)"
      ],
      "execution_count": null,
      "outputs": [
        {
          "output_type": "stream",
          "text": [
            "('Genel Eserler', 'Felsefe', 'Psikoloji', 'Din', 'Tarih İle İlgili Yan Bilimler', 'Hukuk', 'Eğitim')\n",
            "Psikoloji\n"
          ],
          "name": "stdout"
        }
      ]
    },
    {
      "cell_type": "markdown",
      "metadata": {
        "id": "HkDm5do0Vduc"
      },
      "source": [
        "## Sözlükler\n",
        "Sözlük, listeye benzer, ancak sözlük içindeki değerlere indeks numarası yerine bir anahtara ile erişilebilir. Bir anahtar herhangi bir metin katarı veya rakam olabilir. Sözlükler ayraç içine alınır. Ör: sozluk = {'anahtar1': \"değer1\", 'anahtar2': \"değer2\"}."
      ]
    },
    {
      "cell_type": "markdown",
      "metadata": {
        "id": "e1BbS2f3V9le"
      },
      "source": [
        "**Örnek Uygulama**\n",
        "\n",
        "```\n",
        "adresDefteri = {\"Hacettepe Üniversitesi\": \"hacettepe.edu.tr\", \"ODTÜ\": \"odtu.edu.tr\", \"Bilkent Üniversitesi\": \"bilkent.edu.tr\"} # yeni bir sözlük oluşturur\n",
        "print(adresDefteri) # Çıktı: {'Hacettepe Üniversitesi': 'hacettepe.edu.tr', 'ODTÜ': 'odtu.edu.tr', 'Bilkent Üniversitesi': 'bilkent.edu.tr'}\n",
        "\n",
        "adresDefteri[\"Ankara Üniversitesi\"] = \"ankara.edu.tr\" #sözlüğe yeni bir öğe ekler\n",
        "print(adresDefteri)  # Çıktı: {'Hacettepe Üniversitesi': 'hacettepe.edu.tr', 'ODTÜ': 'odtu.edu.tr', 'Bilkent Üniversitesi': 'bilkent.edu.tr', 'Ankara Üniversitesi': 'ankara.edu.tr'}\n",
        "\n",
        "del adresDefteri [\"Ankara Üniversitesi\"] #sözlükten belirtilen öğeyi siler\n",
        "print(adresDefteri) # Çıktı: {'Hacettepe Üniversitesi': 'hacettepe.edu.tr', 'ODTÜ': 'odtu.edu.tr', 'Bilkent Üniversitesi': 'bilkent.edu.tr'}\n",
        "```\n",
        "\n"
      ]
    },
    {
      "cell_type": "code",
      "metadata": {
        "id": "T1DFoRVIXJtN",
        "colab": {
          "base_uri": "https://localhost:8080/"
        },
        "outputId": "025cb32d-596d-457c-8ec6-8a2076c3f895"
      },
      "source": [
        "# Örnek uygulamayı çalıştır\n",
        "\n",
        "adresDefteri = {\"Hacettepe Üniversitesi\": \"hacettepe.edu.tr\", \"ODTÜ\": \"odtu.edu.tr\", \"Bilkent Üniversitesi\": \"bilkent.edu.tr\"}\n",
        "print(adresDefteri)\n",
        "\n",
        "adresDefteri[\"Ankara Üniversitesi\"] = \"ankara.edu.tr\"\n",
        "print(adresDefteri)\n",
        "\n",
        "del adresDefteri [\"Ankara Üniversitesi\"]\n",
        "print(adresDefteri)"
      ],
      "execution_count": null,
      "outputs": [
        {
          "output_type": "stream",
          "text": [
            "{'Hacettepe Üniversitesi': 'hacettepe.edu.tr', 'ODTÜ': 'odtu.edu.tr', 'Bilkent Üniversitesi': 'bilkent.edu.tr'}\n",
            "{'Hacettepe Üniversitesi': 'hacettepe.edu.tr', 'ODTÜ': 'odtu.edu.tr', 'Bilkent Üniversitesi': 'bilkent.edu.tr', 'Ankara Üniversitesi': 'ankara.edu.tr'}\n",
            "{'Hacettepe Üniversitesi': 'hacettepe.edu.tr', 'ODTÜ': 'odtu.edu.tr', 'Bilkent Üniversitesi': 'bilkent.edu.tr'}\n"
          ],
          "name": "stdout"
        }
      ]
    },
    {
      "cell_type": "markdown",
      "metadata": {
        "id": "fDWQzlKTXYbo"
      },
      "source": [
        "**Görev:** İstediğin herhangi bir konuda 5 öğeye sahip bir sözlük oluştur. Sözlüğü ekrana yazdır. Sözlükteki belirli bir öğeyi ekrana yazdır. Sözlükteki belirli bir öğeyi silerek sözlüğün güncel halini ekrana yazdır!"
      ]
    },
    {
      "cell_type": "code",
      "metadata": {
        "id": "t4-oPZTRXEuQ",
        "colab": {
          "base_uri": "https://localhost:8080/"
        },
        "outputId": "502d0395-3d25-4481-8e25-256281359620"
      },
      "source": [
        "#sozluk\n",
        "esAnlamliKelimeler = {\"Deprem\":\"Zelzele\",\"Akıl\":\"Us\",\"Ün\":\"Şöhret\",\"Amaç\":\"Gaye\"}\n",
        "print(esAnlamliKelimeler)\n",
        "del esAnlamliKelimeler [\"Ün\"]\n",
        "print(esAnlamliKelimeler)"
      ],
      "execution_count": null,
      "outputs": [
        {
          "output_type": "stream",
          "text": [
            "{'Deprem': 'Zelzele', 'Akıl': 'Us', 'Ün': 'Şöhret', 'Amaç': 'Gaye'}\n",
            "{'Deprem': 'Zelzele', 'Akıl': 'Us', 'Amaç': 'Gaye'}\n"
          ],
          "name": "stdout"
        }
      ]
    },
    {
      "cell_type": "markdown",
      "metadata": {
        "id": "9qqctZNZX6q4"
      },
      "source": [
        "## Sözlük Değerleri ve Anahtarları\n",
        "Sözlüklerde values() ve keys() gibi birçok yararlı fonksiyon vardır. Bir sozlük adı ve ardından noktadan sonra çıkan listeyi kullanarak geri kalan fonksiyolar incelenebilir."
      ]
    },
    {
      "cell_type": "markdown",
      "metadata": {
        "id": "EaYu0M-1Ydia"
      },
      "source": [
        "**Örnek Uygulama**\n",
        "\n",
        "```\n",
        "adresDefteri = {\"Hacettepe Üniversitesi\": \"hacettepe.edu.tr\", \"ODTÜ\": \"odtu.edu.tr\", \"Bilkent Üniversitesi\": \"bilkent.edu.tr\"} # yeni bir sözlük oluşturur\n",
        "print(adresDefteri) # Çıktı: {'Hacettepe Üniversitesi': 'hacettepe.edu.tr', 'ODTÜ': 'odtu.edu.tr', 'Bilkent Üniversitesi': 'bilkent.edu.tr'}\n",
        "\n",
        "print(adresDefteri.values()) # Çıktı: dict_values(['hacettepe.edu.tr', 'odtu.edu.tr', 'bilkent.edu.tr'])\n",
        "\n",
        "print(adresDefteri.keys()) # Çıktı: dict_keys(['Hacettepe Üniversitesi', 'ODTÜ', 'Bilkent Üniversitesi'])\n",
        "```\n",
        "\n"
      ]
    },
    {
      "cell_type": "code",
      "metadata": {
        "id": "b07Mqre3XqoH",
        "colab": {
          "base_uri": "https://localhost:8080/"
        },
        "outputId": "2d4f89b1-0ef7-4f34-bb56-16e48e789208"
      },
      "source": [
        "# Örnek uygulamayı çalıştır\n",
        "\n",
        "adresDefteri = {\"Hacettepe Üniversitesi\": \"hacettepe.edu.tr\", \"ODTÜ\": \"odtu.edu.tr\", \"Bilkent Üniversitesi\": \"bilkent.edu.tr\"}\n",
        "print(adresDefteri)\n",
        "\n",
        "print(adresDefteri.values())\n",
        "\n",
        "print(adresDefteri.keys())"
      ],
      "execution_count": null,
      "outputs": [
        {
          "output_type": "stream",
          "text": [
            "{'Hacettepe Üniversitesi': 'hacettepe.edu.tr', 'ODTÜ': 'odtu.edu.tr', 'Bilkent Üniversitesi': 'bilkent.edu.tr'}\n",
            "dict_values(['hacettepe.edu.tr', 'odtu.edu.tr', 'bilkent.edu.tr'])\n",
            "dict_keys(['Hacettepe Üniversitesi', 'ODTÜ', 'Bilkent Üniversitesi'])\n"
          ],
          "name": "stdout"
        }
      ]
    },
    {
      "cell_type": "markdown",
      "metadata": {
        "id": "twxTKZ-XY_5l"
      },
      "source": [
        "**Görev:** İstediğin bir konuda istediğin öğe saysına sahip bir sözlük oluştur. Sözlükler ile ilgili farklı fonksiyoları dene. Sonuçları ekrana yazdır!"
      ]
    },
    {
      "cell_type": "code",
      "metadata": {
        "id": "CcNcGoOaZfja",
        "colab": {
          "base_uri": "https://localhost:8080/"
        },
        "outputId": "6037f8f8-cb21-405f-9f0b-1a1673c3eee9"
      },
      "source": [
        "#yeniSozluk\n",
        "webSitesi = {\"Falt Shopping\":\"faltshopping.com\",\"Trendyol\":\"trendyol.com\",\"Hepsi Burada\":\"hepsiburada.com\"}\n",
        "print(webSitesi)\n",
        "print(webSitesi.values())\n",
        "print(webSitesi.keys())"
      ],
      "execution_count": null,
      "outputs": [
        {
          "output_type": "stream",
          "text": [
            "{'Falt Shopping': 'faltshopping.com', 'Trendyol': 'trendyol.com', 'Hepsi Burada': 'hepsiburada.com'}\n",
            "dict_values(['faltshopping.com', 'trendyol.com', 'hepsiburada.com'])\n",
            "dict_keys(['Falt Shopping', 'Trendyol', 'Hepsi Burada'])\n"
          ],
          "name": "stdout"
        }
      ]
    },
    {
      "cell_type": "markdown",
      "metadata": {
        "id": "iFlaNCzFpdIj"
      },
      "source": [
        "##In Anahtar Kelimesi\n",
        "\"In\" anahtar sözcüğü, bir listenin veya sözlüğün belirli bir öğe içerip içermediğini kontrol etmek için kullanılır. Daha önce metin katarlarındaki kullanıma benzer bir kullanımı vardır. \"In\" anahtar sözcüğü ile öğe kontrolü yapıldıktan sonra sonuç, öğe listede ya da sözlükte yer alıyorsa *True* yer almıyorsa *False* olarak geri döner.\n",
        "\n",
        "**Dikkat**: Aranan öğe ile liste ya da sözlük içinde yer alan öğelerin karşılaştırılması sırasında büyük-küçük harf duyarlılığı bulunmaktadır. Ör: \"Bilgi\" ve \"bilgi\" iki farklı öğe olarak değerlendirilir."
      ]
    },
    {
      "cell_type": "markdown",
      "metadata": {
        "id": "rZ-pjki1q6bs"
      },
      "source": [
        "**Örnek Uygulama**\n",
        "\n",
        "```\n",
        "bilgiKavramları = [\"indeks\", \"erişim\", \"koleksiyon\"]   # yeni bir liste oluşturur\n",
        "print(\"Erişim\" in bilgiKavramları)    # Çıktı: False\n",
        "\n",
        "bilgiSozlugu = {\"indeks\": \"index\", \"erişim\": \"access\", \"koleksiyon\": \"collection\"}   # yeni bir sozluk oluşturur\n",
        "print(\"koleksiyon\" in bilgiSozlugu.keys())  #  çıktı: True\n",
        "```\n",
        "\n"
      ]
    },
    {
      "cell_type": "code",
      "metadata": {
        "id": "rCDZFucUYbGC",
        "colab": {
          "base_uri": "https://localhost:8080/"
        },
        "outputId": "d327946d-d57e-4e8e-da93-073f4c0074c7"
      },
      "source": [
        "# Örnek uygulamayı çalıştır\n",
        "\n",
        "bilgiKavramları = [\"indeks\", \"erişim\", \"koleksiyon\"]\n",
        "print(\"Erişim\" in bilgiKavramları)\n",
        "\n",
        "bilgiSozlugu = {\"indeks\": \"index\", \"erişim\": \"access\", \"koleksiyon\": \"collection\"}\n",
        "print(\"koleksiyon\" in bilgiSozlugu.keys())"
      ],
      "execution_count": null,
      "outputs": [
        {
          "output_type": "stream",
          "text": [
            "False\n",
            "True\n"
          ],
          "name": "stdout"
        }
      ]
    },
    {
      "cell_type": "markdown",
      "metadata": {
        "id": "Pdn_zG-mq9Sx"
      },
      "source": [
        "**Görev:** Bir liste ve bir sözlük oluşturun. Liste içinde istediğiniz kelimeyi aratın ve sonucunu ekrana yazdırın! Oluşturduğunuz sözlüğün içinde hem anahtar kelime (keys()) hem de değer (values()) kontrolü yaptırın ve sonucunu ekrana yazdırın!"
      ]
    },
    {
      "cell_type": "code",
      "metadata": {
        "id": "3Sl_XODcq1mL",
        "colab": {
          "base_uri": "https://localhost:8080/"
        },
        "outputId": "60f51a2e-247c-4881-810b-2de1bc024e6b"
      },
      "source": [
        "#yeniListe\n",
        "#yeniSozluk\n",
        "yeniListe = [\"Bilgisayar\",\"Klavye\",\"Fare\",\"Hoparlör\"]\n",
        "print(\"Klavye\" in yeniListe)\n",
        "yeniSozluk = {\"Bilgisayar\":\"Computer\",\"Klavye\":\"Keyboard\",\"Fare\":\"Mouse\",\"Hoparlör\":\"Loudspeaker\"}\n",
        "print(\"Keyboard\" in yeniSozluk.values())\n",
        "print(\"klavye\" in yeniSozluk.keys())"
      ],
      "execution_count": null,
      "outputs": [
        {
          "output_type": "stream",
          "text": [
            "True\n",
            "True\n",
            "False\n"
          ],
          "name": "stdout"
        }
      ]
    },
    {
      "cell_type": "markdown",
      "metadata": {
        "id": "o68yxOoTx1vA"
      },
      "source": [
        "#Bölüm 05: Koşullu İfadeler\n",
        "\n",
        "Bu bölümde:\n",
        "\n",
        "*   Mantıksal operatörler,\n",
        "*   If cümleciği,\n",
        "*   Else ve elif kullanımı yer almatadır."
      ]
    },
    {
      "cell_type": "markdown",
      "metadata": {
        "id": "0R6l7TiLyI1H"
      },
      "source": [
        "##Mantıksal Operatörler\n",
        "Mantıksal operatörler ifadeleri karşılaştırır ve sonuçları *True* ya da *False* değerleriyle döndürür. Python'da üç tane mantıksal operatör bulunur:\n",
        "\n",
        "1. \"and\" operatörü: Her iki yanındaki ifadeler doğru olduğunda *True* değerini döndürür.\n",
        "2. \"or\" operatörü: Her iki tarafındaki ifadelerden en az bir ifade doğru olduğunda \"True\" değerini döndürür.\n",
        "3. \"not\" operatörü: İfadenin tam tersi olarak değerlendirilmesini sağlar.\n"
      ]
    },
    {
      "cell_type": "markdown",
      "metadata": {
        "id": "6HZvGmjG1rxk"
      },
      "source": [
        "**Örnek Uygulama**\n",
        "\n",
        "```\n",
        "kullaniciAdi = \"orcunmadran\"\n",
        "sifre = 123456\n",
        "print(kullaniciAdi == \"orcunmadran\" and sifre == 123456) # Çıktı: True\n",
        "\n",
        "kullaniciAdi = \"orcunmadran\"\n",
        "sifre = 123456\n",
        "print(kullaniciAdi == \"orcunmadran\" and not sifre == 123456) # Çıktı: False\n",
        "\n",
        "cepTel = \"05321234567\"\n",
        "ePosta = \"orcunmadran@gmail.com\"\n",
        "print(cepTel == \"\" or ePosta == \"orcunmadran@gmail.com\" ) # Çıktı: True\n",
        "```\n",
        "\n"
      ]
    },
    {
      "cell_type": "code",
      "metadata": {
        "id": "2e6sRcxoayBf",
        "colab": {
          "base_uri": "https://localhost:8080/"
        },
        "outputId": "fab841d1-bbce-4a04-f2ff-6345f56500d1"
      },
      "source": [
        "# Örnek uygulamayı çalıştır\n",
        "\n",
        "kullaniciAdi = \"orcunmadran\"\n",
        "sifre = 123456\n",
        "print(kullaniciAdi == \"orcunmadran\" and sifre == 123456)\n",
        "\n",
        "kullaniciAdi = \"orcunmadran\"\n",
        "sifre = 123456\n",
        "print(kullaniciAdi == \"orcunmadran\" and not sifre == 123456)\n",
        "\n",
        "cepTel = \"05321234567\"\n",
        "ePosta = \"orcunmadran@gmail.com\"\n",
        "print(cepTel == \"\" or ePosta == \"orcunmadran@gmail.com\" )"
      ],
      "execution_count": null,
      "outputs": [
        {
          "output_type": "stream",
          "text": [
            "True\n",
            "False\n",
            "True\n"
          ],
          "name": "stdout"
        }
      ]
    },
    {
      "cell_type": "markdown",
      "metadata": {
        "id": "nwkgY8TZ5NcI"
      },
      "source": [
        "**Görev:** Klavyeden girilen kullanıcı adı ve şifrenin kayıtlı bulunan kullanıcı adı ve şifre ile uyuşup uyuşmadığını kontrol edin ve sonucu ekrana yazdırın!"
      ]
    },
    {
      "cell_type": "code",
      "metadata": {
        "id": "XMHB4_dY3B1v",
        "colab": {
          "base_uri": "https://localhost:8080/"
        },
        "outputId": "1f1d810d-6b83-4391-9555-53c1ba05f8f4"
      },
      "source": [
        "#Sistemde yer alan bilgiler:\n",
        "sisKulAdi = \"yonetici\"\n",
        "sisKulSifre = \"bby162\"\n",
        "print(sisKulAdi == \"yonetici\" and sisKulSifre == \"bby162\")\n",
        "#Klavyeden girilen bilgiler:\n",
        "girKulAdi = input(\"Kullanıcı Adı:\")\n",
        "girKulSifre = input(\"Şifre:\")\n",
        "print(girKulAdi == \"yonetici\" and not girKulSifre == \"bby162\")\n"
      ],
      "execution_count": null,
      "outputs": [
        {
          "output_type": "stream",
          "text": [
            "True\n",
            "Kullanıcı Adı:YagmurCengiz\n",
            "Şifre:bby162\n",
            "False\n"
          ],
          "name": "stdout"
        }
      ]
    },
    {
      "cell_type": "markdown",
      "metadata": {
        "id": "rd-bsVch9Dxb"
      },
      "source": [
        "## If Cümleciği\n",
        "\"If\" anahtar sözcüğü, verilen ifadenin doğru olup olmadığını kontrol ettikten sonra belirtilen kodu çalıştıran bir koşullu ifade oluşturmak için kullanılır. Python'da kod bloklarının tanımlanması için girinti kullanır."
      ]
    },
    {
      "cell_type": "markdown",
      "metadata": {
        "id": "VujnXgWV-B_u"
      },
      "source": [
        "**Örnek Uygulama**\n",
        "\n",
        "```\n",
        "acikKavramlar = [\"bilim\", \"erişim\", \"veri\", \"eğitim\"]\n",
        "kavram = input(\"Bir açık kavramı yazın: \")\n",
        "if kavram in acikKavramlar:\n",
        "  print(kavram + \" açık kavramlar listesinde yer alıyor!\")\n",
        "```\n",
        "\n"
      ]
    },
    {
      "cell_type": "code",
      "metadata": {
        "id": "EERabauFbSBB",
        "colab": {
          "base_uri": "https://localhost:8080/"
        },
        "outputId": "00e2285d-9721-4249-a752-80534115ff89"
      },
      "source": [
        "# Örnek uygulamayı çalıştır\n",
        "\n",
        "acikKavramlar = [\"bilim\", \"erişim\", \"veri\", \"eğitim\"]\n",
        "kavram = input(\"Bir açık kavramı yazın: \")\n",
        "if kavram in acikKavramlar:\n",
        "  print(kavram + \" açık kavramlar listesinde yer alıyor!\")"
      ],
      "execution_count": null,
      "outputs": [
        {
          "output_type": "stream",
          "text": [
            "Bir açık kavramı yazın: bilim\n",
            "bilim açık kavramlar listesinde yer alıyor!\n"
          ],
          "name": "stdout"
        }
      ]
    },
    {
      "cell_type": "markdown",
      "metadata": {
        "id": "mwAnF_eiHj-g"
      },
      "source": [
        "**Görev:** \"acikSozluk\" içinde yer alan anahtarları (keys) kullanarak eğer klavyeden girilen anahtar kelime sözlükte varsa açıklamasını ekrana yazdırın!"
      ]
    },
    {
      "cell_type": "code",
      "metadata": {
        "id": "-Knt3IBI_BRm",
        "colab": {
          "base_uri": "https://localhost:8080/"
        },
        "outputId": "0f2f4dcd-3cdf-4087-e7a7-8f78b61aeddd"
      },
      "source": [
        "acikSozluk = {\n",
        "    \"Açık Bilim\" : \"Bilimsel bilgi kamu malıdır. Bilimsel yayınlara ve verilere açık erişim bir haktır.\" ,\n",
        "    \"Açık Erişim\" : \"Kamu kaynakları ile yapılan araştırmalar sonucunda üretilen yayınlara ücretsiz erişim\" ,\n",
        "    \"Açık Veri\" : \"Kamu kaynakları ile yapılan araştırma sonucunda üretilen verilere ücretsiz ve yeniden kullanılabilir biçimde erişim\" \n",
        "    }\n",
        "anahtar = input(\"Anahtar Kelime: \")\n",
        "if anahtar in acikSozluk:\n",
        "  print(acikSozluk[anahtar])\n",
        "\n",
        "#If"
      ],
      "execution_count": null,
      "outputs": [
        {
          "output_type": "stream",
          "text": [
            "Anahtar Kelime: Açık Erişim\n",
            "Kamu kaynakları ile yapılan araştırmalar sonucunda üretilen yayınlara ücretsiz erişim\n"
          ],
          "name": "stdout"
        }
      ]
    },
    {
      "cell_type": "markdown",
      "metadata": {
        "id": "gBj0pSOoLvWu"
      },
      "source": [
        "## Else ve Elif Kullanımı\n",
        "\"If\" cümleciği içinde ikinci bir ifadenin doğruluğunun kontrolü için \"Elif\" ifadesi kullanılır. Doğruluğu sorgulanan ifadelerden hiçbiri *True* döndürmediği zaman çalışacak olan kod bloğu \"Else\" altında yer alan kod bloğudur. "
      ]
    },
    {
      "cell_type": "markdown",
      "metadata": {
        "id": "k-jKSvQcMeu6"
      },
      "source": [
        "**Örnek Uygulama**\n",
        "\n",
        "```\n",
        "gunler = [\"Pazartesi\", \"Çarşamba\", \"Cuma\"]\n",
        "girilen = input(\"Gün giriniz: \")\n",
        "if girilen == gunler[0]:\n",
        "  print(\"Programlama Dilleri\")\n",
        "elif girilen == gunler[1]:\n",
        "  print(\"Kataloglama\")\n",
        "elif girilen == gunler[2]:\n",
        "  print(\"Bilimsel İletişim\")\n",
        "else :\n",
        "  print(\"Kayıtlı bir gün bilgisi girmediniz!\")\n",
        "```\n",
        "\n"
      ]
    },
    {
      "cell_type": "code",
      "metadata": {
        "id": "hVT2r9_tbnis",
        "colab": {
          "base_uri": "https://localhost:8080/"
        },
        "outputId": "8fc74233-074c-484f-e591-def2eb46b77b"
      },
      "source": [
        "# Örnek uygulamayı çalıştır\n",
        "\n",
        "gunler = [\"Pazartesi\", \"Çarşamba\", \"Cuma\"]\n",
        "girilen = input(\"Gün giriniz: \")\n",
        "if girilen == gunler[0]:\n",
        "  print(\"Programlama Dilleri\")\n",
        "elif girilen == gunler[1]:\n",
        "  print(\"Kataloglama\")\n",
        "elif girilen == gunler[2]:\n",
        "  print(\"Bilimsel İletişim\")\n",
        "else :\n",
        "  print(\"Kayıtlı bir gün bilgisi girmediniz!\")"
      ],
      "execution_count": null,
      "outputs": [
        {
          "output_type": "stream",
          "text": [
            "Gün giriniz: Pazartesi\n",
            "Programlama Dilleri\n"
          ],
          "name": "stdout"
        }
      ]
    },
    {
      "cell_type": "markdown",
      "metadata": {
        "id": "5JzZRGxWr3Sm"
      },
      "source": [
        "**Görev:** Klavyeden girilen yaş bilgisini kullanarak ekrana aşağıdaki mesajları yazdır:\n",
        "\n",
        "*   21 yaş altı ve 64 yaş üstü kişilere: \"Sokağa çıkma yasağı bulunmaktadır!\"\n",
        "*   Diğer tüm kişilere: \"Sokağa çıkma yasağı yoktur!\"\n",
        "*   Klavyeden yaş harici bir bilgi girişi yapıldığında: \"Yaşınızı rakam olarak giriniz!\""
      ]
    },
    {
      "cell_type": "code",
      "metadata": {
        "id": "vEFr1ub_thtK",
        "colab": {
          "base_uri": "https://localhost:8080/"
        },
        "outputId": "8b9c4b93-5d7a-455f-d8ff-dbfced4f489c"
      },
      "source": [
        "yas = int(input(\"Yaşınızı giriniz: \"))\n",
        "if (yas < 21 or yas > 64):\n",
        "  print(\"Sokağa çıkma yasağı bulunmaktadır!\")\n",
        "else:\n",
        "  print(\"Sokağa çıkma yasağı yoktur!\")"
      ],
      "execution_count": null,
      "outputs": [
        {
          "output_type": "stream",
          "text": [
            "Yaşınızı giriniz: 25\n",
            "Sokağa çıkma yasağı yoktur!\n"
          ],
          "name": "stdout"
        }
      ]
    },
    {
      "cell_type": "markdown",
      "metadata": {
        "id": "mLq4XzRPHdHl"
      },
      "source": [
        "# Bölüm 06: Döngüler\n",
        "\n",
        "Bu bölümde:\n",
        "\n",
        "*   for döngüsü,\n",
        "*   Metin katarlarında for döngüsü kullanımı,\n",
        "*   while döngüsü,\n",
        "*   break anahtar kelimesi,\n",
        "*   continue anahtar kelimesi yer almaktadır.\n",
        "\n"
      ]
    },
    {
      "cell_type": "markdown",
      "metadata": {
        "id": "yuku4yibHvy5"
      },
      "source": [
        "## for Döngüsü\n",
        "for döngüleri belirli komut satırını ya da satırlarını yinelemek (tekrar etmek) için kullanılır. Her yinelemede, for döngüsünde tanımlanan değişken listedeki bir sonraki değere otomatik olarak atanacaktır."
      ]
    },
    {
      "cell_type": "markdown",
      "metadata": {
        "id": "JjwFU3rcIfzO"
      },
      "source": [
        "**Örnek Uygulama**\n",
        "\n",
        "```\n",
        "for i in range(5):  # i değerine 0-4 arası indeks değerleri otomatik olarak atanır\n",
        "    print(i)  # Çıktı: Bu komut satırı toplam 5 kere tekrarlanır ve her satırda yeni i değeri yazdırılır\n",
        "\n",
        "\n",
        "konular = [\"Açık Bilim\", \"Açık Erişim\", \"Açık Veri\"]   # yeni bir liste oluşturur\n",
        "\n",
        "for konu in konular:\n",
        "    print(konu) #Çıktı: Her bir liste öğesi alt alta satırlara yazdırılır\n",
        "\n",
        "```\n",
        "\n"
      ]
    },
    {
      "cell_type": "code",
      "metadata": {
        "id": "ZIm4g511cyvz",
        "colab": {
          "base_uri": "https://localhost:8080/"
        },
        "outputId": "b67bb2fb-8512-4085-8931-3e5a2e911abb"
      },
      "source": [
        "# Örnek uygulmayı çalıştır\n",
        "\n",
        "for i in range(5):\n",
        "    print(i)"
      ],
      "execution_count": null,
      "outputs": [
        {
          "output_type": "stream",
          "text": [
            "0\n",
            "1\n",
            "2\n",
            "3\n",
            "4\n"
          ],
          "name": "stdout"
        }
      ]
    },
    {
      "cell_type": "code",
      "metadata": {
        "id": "Uikl2CnDc8rE",
        "colab": {
          "base_uri": "https://localhost:8080/"
        },
        "outputId": "90ec7b21-65d7-42be-81da-cb58f2983270"
      },
      "source": [
        "# Örnek uygulmayı çalıştır\n",
        "\n",
        "konular = [\"Açık Bilim\", \"Açık Erişim\", \"Açık Veri\"]\n",
        "\n",
        "for konu in konular:\n",
        "    print(konu)"
      ],
      "execution_count": null,
      "outputs": [
        {
          "output_type": "stream",
          "text": [
            "Açık Bilim\n",
            "Açık Erişim\n",
            "Açık Veri\n"
          ],
          "name": "stdout"
        }
      ]
    },
    {
      "cell_type": "markdown",
      "metadata": {
        "id": "cbpRcW1aKFYu"
      },
      "source": [
        "**Görev:** Bir liste oluşturun. Liste öğelerini \"for\" döngüsü kullanarak ekrana yazdırın!"
      ]
    },
    {
      "cell_type": "code",
      "metadata": {
        "id": "ry1L7GJ_J_wZ",
        "colab": {
          "base_uri": "https://localhost:8080/"
        },
        "outputId": "bf75d733-a231-4675-ab09-649b3ec7b8a5"
      },
      "source": [
        "#liste\n",
        "liste = [\"Telefon\", \"Bilgisayar\", \"Tablet\", \"Laptop\"]\n",
        "\n",
        "for elektronikCihaz in liste:\n",
        "    print(elektronikCihaz)\n",
        "\n"
      ],
      "execution_count": null,
      "outputs": [
        {
          "output_type": "stream",
          "text": [
            "Telefon\n",
            "Bilgisayar\n",
            "Tablet\n",
            "Laptop\n"
          ],
          "name": "stdout"
        }
      ]
    },
    {
      "cell_type": "markdown",
      "metadata": {
        "id": "rHicjY1WKk5o"
      },
      "source": [
        "## Metin Katarlarında for Döngüsü Kullanımı\n",
        "Metin Katarları üzerinde gerçekleştirilebilecek işlemler Python'daki listelerle büyük benzerlik taşırlar. Metin Katarını oluşturan öğeler (harfler) liste elemanları gibi \"for\" döngüsü yardımıyla ekrana yazdırılabilir. "
      ]
    },
    {
      "cell_type": "markdown",
      "metadata": {
        "id": "UlkXx7vOLdhn"
      },
      "source": [
        "**Örnek Uygulama**\n",
        "\n",
        "```\n",
        "cumle = \"Bisiklet hem zihni hem bedeni dinç tutar!\"\n",
        "\n",
        "for harf in cumle:    # Cümledeki her bir harfi ekrana satır satır yazdırır\n",
        "    print(harf)\n",
        "```\n",
        "\n"
      ]
    },
    {
      "cell_type": "code",
      "metadata": {
        "id": "VLDA2SWAdUHz",
        "colab": {
          "base_uri": "https://localhost:8080/"
        },
        "outputId": "c28ef747-8dde-43bb-b01b-7c4827700b28"
      },
      "source": [
        "# Örnek uygulamayı çalıştır\n",
        "\n",
        "cumle = \"Bisiklet hem zihni, hem bedeni dinç tutar!\"\n",
        " \n",
        "for harf in cumle:\n",
        "    print(harf)"
      ],
      "execution_count": null,
      "outputs": [
        {
          "output_type": "stream",
          "text": [
            "B\n",
            "i\n",
            "s\n",
            "i\n",
            "k\n",
            "l\n",
            "e\n",
            "t\n",
            " \n",
            "h\n",
            "e\n",
            "m\n",
            " \n",
            "z\n",
            "i\n",
            "h\n",
            "n\n",
            "i\n",
            ",\n",
            " \n",
            "h\n",
            "e\n",
            "m\n",
            " \n",
            "b\n",
            "e\n",
            "d\n",
            "e\n",
            "n\n",
            "i\n",
            " \n",
            "d\n",
            "i\n",
            "n\n",
            "ç\n",
            " \n",
            "t\n",
            "u\n",
            "t\n",
            "a\n",
            "r\n",
            "!\n"
          ],
          "name": "stdout"
        }
      ]
    },
    {
      "cell_type": "markdown",
      "metadata": {
        "id": "y_7DFSavMJO4"
      },
      "source": [
        "**Görev:** İçinde metin katarı bulunan bir değişken oluşturun. Bu değişkende yer alan her bir harfi bir satıra gelecek şekilde \"for\" döngüsü ile ekrana yazdırın!"
      ]
    },
    {
      "cell_type": "code",
      "metadata": {
        "id": "83a-E21mMEUr",
        "colab": {
          "base_uri": "https://localhost:8080/"
        },
        "outputId": "5eec34d4-43cc-40bf-d356-c5db817a8b22"
      },
      "source": [
        "#degisken\n",
        "degisken = \"Pandemi sürecinden çok sıkıldım.\"\n",
        "\n",
        "for harf in degisken:\n",
        "    print(harf)\n",
        "\n"
      ],
      "execution_count": null,
      "outputs": [
        {
          "output_type": "stream",
          "text": [
            "P\n",
            "a\n",
            "n\n",
            "d\n",
            "e\n",
            "m\n",
            "i\n",
            " \n",
            "s\n",
            "ü\n",
            "r\n",
            "e\n",
            "c\n",
            "i\n",
            "n\n",
            "d\n",
            "e\n",
            "n\n",
            " \n",
            "ç\n",
            "o\n",
            "k\n",
            " \n",
            "s\n",
            "ı\n",
            "k\n",
            "ı\n",
            "l\n",
            "d\n",
            "ı\n",
            "m\n",
            ".\n"
          ],
          "name": "stdout"
        }
      ]
    },
    {
      "cell_type": "markdown",
      "metadata": {
        "id": "mSp_IsCyM7Ed"
      },
      "source": [
        "## while Döngüsü\n",
        "\"While\" döngüsü \"if\" cümleciğinin ifade şekline benzer. Koşul doğruysa döngüye bağlı kod satırı ya da satırları yürütülür (çalıştırılır). Temel fark, koşul doğru (True) olduğu olduğu sürece bağlı kod satırı ya da satırları çalışmaya devam eder."
      ]
    },
    {
      "cell_type": "markdown",
      "metadata": {
        "id": "O0pVXw8jOGjc"
      },
      "source": [
        "**Örnek Uygulama**\n",
        "\n",
        "```\n",
        "deger = 1\n",
        "\n",
        "while deger <= 10:\n",
        "    print(deger)    # Bu satır 10 kez tekrarlanacak\n",
        "    deger += 1      # Bu satır da 10 kez tekrarlanacak\n",
        "\n",
        "print(\"Program bitti\")  # Bu satır sadece bir kez çalıştırılacak\n",
        "```\n",
        "\n"
      ]
    },
    {
      "cell_type": "code",
      "metadata": {
        "id": "GTRNt3f4dxaZ",
        "colab": {
          "base_uri": "https://localhost:8080/"
        },
        "outputId": "ed1604dc-0d68-4321-8379-3fcdfa92bd50"
      },
      "source": [
        "# Örnek uygulamayı çalıştır\n",
        "\n",
        "deger = 1\n",
        "\n",
        "while deger <= 10:\n",
        "    print(deger)\n",
        "    deger += 1\n",
        "    \n",
        "print(\"Program bitti\")"
      ],
      "execution_count": null,
      "outputs": [
        {
          "output_type": "stream",
          "text": [
            "1\n",
            "2\n",
            "3\n",
            "4\n",
            "5\n",
            "6\n",
            "7\n",
            "8\n",
            "9\n",
            "10\n",
            "Program bitti\n"
          ],
          "name": "stdout"
        }
      ]
    },
    {
      "cell_type": "markdown",
      "metadata": {
        "id": "CBGdLeJbSEev"
      },
      "source": [
        "## break Anahtar Kelimesi\n",
        "Asla bitmeyen döngüye sonsuz döngü adı verilir. Döngü koşulu daima doğru (True) olursa, böyle bir döngü sonsuz olur. \"Break\" anahtar kelimesi geçerli döngüden çıkmak için kullanılır."
      ]
    },
    {
      "cell_type": "markdown",
      "metadata": {
        "id": "ihLhjXWcSnv8"
      },
      "source": [
        "**Örnek Uygulama**\n",
        "\n",
        "```\n",
        "sayi = 0\n",
        "\n",
        "while True:  # bu döngü sonsuz bir döngüdür\n",
        "    print(sayi)\n",
        "    sayi += 1\n",
        "    if sayi >= 5:\n",
        "        break   # sayı değeri 5 olduğunda döngü otomatik olarak sonlanır\n",
        "```\n",
        "\n"
      ]
    },
    {
      "cell_type": "code",
      "metadata": {
        "id": "xXDmHHe2TVLJ",
        "colab": {
          "base_uri": "https://localhost:8080/"
        },
        "outputId": "c6965cb1-3b55-4ef3-d927-aa2adee94c31"
      },
      "source": [
        "# Örnek Uygulamayı çalıştır\n",
        "\n",
        "sayi = 0\n",
        "\n",
        "while True:\n",
        "    print(sayi)\n",
        "    sayi += 1\n",
        "    if sayi >= 5:\n",
        "        break"
      ],
      "execution_count": null,
      "outputs": [
        {
          "output_type": "stream",
          "text": [
            "0\n",
            "1\n",
            "2\n",
            "3\n",
            "4\n"
          ],
          "name": "stdout"
        }
      ]
    },
    {
      "cell_type": "markdown",
      "metadata": {
        "id": "ySFedvaOTqjR"
      },
      "source": [
        "## continue Anahtar Kelimesi\n",
        "\"continue\" anahtar kelimesi, o anda yürütülen döngü için döngü içindeki kodun geri kalanını atlamak ve \"for\" veya \"while\" deyimine geri dönmek için kullanılır."
      ]
    },
    {
      "cell_type": "markdown",
      "metadata": {
        "id": "Ge8XX1mbT0Me"
      },
      "source": [
        "\n",
        "\n",
        "```\n",
        "for i in range(5):\n",
        "    if i == 3:\n",
        "        continue   # i değeri 3 olduğu anda altta yer alan \"print\" komutu atlanıyor.\n",
        "    print(i)\n",
        "```\n",
        "\n"
      ]
    },
    {
      "cell_type": "code",
      "metadata": {
        "id": "8kRu3DpFT4pe",
        "colab": {
          "base_uri": "https://localhost:8080/"
        },
        "outputId": "e41678c3-ce8c-4fca-f361-9f75b3f6a684"
      },
      "source": [
        "# Örnek Uygulamayı çalıştır\n",
        "\n",
        "for i in range(5):\n",
        "    if i == 3:\n",
        "        continue\n",
        "    print(i)"
      ],
      "execution_count": null,
      "outputs": [
        {
          "output_type": "stream",
          "text": [
            "0\n",
            "1\n",
            "2\n",
            "4\n"
          ],
          "name": "stdout"
        }
      ]
    },
    {
      "cell_type": "markdown",
      "metadata": {
        "id": "bvvGF4PTO3MX"
      },
      "source": [
        "**Görev: Tahmin Oyunu**\n",
        "\n",
        "\"while\" döngüsü kullanarak bir tahmin oyunu tasarla. Bu tahmin oyununda, önceden belirlenmiş olan kelime ile klavyeden girilen kelime karşılaştırılmalı, tahmin doğru ise oyun \"Bildiniz..!\" mesajı ile sonlanmalı, yanlış ise tahmin hakkı bir daha verilmeli."
      ]
    },
    {
      "cell_type": "code",
      "metadata": {
        "id": "aPxS3byjrjEN",
        "colab": {
          "base_uri": "https://localhost:8080/"
        },
        "outputId": "d4ab71d3-fbb7-4c49-8878-a6525fbb1c70"
      },
      "source": [
        "#Tahmin Oyunu\n",
        "kelime = \"Bilgi\"\n",
        "tahmin = \"\"\n",
        "\n",
        "while kelime != tahmin:\n",
        "  tahmin = input(\"Tahmininizi giriniz:\")\n",
        "  if(kelime == tahmin):\n",
        "    break\n",
        "  print(\"Bilemediniz, tekrar deneyiniz!\")\n",
        "print(\"Tebrikler bildiniz..!\")\n"
      ],
      "execution_count": null,
      "outputs": [
        {
          "output_type": "stream",
          "text": [
            "Tahmininizi giriniz:Bilim\n",
            "Bilemediniz, tekrar deneyiniz!\n",
            "Tahmininizi giriniz:Bilgi\n",
            "Tebrikler bildiniz..!\n"
          ],
          "name": "stdout"
        }
      ]
    },
    {
      "cell_type": "markdown",
      "metadata": {
        "id": "yWfAoCUc-D9d"
      },
      "source": [
        "# Bölüm 07: Fonksiyonlar"
      ]
    },
    {
      "cell_type": "markdown",
      "metadata": {
        "id": "YJrL9elb-LvL"
      },
      "source": [
        "## Fonksiyon Tanımlama (Definition)\n",
        "Fonksiyonlar, yazılan kodu faydalı bloklara bölmenin, daha okunabilir hale getirmenin ve tekrar kullanmaya yardımcı olmanın kullanışlı bir yoludur. Fonksiyonlar \"def\" anahtar sözcüğü ve ardından fonksiyonun adı kullanılarak tanımlanır."
      ]
    },
    {
      "cell_type": "markdown",
      "metadata": {
        "id": "AY162tKL-6Nd"
      },
      "source": [
        "**Örnek Uygulama**\n",
        "\n",
        "```\n",
        "def merhaba_dunya():  # fonksiyon tanımlama, isimlendirme\n",
        "    print(\"Merhaba Dünya!\") #fonksiyona dahil kod satırları\n",
        "\n",
        "for i in range(5):\n",
        "    merhaba_dunya()   # fonksiyon 5 kere çağırılacak\n",
        "```\n",
        "\n"
      ]
    },
    {
      "cell_type": "code",
      "metadata": {
        "id": "iwMnSTNMevh8",
        "colab": {
          "base_uri": "https://localhost:8080/"
        },
        "outputId": "130a982a-8e8d-4b9a-dd71-6cbac0cb4c9f"
      },
      "source": [
        "# Örnek uygulamayı çalıştır\n",
        "\n",
        "def merhaba_dunya():  # fonksiyon tanımlama, isimlendirme\n",
        "    print(\"Merhaba Dünya!\") #fonksiyona dahil kod satırları\n",
        "\n",
        "for i in range(5):\n",
        "    merhaba_dunya()   # fonksiyon 5 kere çağırılacak"
      ],
      "execution_count": null,
      "outputs": [
        {
          "output_type": "stream",
          "text": [
            "Merhaba Dünya!\n",
            "Merhaba Dünya!\n",
            "Merhaba Dünya!\n",
            "Merhaba Dünya!\n",
            "Merhaba Dünya!\n"
          ],
          "name": "stdout"
        }
      ]
    },
    {
      "cell_type": "markdown",
      "metadata": {
        "id": "UnHQO9MR_pII"
      },
      "source": [
        "##Fonksiyonlarda Parametre Kullanım\n",
        "```\n",
        "\n",
        "\n",
        "\n",
        "Fonksiyon parametreleri, fonksiyon adından sonra parantez () içinde tanımlanır. Parametre, iletilen bağımsız değişken için değişken adı görevi görür."
      ]
    },
    {
      "cell_type": "markdown",
      "metadata": {
        "id": "IDgYf17j_4fu"
      },
      "source": [
        "**Örnek Uygulama**\n",
        "\n",
        "```\n",
        "def foo(x):    # x bir fonksiyon parametresidir\n",
        "    print(\"x = \" + str(x))\n",
        "\n",
        "foo(5)   # 5 değeri fonksiyona iletilir ve değer olarak kullanılır.\n",
        "```\n",
        "\n"
      ]
    },
    {
      "cell_type": "code",
      "metadata": {
        "id": "i2IW-s8wfB3e",
        "colab": {
          "base_uri": "https://localhost:8080/"
        },
        "outputId": "321113e6-9cb8-4150-ff09-bb67529f5092"
      },
      "source": [
        "# Örnek uygulamayı çalıştır\n",
        "\n",
        "def foo(x):\n",
        "    print(\"x = \" + str(x))\n",
        "\n",
        "foo(5)"
      ],
      "execution_count": null,
      "outputs": [
        {
          "output_type": "stream",
          "text": [
            "x = 5\n"
          ],
          "name": "stdout"
        }
      ]
    },
    {
      "cell_type": "markdown",
      "metadata": {
        "id": "53DY9zKcgPHD"
      },
      "source": [
        "**Görev:** *karsila* fonksiyonunun tetiklenmesi için gerekli kod ve parametleri ekle!"
      ]
    },
    {
      "cell_type": "code",
      "metadata": {
        "id": "BKerIDjcpfyE",
        "colab": {
          "base_uri": "https://localhost:8080/"
        },
        "outputId": "8090f565-6878-4d4f-e809-89f31c247871"
      },
      "source": [
        "def karsila(kAd, kSoyad):\n",
        "  print(\"Hoşgeldin, %s %s\" % (kAd, kSoyad))\n",
        "\n",
        "kAd = \"Yağmur\"\n",
        "kSoyad = \"Cengiz\"\n",
        "karsila(kAd, kSoyad)"
      ],
      "execution_count": null,
      "outputs": [
        {
          "output_type": "stream",
          "text": [
            "Hoşgeldin, Yağmur Cengiz\n"
          ],
          "name": "stdout"
        }
      ]
    },
    {
      "cell_type": "markdown",
      "metadata": {
        "id": "LKBMne6BAhid"
      },
      "source": [
        "##Return Değeri\n",
        "Fonksiyonlar, \"return\" anahtar sözcüğünü kullanarak fonksiyon sonucunda bir değer döndürebilir. Döndürülen değer bir değişkene atanabilir veya sadece örneğin değeri yazdırmak için kullanılabilir."
      ]
    },
    {
      "cell_type": "markdown",
      "metadata": {
        "id": "fJuWpMooBV0x"
      },
      "source": [
        "**Örnek Uygulama**\n",
        "\n",
        "```\n",
        "def iki_sayi_topla(a, b):\n",
        "    return a + b    # hesaplama işleminin sonucu değer olarak döndürülüyor\n",
        "\n",
        "print(iki_sayi_topla(3, 12))  # ekrana işlem sonucu yazdırılacak\n",
        "```\n",
        "\n"
      ]
    },
    {
      "cell_type": "code",
      "metadata": {
        "id": "xRukn_KfrsA3",
        "colab": {
          "base_uri": "https://localhost:8080/"
        },
        "outputId": "95c1b05a-6b92-45b1-88d4-a8d4f9f959c1"
      },
      "source": [
        "# Örnek uygulamayı çalıştır\n",
        "\n",
        "def iki_sayi_topla(a, b):\n",
        "    return a + b\n",
        "\n",
        "print(iki_sayi_topla(3, 12))"
      ],
      "execution_count": null,
      "outputs": [
        {
          "output_type": "stream",
          "text": [
            "15\n"
          ],
          "name": "stdout"
        }
      ]
    },
    {
      "cell_type": "markdown",
      "metadata": {
        "id": "FXXW68lICB7S"
      },
      "source": [
        "##Varsayılan Parametreler\n",
        "Bazen bir veya daha fazla fonksiyon parametresi için varsayılan bir değer belirtmek yararlı olabilir. Bu, ihtiyaç duyulan parametrelerden daha az argümanla çağrılabilen bir fonksiyon oluşturur."
      ]
    },
    {
      "cell_type": "markdown",
      "metadata": {
        "id": "fCHKSZpcCglT"
      },
      "source": [
        "**Örnek Uygulama**\n",
        "\n",
        "```\n",
        "def iki_sayi_carp(a, b=2):\n",
        "    return a * b\n",
        "\n",
        "print(iki_sayi_carp(3, 47)) # verilen iki degeri de kullanır \n",
        "print(iki_sayi_carp(3))    # verilmeyen 2. değer yerine varsayılanı kullanır\n",
        "```\n",
        "\n"
      ]
    },
    {
      "cell_type": "code",
      "metadata": {
        "id": "Gy_5nrP6hHOR",
        "colab": {
          "base_uri": "https://localhost:8080/"
        },
        "outputId": "81e456b3-5348-4f3c-e475-e2da37851a13"
      },
      "source": [
        "# Örnek uygulamayı çalıştır\n",
        "\n",
        "def iki_sayi_carp(a, b=2):\n",
        "    return a * b\n",
        "\n",
        "print(iki_sayi_carp(3, 47))\n",
        "print(iki_sayi_carp(3))"
      ],
      "execution_count": null,
      "outputs": [
        {
          "output_type": "stream",
          "text": [
            "141\n",
            "6\n"
          ],
          "name": "stdout"
        }
      ]
    },
    {
      "cell_type": "markdown",
      "metadata": {
        "id": "8iTlloLEh59b"
      },
      "source": [
        "**Örnek Uygulama: Sayısal Loto**\n",
        "\n",
        "Aşağıda temel yapısı aynı olan iki *sayısal loto* uygulaması bulunmaktadır: Fonksiyonsuz ve fonksiyonlu.\n",
        "\n",
        "İlk sayısal loto uygulamasında herhangi bir fonksiyon kullanımı yoktur. Her satırda 1-49 arası 6 adet sayının yer aldığı 6 satır oluşturur.\n",
        "\n",
        "İkinci sayısal loto uygulamsında ise *tahminEt* isimli bir fonksiyon yer almaktadır. Bu fonksiyon varsayılan parametrelere sahiptir ve bu parametreler fonksiyon çağırılırken değiştirilebilir. Böylece ilk uygulamadan çok daha geniş seçenekler sunabilir bir hale gelmiştir.\n",
        "\n"
      ]
    },
    {
      "cell_type": "code",
      "metadata": {
        "id": "W4Z_Rgl_hq1t",
        "colab": {
          "base_uri": "https://localhost:8080/"
        },
        "outputId": "ce0c117c-cb8e-43a0-c835-a0fd7b7daa87"
      },
      "source": [
        "#Sayısal Loto örnek uygulama (fonksiyonsuz)\n",
        "\n",
        "from random import randint\n",
        "i = 0\n",
        "secilenler = [0,0,0,0,0,0]\n",
        "for rastgele in secilenler:\n",
        "    while i < len(secilenler):\n",
        "        secilen = randint(1, 49)\n",
        "        if secilen not in secilenler:\n",
        "            secilenler[i] = secilen\n",
        "            i+=1\n",
        "    print(sorted(secilenler))\n",
        "    i=0"
      ],
      "execution_count": null,
      "outputs": [
        {
          "output_type": "stream",
          "text": [
            "[8, 13, 14, 25, 45, 49]\n",
            "[5, 11, 32, 37, 40, 47]\n",
            "[1, 16, 20, 32, 43, 46]\n",
            "[4, 5, 6, 25, 30, 45]\n",
            "[2, 4, 6, 23, 47, 49]\n",
            "[3, 15, 20, 29, 37, 48]\n"
          ],
          "name": "stdout"
        }
      ]
    },
    {
      "cell_type": "code",
      "metadata": {
        "id": "PRtF6Bd_b2Xg",
        "colab": {
          "base_uri": "https://localhost:8080/"
        },
        "outputId": "84e7b5b4-abee-4e47-a60f-ee62b04773e1"
      },
      "source": [
        "#Sayısal Loto örnek uygulama (fonksiyonlu)\n",
        "\n",
        "from random import randint\n",
        "def tahminEt(rakam=6, satir=6, baslangic=1, bitis=49):\n",
        "  i = 0\n",
        "  secilenler = []\n",
        "  for liste in range(rakam):\n",
        "    secilenler.append(0)\n",
        "  for olustur in range(satir):\n",
        "      while i < len(secilenler):\n",
        "          secilen = randint(baslangic, bitis)\n",
        "          if secilen not in secilenler:\n",
        "              secilenler[i] = secilen\n",
        "              i+=1\n",
        "      print(sorted(secilenler))\n",
        "      i=0\n",
        "tahminEt(10,6,1,60)"
      ],
      "execution_count": null,
      "outputs": [
        {
          "output_type": "stream",
          "text": [
            "[2, 10, 12, 15, 25, 35, 36, 41, 47, 50]\n",
            "[4, 6, 8, 11, 14, 15, 19, 51, 58, 60]\n",
            "[1, 3, 13, 20, 21, 30, 36, 45, 47, 53]\n",
            "[7, 11, 19, 28, 31, 45, 48, 49, 52, 55]\n",
            "[8, 13, 33, 36, 37, 41, 46, 54, 56, 58]\n",
            "[4, 23, 26, 29, 39, 40, 52, 54, 56, 59]\n"
          ],
          "name": "stdout"
        }
      ]
    },
    {
      "cell_type": "markdown",
      "metadata": {
        "id": "lpT_y9p9DB_U"
      },
      "source": [
        "**Görev:** Bu görev genel olarak fonksiyon bölümünü kapsamaktadır.\n",
        "\n",
        "Daha önce yapmış olduğunuz \"Adam Asmaca\" projesini (ya da aşağıda yer alan örneği) fonksiyonlar kullanarak oyun bittiğinde tekrar başlatmaya gerek duyulmadan yeniden oynanabilmesine imkan sağlayacak şekilde yeniden kurgulayın.\n",
        "\n",
        "Oyunun farklı sekansları için farklı fonksiyonlar tanımlayarak oyunu daha optimize hale getirmeye çalışın.\n",
        "\n",
        "Aşağıda bir adam asmaca oyununun temel özellikerine sahip bir örnek yer almaktadır.\n",
        "\n"
      ]
    },
    {
      "cell_type": "code",
      "metadata": {
        "id": "iGDblCXpkeGZ",
        "colab": {
          "base_uri": "https://localhost:8080/"
        },
        "outputId": "0b350ece-c0bb-49a5-ae46-ebd3bf9e8ac9"
      },
      "source": [
        "#Fonksiyonsuz Adam Asmaca\n",
        "\n",
        "from random import choice\n",
        "\n",
        "adamCan = 3\n",
        "\n",
        "kelimeler = [\"bisiklet\", \"triatlon\", \"yüzme\", \"koşu\"]\n",
        "secilenKelime = choice(kelimeler)\n",
        "print(secilenKelime)\n",
        "dizilenKelime = []\n",
        "for diz in secilenKelime:\n",
        "    dizilenKelime.append(\"_\")\n",
        "print(dizilenKelime)\n",
        "\n",
        "while adamCan > 0:\n",
        "    girilenHarf = input(\"Bir harf giriniz: \")\n",
        "    canKontrol = girilenHarf in secilenKelime\n",
        "    if canKontrol == False:\n",
        "        adamCan-=1\n",
        "    i = 0\n",
        "    for kontrol in secilenKelime:\n",
        "        if secilenKelime[i] == girilenHarf:\n",
        "            dizilenKelime[i] = girilenHarf\n",
        "        i+=1\n",
        "    print(dizilenKelime)\n",
        "    print(\"Kalan can: \"+ str(adamCan))"
      ],
      "execution_count": null,
      "outputs": [
        {
          "output_type": "stream",
          "text": [
            "yüzme\n",
            "['_', '_', '_', '_', '_']\n",
            "Bir harf giriniz: y\n",
            "['y', '_', '_', '_', '_']\n",
            "Kalan can: 3\n",
            "Bir harf giriniz: e\n",
            "['y', '_', '_', '_', 'e']\n",
            "Kalan can: 3\n",
            "Bir harf giriniz: a\n",
            "['y', '_', '_', '_', 'e']\n",
            "Kalan can: 2\n",
            "Bir harf giriniz: z\n",
            "['y', '_', 'z', '_', 'e']\n",
            "Kalan can: 2\n",
            "Bir harf giriniz: n\n",
            "['y', '_', 'z', '_', 'e']\n",
            "Kalan can: 1\n",
            "Bir harf giriniz: m\n",
            "['y', '_', 'z', 'm', 'e']\n",
            "Kalan can: 1\n",
            "Bir harf giriniz: ü\n",
            "['y', 'ü', 'z', 'm', 'e']\n",
            "Kalan can: 1\n",
            "Bir harf giriniz: i\n",
            "['y', 'ü', 'z', 'm', 'e']\n",
            "Kalan can: 0\n"
          ],
          "name": "stdout"
        }
      ]
    },
    {
      "cell_type": "code",
      "metadata": {
        "id": "JfxS1H8rEKuR"
      },
      "source": [
        "#Fonksiyonlu Adam Asmaca\n",
        "def AdamAsmaca (adamCan = 3) :\n",
        "  \n",
        "  kelimeler = [\"bisiklet\", \"triatlon\", \"yüzme\", \"koşu\"]\n",
        "  secilenKelime = choice(kelimeler)\n",
        "\n",
        "  dizilenKelime = []\n",
        "  for diz in secilenKelime:\n",
        "    dizilenKelime.append(\"_\")\n",
        "  print(dizilenKelime)\n",
        "\n",
        "  while adamCan > 0:\n",
        "    girilenHarf = input(\"Bir harf giriniz: \")\n",
        "    canKontrol = girilenHarf in secilenKelime\n",
        "    if canKontrol == False:\n",
        "       adamCan-=1\n",
        "  i = 0\n",
        "  for kontrol in secilenKelime:\n",
        "    if secilenKelime[i] == girilenHarf:\n",
        "      dizilenKelime[i] = girilenHarf\n",
        "  i = 1\n",
        "  kelimeGuncel = \"\"\n",
        "  for kelimeGuncel in dizilenKelime:\n",
        "    kelimeGuncel += kelimeGuncel\n",
        "  if secilenKelime == kelimeGuncel:\n",
        "    print(\"Tebrikler kazandınız!\")\n",
        "    AdamAsmaca()\n",
        "    i+=1\n",
        "  print(kelimeGuncel)\n",
        "  print(dizilenKelime)\n",
        "  print(\"Kalan can:\" + str(adamCan))\n",
        " \n",
        "  AdamAsmaca(4)\n",
        "AdamAsmaca(4)\n",
        "\n",
        "\n"
      ],
      "execution_count": null,
      "outputs": []
    },
    {
      "cell_type": "markdown",
      "metadata": {
        "id": "Uocer9uZoa_6"
      },
      "source": [
        "# Bölüm 08: Sınıflar ve Nesneler\n",
        "\n",
        "Bu bölümde:\n",
        "\n",
        "*   Sınıf ve nesne tanımlama,\n",
        "*   Değişkenlere erişim,\n",
        "*   self parametresi,\n",
        "*   init metodu yer almaktadır."
      ]
    },
    {
      "cell_type": "markdown",
      "metadata": {
        "id": "nSklAub4oh9p"
      },
      "source": [
        "## Sınıf ve Nesne Tanımlama\n",
        "Bir nesne değişkenleri ve fonksiyonları tek bir varlıkta birleştirir. Nesneler değişkenlerini ve fonksiyonlarını sınıflardan alır. Sınıflar bir anlamda nesnelerinizi oluşturmak için kullanılan şablonlardır. Bir nesneyi, fonksiyonların yanı sıra veri içeren tek bir veri yapısı olarak düşünebilirsiniz. Nesnelerin fonksiyonlarına yöntem (metod) denir.\n",
        "\n",
        "**İpucu:** Sınıf isimlerinin baş harfi büyük yazılarak Python içindeki diğer öğelerden (değişken, fonksiyon vb.) daha rahat ayırt edilmeleri sağlanır."
      ]
    },
    {
      "cell_type": "markdown",
      "metadata": {
        "id": "ShzCIh8VpgM0"
      },
      "source": [
        "**Örnek Uygulama**\n",
        "\n",
        "\n",
        "```\n",
        "class BenimSinifim: # yeni bir sınıfın tanımlanması\n",
        "    \n",
        "    bsDegisken = 4  # sınıf içinde yer alan bir değişken\n",
        "\n",
        "    def bsFonksiyon(self): #sınıf içinde yer alan bir fonksiyon\n",
        "        print(\"Benim sınıfımın fonksiyonundan Merhaba!\")\n",
        "\n",
        "benimNesnem = BenimSinifim()\n",
        "```\n",
        "\n"
      ]
    },
    {
      "cell_type": "markdown",
      "metadata": {
        "id": "5NwBvq6S0r4v"
      },
      "source": [
        "##Değişkenlere ve Fonksiyonlara Erişim\n",
        "Sınıftan örneklenen bir nesnenin içindeki bir değişkene ya da fonksiyona erişmek için öncelikle nesnenin adı daha sonra ise değişkenin ya da fonkiyonun adı çağırılmalıdır (Ör: nesneAdi.degiskenAdi). Bir sınıfın farklı örnekleri (nesneleri) içinde tanımlanan değişkenlerin değerleri değiştirebilir."
      ]
    },
    {
      "cell_type": "markdown",
      "metadata": {
        "id": "NAcj1XjQn89D"
      },
      "source": [
        "**Örnek Uygulama 1**\n",
        "\n",
        "\n",
        "```\n",
        "class BenimSinifim:   # yeni bir sınıf oluşturur\n",
        "    bsDegisken = 3    # sınıfın içinde bir değişken tanımlar\n",
        "    def bsFonksiyon(self):  #sınıfın içinde bir fonksiyon tanımlar\n",
        "        print(\"Benim sınıfımın fonksiyonundan Merhaba!\")\n",
        "\n",
        "benimNesnem = BenimSinifim()  #sınıftan yeni bir nesne oluşturur\n",
        "\n",
        "for i in range(benimNesnem.bsDegisken):  #  oluşturulan nesne üzerinden değişkene ve fonksiyona ulaşılır\n",
        "  benimNesnem.bsFonksiyon()\n",
        "\n",
        "benimNesnem.bsDegisken = 5  #  sınıfın içinde tanımlanan değişkene yeni değer atanması\n",
        "\n",
        "for i in range(benimNesnem.bsDegisken):\n",
        "  benimNesnem.bsFonksiyon()\n",
        "```\n",
        "\n"
      ]
    },
    {
      "cell_type": "code",
      "metadata": {
        "id": "LpNM7SptoLK-",
        "colab": {
          "base_uri": "https://localhost:8080/"
        },
        "outputId": "d290b923-b6ab-4284-e500-c9bcab816df2"
      },
      "source": [
        "# Örnek uygulama 1'i gözlemleyelim\n",
        "\n",
        "class BenimSinifim:   \n",
        "    bsDegisken = 3\n",
        "    def bsFonksiyon(self):\n",
        "        print(\"Benim sınıfımın fonksiyonundan Merhaba!\")\n",
        "\n",
        "benimNesnem = BenimSinifim()\n",
        "\n",
        "for i in range(benimNesnem.bsDegisken):\n",
        "  benimNesnem.bsFonksiyon()\n",
        "\n",
        "benimNesnem.bsDegisken = 5\n",
        "\n",
        "for i in range(benimNesnem.bsDegisken):\n",
        "  benimNesnem.bsFonksiyon()"
      ],
      "execution_count": null,
      "outputs": [
        {
          "output_type": "stream",
          "text": [
            "Benim sınıfımın fonksiyonundan Merhaba!\n",
            "Benim sınıfımın fonksiyonundan Merhaba!\n",
            "Benim sınıfımın fonksiyonundan Merhaba!\n",
            "Benim sınıfımın fonksiyonundan Merhaba!\n",
            "Benim sınıfımın fonksiyonundan Merhaba!\n",
            "Benim sınıfımın fonksiyonundan Merhaba!\n",
            "Benim sınıfımın fonksiyonundan Merhaba!\n",
            "Benim sınıfımın fonksiyonundan Merhaba!\n"
          ],
          "name": "stdout"
        }
      ]
    },
    {
      "cell_type": "markdown",
      "metadata": {
        "id": "E0v9sloQ22oP"
      },
      "source": [
        "**Örnek Uygulama 2**\n",
        "\n",
        "\n",
        "```\n",
        "class Bisiklet:\n",
        "    renk = \"Kırmızı\"\n",
        "    vites = 1\n",
        "    def ozellikler(self):\n",
        "        ozellikDetay = \"Bu bisiklet %s renkli ve %d viteslidir.\" % (self.renk, self.vites)\n",
        "        return ozellikDetay\n",
        "\n",
        "bisiklet1 = Bisiklet()\n",
        "bisiklet2 = Bisiklet()\n",
        "\n",
        "print(\"Bisiklet 1: \" + bisiklet1.ozellikler())\n",
        "\n",
        "bisiklet2.renk = \"Sarı\"\n",
        "bisiklet2.vites = 22\n",
        "\n",
        "print(\"Bisiklet 2: \" + bisiklet2.ozellikler())\n",
        "```\n",
        "\n"
      ]
    },
    {
      "cell_type": "code",
      "metadata": {
        "id": "RPIbXyYvrTlk",
        "colab": {
          "base_uri": "https://localhost:8080/"
        },
        "outputId": "e7cf6b4a-9656-4e61-8b20-e27525859a78"
      },
      "source": [
        "# Örnek uygulama 2'i gözlemleyelim\n",
        "\n",
        "class Bisiklet:\n",
        "    renk = \"Kırmızı\"\n",
        "    vites = 1\n",
        "    def ozellikler(self):\n",
        "        ozellikDetay = \"Bu bisiklet %s renkli ve %d viteslidir.\" % (self.renk, self.vites)\n",
        "        return ozellikDetay\n",
        "\n",
        "bisiklet1 = Bisiklet()\n",
        "bisiklet2 = Bisiklet()\n",
        "\n",
        "print(\"Bisiklet 1: \" + bisiklet1.ozellikler())\n",
        "\n",
        "bisiklet2.renk = \"Sarı\"\n",
        "bisiklet2.vites = 22\n",
        "\n",
        "print(\"Bisiklet 2: \" + bisiklet2.ozellikler())"
      ],
      "execution_count": null,
      "outputs": [
        {
          "output_type": "stream",
          "text": [
            "Bisiklet 1: Bu bisiklet Kırmızı renkli ve 1 viteslidir.\n",
            "Bisiklet 2: Bu bisiklet Sarı renkli ve 22 viteslidir.\n"
          ],
          "name": "stdout"
        }
      ]
    },
    {
      "cell_type": "markdown",
      "metadata": {
        "id": "o8f-zk-y3KvD"
      },
      "source": [
        "##self Parametresi\n",
        "\"self\" parametresi bir Python kuralıdır. \"self\", herhangi bir sınıf yöntemine iletilen ilk parametredir. Python, oluşturulan nesneyi belirtmek için self parametresini kullanır."
      ]
    },
    {
      "cell_type": "markdown",
      "metadata": {
        "id": "ZoxlmJep4C6j"
      },
      "source": [
        "**Örnek Uygulama**\n",
        "\n",
        "Aşağıdaki örnek uygulamada **Bisiklet** sınıfının değişkenleri olan *renk* ve *bisiklet*, sınıf içindeki fonksiyonda **self** parametresi ile birlikte kullanılmaktadır. Bu kullanım şekli sınıftan oluşturulan nesnelerin tanımlanmış değişkenlere ulaşabilmeleri için gereklidir.\n",
        "```\n",
        "class Bisiklet:\n",
        "    renk = \"Kırmızı\"\n",
        "    vites = 1\n",
        "    def ozellikler(self):\n",
        "        ozellikDetay = \"Bu bisiklet %s renkli ve %d viteslidir.\" % (self.renk, self.vites)\n",
        "        return ozellikDetay\n",
        "```\n",
        "\n"
      ]
    },
    {
      "cell_type": "code",
      "metadata": {
        "id": "2gqeiPB9ys1l",
        "colab": {
          "base_uri": "https://localhost:8080/",
          "height": 350
        },
        "outputId": "8e79aabf-913a-4b69-cc52-23baf2f7a143"
      },
      "source": [
        "# Örnek uygulamada \"self\" tanımlaması yapılmadığı zaman döndürülen hata kodunu inceleyin\n",
        "\n",
        "class Bisiklet:\n",
        "    renk = \"Kırmızı\"\n",
        "    vites = 1\n",
        "    def ozellikler(self):\n",
        "        ozellikDetay = \"Bu bisiklet %s renkli ve %d viteslidir.\" % (renk, vites) #tanımlama eksik\n",
        "        return ozellikDetay\n",
        "\n",
        "bisiklet1 = Bisiklet()\n",
        "bisiklet2 = Bisiklet()\n",
        "\n",
        "print(\"Bisiklet 1: \" + bisiklet1.ozellikler())\n",
        "\n",
        "bisiklet2.renk = \"Sarı\"\n",
        "bisiklet2.vites = 22\n",
        "\n",
        "print(\"Bisiklet 2: \" + bisiklet2.ozellikler())"
      ],
      "execution_count": null,
      "outputs": [
        {
          "output_type": "error",
          "ename": "NameError",
          "evalue": "ignored",
          "traceback": [
            "\u001b[0;31m---------------------------------------------------------------------------\u001b[0m",
            "\u001b[0;31mNameError\u001b[0m                                 Traceback (most recent call last)",
            "\u001b[0;32m<ipython-input-2-97ef66ce1b89>\u001b[0m in \u001b[0;36m<module>\u001b[0;34m()\u001b[0m\n\u001b[1;32m     11\u001b[0m \u001b[0mbisiklet2\u001b[0m \u001b[0;34m=\u001b[0m \u001b[0mBisiklet\u001b[0m\u001b[0;34m(\u001b[0m\u001b[0;34m)\u001b[0m\u001b[0;34m\u001b[0m\u001b[0;34m\u001b[0m\u001b[0m\n\u001b[1;32m     12\u001b[0m \u001b[0;34m\u001b[0m\u001b[0m\n\u001b[0;32m---> 13\u001b[0;31m \u001b[0mprint\u001b[0m\u001b[0;34m(\u001b[0m\u001b[0;34m\"Bisiklet 1: \"\u001b[0m \u001b[0;34m+\u001b[0m \u001b[0mbisiklet1\u001b[0m\u001b[0;34m.\u001b[0m\u001b[0mozellikler\u001b[0m\u001b[0;34m(\u001b[0m\u001b[0;34m)\u001b[0m\u001b[0;34m)\u001b[0m\u001b[0;34m\u001b[0m\u001b[0;34m\u001b[0m\u001b[0m\n\u001b[0m\u001b[1;32m     14\u001b[0m \u001b[0;34m\u001b[0m\u001b[0m\n\u001b[1;32m     15\u001b[0m \u001b[0mbisiklet2\u001b[0m\u001b[0;34m.\u001b[0m\u001b[0mrenk\u001b[0m \u001b[0;34m=\u001b[0m \u001b[0;34m\"Sarı\"\u001b[0m\u001b[0;34m\u001b[0m\u001b[0;34m\u001b[0m\u001b[0m\n",
            "\u001b[0;32m<ipython-input-2-97ef66ce1b89>\u001b[0m in \u001b[0;36mozellikler\u001b[0;34m(self)\u001b[0m\n\u001b[1;32m      5\u001b[0m     \u001b[0mvites\u001b[0m \u001b[0;34m=\u001b[0m \u001b[0;36m1\u001b[0m\u001b[0;34m\u001b[0m\u001b[0;34m\u001b[0m\u001b[0m\n\u001b[1;32m      6\u001b[0m     \u001b[0;32mdef\u001b[0m \u001b[0mozellikler\u001b[0m\u001b[0;34m(\u001b[0m\u001b[0mself\u001b[0m\u001b[0;34m)\u001b[0m\u001b[0;34m:\u001b[0m\u001b[0;34m\u001b[0m\u001b[0;34m\u001b[0m\u001b[0m\n\u001b[0;32m----> 7\u001b[0;31m         \u001b[0mozellikDetay\u001b[0m \u001b[0;34m=\u001b[0m \u001b[0;34m\"Bu bisiklet %s renkli ve %d viteslidir.\"\u001b[0m \u001b[0;34m%\u001b[0m \u001b[0;34m(\u001b[0m\u001b[0mrenk\u001b[0m\u001b[0;34m,\u001b[0m \u001b[0mvites\u001b[0m\u001b[0;34m)\u001b[0m \u001b[0;31m#tanımlama eksik\u001b[0m\u001b[0;34m\u001b[0m\u001b[0;34m\u001b[0m\u001b[0m\n\u001b[0m\u001b[1;32m      8\u001b[0m         \u001b[0;32mreturn\u001b[0m \u001b[0mozellikDetay\u001b[0m\u001b[0;34m\u001b[0m\u001b[0;34m\u001b[0m\u001b[0m\n\u001b[1;32m      9\u001b[0m \u001b[0;34m\u001b[0m\u001b[0m\n",
            "\u001b[0;31mNameError\u001b[0m: name 'renk' is not defined"
          ]
        }
      ]
    },
    {
      "cell_type": "markdown",
      "metadata": {
        "id": "1B4iU-FI4wRy"
      },
      "source": [
        "##__init__ Metodu\n",
        "__init__ fonksiyonu, oluşturduğu nesneleri başlatmak için kullanılır. init \"başlat\" ın kısaltmasıdır. __init__() her zaman yaratılan nesneye atıfta bulunan en az bir argüman alır: \"self\".\n"
      ]
    },
    {
      "cell_type": "markdown",
      "metadata": {
        "id": "FMtmqmiD44ZH"
      },
      "source": [
        "**Örnek Uygulama**\n",
        "\n",
        "Aşağıdaki örnek uygulamada *sporDali* sınıfının içinde tanımlanan **init** fonksiyonu, sınıf oluşturulduğu anda çalışmaya başlamaktadır. Fonksiyonun ayrıca çağırılmasına gerek kalmamıştır.\n",
        "```\n",
        "class sporDali:\n",
        "  sporlar = [\"Yüzme\", \"Bisiklet\", \"Koşu\"]\n",
        "  def __init__(self):\n",
        "    for spor in self.sporlar:\n",
        "      print(spor + \" bir triatlon branşıdır.\")\n",
        "\n",
        "triatlon = sporDali()\n",
        "```\n",
        "\n"
      ]
    },
    {
      "cell_type": "code",
      "metadata": {
        "id": "5zwuicQu0wm7",
        "colab": {
          "base_uri": "https://localhost:8080/"
        },
        "outputId": "8756fda8-29c1-4cb9-854d-cfb728555c07"
      },
      "source": [
        "# Örnek uygulamayı çalıştır\n",
        "\n",
        "class sporDali:\n",
        "  sporlar = [\"Yüzme\", \"Bisiklet\", \"Koşu\"]\n",
        "  def __init__(self):\n",
        "    for spor in self.sporlar:\n",
        "      print(spor + \" bir triatlon branşıdır.\")\n",
        "\n",
        "triatlon = sporDali()"
      ],
      "execution_count": null,
      "outputs": [
        {
          "output_type": "stream",
          "text": [
            "Yüzme bir triatlon branşıdır.\n",
            "Bisiklet bir triatlon branşıdır.\n",
            "Koşu bir triatlon branşıdır.\n"
          ],
          "name": "stdout"
        }
      ]
    },
    {
      "cell_type": "markdown",
      "metadata": {
        "id": "UbKP1Z_c0d9k"
      },
      "source": [
        "#Bölüm 09: Modüller ve Paketler"
      ]
    },
    {
      "cell_type": "markdown",
      "metadata": {
        "id": "KyJG2zkhzLD7"
      },
      "source": [
        "##Modülün İçe Aktarılması\n",
        "Python'daki modüller, Python tanımlarını (sınıflar, fonksiyonlar vb.) ve ifadelerini (değişkenler, listeler, sözlükler vb.) içeren .py uzantısına sahip Python dosyalarıdır.\n",
        "\n",
        "Modüller, *import* anahtar sözcüğü ve uzantı olmadan dosya adı kullanılarak içe aktarılır. Bir modül, çalışan bir Python betiğine ilk kez yüklendiğinde, modüldeki kodun bir kez çalıştırılmasıyla başlatılır."
      ]
    },
    {
      "cell_type": "markdown",
      "metadata": {
        "id": "15prWEGSz1SN"
      },
      "source": [
        "**Örnek Uygulama**\n",
        "\n",
        "\n",
        "\n",
        "```\n",
        "#bisiklet.py adlı modülün içeriği\n",
        "\"\"\"\n",
        "Bu modül içinde Bisiklet sınıfı yer almaktadır.\n",
        "\"\"\"\n",
        "class Bisiklet:\n",
        "    renk = \"Kırmızı\"\n",
        "    vites = 1\n",
        "    def ozellikler(self):\n",
        "        ozellikDetay = \"Bu bisiklet %s renkli ve %d viteslidir.\" % (self.renk, self.vites)\n",
        "        return ozellikDetay\n",
        "```\n",
        "\n",
        "\n",
        "\n",
        "```\n",
        "#bisikletler.py adlı Python dosyasının içeriği\n",
        "\n",
        "import bisiklet\n",
        "\n",
        "bisiklet1 = bisiklet.Bisiklet()\n",
        "\n",
        "print(\"Bisiklet 1: \" + bisiklet1.ozellikler())\n",
        "\n",
        "```\n",
        "\n"
      ]
    },
    {
      "cell_type": "markdown",
      "metadata": {
        "id": "lmb0EwAx-xYG"
      },
      "source": [
        "**PyCharm Örneği**\n",
        "\n",
        "\n",
        "![bisiklet.py](http://www.madran.net/wp-content/uploads/2020/05/bisikletPY.png) \n",
        "\n",
        "bisiklet.py\n",
        "\n",
        "\n",
        "\n",
        "---\n",
        "\n",
        "\n",
        "\n",
        "![alt text](http://www.madran.net/wp-content/uploads/2020/05/bisikletlerPY.png)\n",
        "\n",
        "bisikletler.py"
      ]
    },
    {
      "cell_type": "markdown",
      "metadata": {
        "id": "btdYo-btCCu5"
      },
      "source": [
        "##Colab'de Modülün İçe Aktarılması\n",
        "\n",
        "Bir önceki bölümde (Modülün İçe Aktarılması) herhangi bir kişisel bilgisayarın sabit diski üzerinde çalışırken yerleşik olmayan (kendi yazdığımız) modülün içe aktarılması yer aldı.\n",
        "\n",
        "Bu bölümde ise Colab üzerinde çalışırken yerleşik olmayan bir modülü nasıl içe aktarılacağı yer almakta."
      ]
    },
    {
      "cell_type": "markdown",
      "metadata": {
        "id": "4KYGmiV4EQwz"
      },
      "source": [
        "**Örnek Uygulama**\n",
        "\n",
        "Aşağıda içeriği görüntülenen *bisiklet.py* adlı Python dosyası Google Drive içerisinde \"BBY162_Python_a_Giris.ipynb\" dosyasının ile aynı klasör içinde bulunmaktadır.\n",
        "\n",
        "```\n",
        "#bisiklet.py adlı modülün içeriği\n",
        "\"\"\"\n",
        "Bu modül içinde Bisiklet sınıfı yer almaktadır.\n",
        "\"\"\"\n",
        "class Bisiklet:\n",
        "    renk = \"Kırmızı\"\n",
        "    vites = 1\n",
        "    def ozellikler(self):\n",
        "        ozellikDetay = \"Bu bisiklet %s renkli ve %d viteslidir.\" % (self.renk, self.vites)\n",
        "        return ozellikDetay\n",
        "```\n"
      ]
    },
    {
      "cell_type": "code",
      "metadata": {
        "id": "slM_q141DkRK",
        "colab": {
          "base_uri": "https://localhost:8080/",
          "height": 367
        },
        "outputId": "0ae7e91f-099e-4c37-d650-b058fb0bba00"
      },
      "source": [
        "# Google Drive'ın bir disk olarak görülmesi \n",
        "#from google.colab import drive\n",
        "#drive.mount('gdrive') # bağlanan diskin 'gdrive' adı ile tanımlanması.\n",
        "\n",
        "import sys # bağlanan diskin fiziksel yolunun tespit edilmesi ve bağlantı yoluna eklenmesi\n",
        "sys.path.append('/content/gdrive/MyDrive/Colab Notebooks/HU-BBY162-2021')\n",
        "\n",
        "import bisiklet # bisiklet.py içerisindeki 'bisiklet' sınıfının içe aktarılması\n",
        "\n",
        "bisiklet1 = bisiklet.Bisiklet()\n",
        "print(\"Bisiklet 1: \" + bisiklet1.ozellikler())"
      ],
      "execution_count": null,
      "outputs": [
        {
          "output_type": "error",
          "ename": "ModuleNotFoundError",
          "evalue": "ignored",
          "traceback": [
            "\u001b[0;31m---------------------------------------------------------------------------\u001b[0m",
            "\u001b[0;31mModuleNotFoundError\u001b[0m                       Traceback (most recent call last)",
            "\u001b[0;32m<ipython-input-2-824e01acd7e6>\u001b[0m in \u001b[0;36m<module>\u001b[0;34m()\u001b[0m\n\u001b[1;32m      6\u001b[0m \u001b[0msys\u001b[0m\u001b[0;34m.\u001b[0m\u001b[0mpath\u001b[0m\u001b[0;34m.\u001b[0m\u001b[0mappend\u001b[0m\u001b[0;34m(\u001b[0m\u001b[0;34m'/content/gdrive/MyDrive/Colab Notebooks/HU-BBY162-2021'\u001b[0m\u001b[0;34m)\u001b[0m\u001b[0;34m\u001b[0m\u001b[0;34m\u001b[0m\u001b[0m\n\u001b[1;32m      7\u001b[0m \u001b[0;34m\u001b[0m\u001b[0m\n\u001b[0;32m----> 8\u001b[0;31m \u001b[0;32mimport\u001b[0m \u001b[0mbisiklet\u001b[0m \u001b[0;31m# bisiklet.py içerisindeki 'bisiklet' sınıfının içe aktarılması\u001b[0m\u001b[0;34m\u001b[0m\u001b[0;34m\u001b[0m\u001b[0m\n\u001b[0m\u001b[1;32m      9\u001b[0m \u001b[0;34m\u001b[0m\u001b[0m\n\u001b[1;32m     10\u001b[0m \u001b[0mbisiklet1\u001b[0m \u001b[0;34m=\u001b[0m \u001b[0mbisiklet\u001b[0m\u001b[0;34m.\u001b[0m\u001b[0mBisiklet\u001b[0m\u001b[0;34m(\u001b[0m\u001b[0;34m)\u001b[0m\u001b[0;34m\u001b[0m\u001b[0;34m\u001b[0m\u001b[0m\n",
            "\u001b[0;31mModuleNotFoundError\u001b[0m: No module named 'bisiklet'",
            "",
            "\u001b[0;31m---------------------------------------------------------------------------\u001b[0;32m\nNOTE: If your import is failing due to a missing package, you can\nmanually install dependencies using either !pip or !apt.\n\nTo view examples of installing some common dependencies, click the\n\"Open Examples\" button below.\n\u001b[0;31m---------------------------------------------------------------------------\u001b[0m\n"
          ]
        }
      ]
    },
    {
      "cell_type": "code",
      "metadata": {
        "id": "762NKVyuanor"
      },
      "source": [
        "from google.colab import drive\n",
        "drive.mount('/content/drive')"
      ],
      "execution_count": null,
      "outputs": []
    },
    {
      "cell_type": "markdown",
      "metadata": {
        "id": "tVPUaDwZBfrc"
      },
      "source": [
        "##Yerleşik Modüller (built-in)\n",
        "Python aşağıdaki bağlantıda yer alan standart modüllerle birlikte gelir. Bu modüllerin *import* anahtar kelimesi ile çağrılması yeterlidir. Ayrıca bu modüllerin yüklenmesine gerek yoktur.\n",
        "\n",
        "[Python Standart Modülleri](https://docs.python.org/3/library/)"
      ]
    },
    {
      "cell_type": "markdown",
      "metadata": {
        "id": "1UvfkosdCOQW"
      },
      "source": [
        "**Örnek Uygulama**\n",
        "\n",
        "\n",
        "```\n",
        "import datetime\n",
        "print(datetime.datetime.today())\n",
        "```\n",
        "\n"
      ]
    },
    {
      "cell_type": "code",
      "metadata": {
        "id": "CKTfLO0PH3mF",
        "colab": {
          "base_uri": "https://localhost:8080/"
        },
        "outputId": "9dcdb13e-609d-4f95-bf6f-dcefbd847367"
      },
      "source": [
        "# Örnek uygulamayı çalıştır \n",
        "\n",
        "import datetime\n",
        "print(datetime.datetime.today())"
      ],
      "execution_count": null,
      "outputs": [
        {
          "output_type": "stream",
          "text": [
            "2021-05-16 18:12:46.633624\n"
          ],
          "name": "stdout"
        }
      ]
    },
    {
      "cell_type": "markdown",
      "metadata": {
        "id": "nqSNESNxDoVL"
      },
      "source": [
        "##from import Kullanımı\n",
        "İçe aktarma ifadesinin bir başka kullanım şekli *from* anahtar kelimesinin kullanılmasıdır. *from* ifadesi ile modül adları paketin içinde alınarak direkt kullanıma hazır hale getirilir. Bu şekilde, içe aktarılan modül, modül_adı öneki olmadan doğrudan kullanılır."
      ]
    },
    {
      "cell_type": "markdown",
      "metadata": {
        "id": "ccZnbUVLE9hg"
      },
      "source": [
        "**Örnek Uygulama**\n",
        "\n",
        "\n",
        "\n",
        "```\n",
        "#bisiklet.py adlı modülün içeriği\n",
        "\"\"\"\n",
        "Bu modül içinde Bisiklet sınıfı yer almaktadır.\n",
        "\"\"\"\n",
        "class Bisiklet:\n",
        "    renk = \"Kırmızı\"\n",
        "    vites = 1\n",
        "    def ozellikler(self):\n",
        "        ozellikDetay = \"Bu bisiklet %s renkli ve %d viteslidir.\" % (self.renk, self.vites)\n",
        "        return ozellikDetay\n",
        "```\n"
      ]
    },
    {
      "cell_type": "code",
      "metadata": {
        "id": "HxSSqtqMIYpS",
        "colab": {
          "base_uri": "https://localhost:8080/",
          "height": 384
        },
        "outputId": "3380ebe8-6893-44fa-e70a-33cd7500aa90"
      },
      "source": [
        "# Google Drive'ın bir disk olarak görülmesi \n",
        "from google.colab import drive\n",
        "drive.mount('gdrive') # bağlanan diskin 'gdrive' adı ile tanımlanması.\n",
        "\n",
        "import sys # bağlanan diskin fiziksel yolunun tespit edilmesi ve bağlantı yoluna eklenmesi\n",
        "sys.path.append('/content/gdrive/MyDrive/HU BBY162/Colab Notebooks/BBY162_Python_a_Giris.ipynb adlı not defteri')\n",
        "\n",
        "from bisiklet import Bisiklet # bisiklet.py içerisindeki 'bisiklet' sınıfının içe aktarılması\n",
        "\n",
        "bisiklet1 = Bisiklet() # bisiklet ön tanımlamasına gerek kalmadı\n",
        "print(\"Bisiklet 1: \" + bisiklet1.ozellikler())"
      ],
      "execution_count": null,
      "outputs": [
        {
          "output_type": "stream",
          "text": [
            "Drive already mounted at gdrive; to attempt to forcibly remount, call drive.mount(\"gdrive\", force_remount=True).\n"
          ],
          "name": "stdout"
        },
        {
          "output_type": "error",
          "ename": "ModuleNotFoundError",
          "evalue": "ignored",
          "traceback": [
            "\u001b[0;31m---------------------------------------------------------------------------\u001b[0m",
            "\u001b[0;31mModuleNotFoundError\u001b[0m                       Traceback (most recent call last)",
            "\u001b[0;32m<ipython-input-5-25d2d96ffbbb>\u001b[0m in \u001b[0;36m<module>\u001b[0;34m()\u001b[0m\n\u001b[1;32m      6\u001b[0m \u001b[0msys\u001b[0m\u001b[0;34m.\u001b[0m\u001b[0mpath\u001b[0m\u001b[0;34m.\u001b[0m\u001b[0mappend\u001b[0m\u001b[0;34m(\u001b[0m\u001b[0;34m'/content/gdrive/MyDrive/HU BBY162/Colab Notebooks/BBY162_Python_a_Giris.ipynb adlı not defteri'\u001b[0m\u001b[0;34m)\u001b[0m\u001b[0;34m\u001b[0m\u001b[0;34m\u001b[0m\u001b[0m\n\u001b[1;32m      7\u001b[0m \u001b[0;34m\u001b[0m\u001b[0m\n\u001b[0;32m----> 8\u001b[0;31m \u001b[0;32mfrom\u001b[0m \u001b[0mbisiklet\u001b[0m \u001b[0;32mimport\u001b[0m \u001b[0mBisiklet\u001b[0m \u001b[0;31m# bisiklet.py içerisindeki 'bisiklet' sınıfının içe aktarılması\u001b[0m\u001b[0;34m\u001b[0m\u001b[0;34m\u001b[0m\u001b[0m\n\u001b[0m\u001b[1;32m      9\u001b[0m \u001b[0;34m\u001b[0m\u001b[0m\n\u001b[1;32m     10\u001b[0m \u001b[0mbisiklet1\u001b[0m \u001b[0;34m=\u001b[0m \u001b[0mBisiklet\u001b[0m\u001b[0;34m(\u001b[0m\u001b[0;34m)\u001b[0m \u001b[0;31m# bisiklet ön tanımlamasına gerek kalmadı\u001b[0m\u001b[0;34m\u001b[0m\u001b[0;34m\u001b[0m\u001b[0m\n",
            "\u001b[0;31mModuleNotFoundError\u001b[0m: No module named 'bisiklet'",
            "",
            "\u001b[0;31m---------------------------------------------------------------------------\u001b[0;32m\nNOTE: If your import is failing due to a missing package, you can\nmanually install dependencies using either !pip or !apt.\n\nTo view examples of installing some common dependencies, click the\n\"Open Examples\" button below.\n\u001b[0;31m---------------------------------------------------------------------------\u001b[0m\n"
          ]
        }
      ]
    },
    {
      "cell_type": "markdown",
      "metadata": {
        "id": "8s0bn98LFdh4"
      },
      "source": [
        "#Bölüm 10: Dosya İşlemleri"
      ]
    },
    {
      "cell_type": "markdown",
      "metadata": {
        "id": "cTf7unkXFtRi"
      },
      "source": [
        "##Dosya Okuma\n",
        "Python, bilgisayarınızdaki bir dosyadan bilgi okumak ve yazmak için bir dizi yerleşik fonksiyona sahiptir. **open** fonksiyonu bir dosyayı açmak için kullanılır. Dosya, okuma modunda (ikinci argüman olarak \"r\" kullanılarak) veya yazma modunda (ikinci argüman olarak \"w\" kullanılarak) açılabilir. **open** fonksiyonu dosya nesnesini döndürür. Dosyanın saklanması için kapatılması gerekir."
      ]
    },
    {
      "cell_type": "markdown",
      "metadata": {
        "id": "SV9N24JsRqbk"
      },
      "source": [
        "**Örnek Uygulama**\n",
        "\n",
        "\n",
        "```\n",
        "#Google Drive Bağlantısı\n",
        "from google.colab import drive\n",
        "drive.mount('/gdrive')\n",
        "\n",
        "dosya = \"/gdrive/My Drive/Colab Notebooks/BBY162 - Programlama ve Algoritmalar/metin.txt\"\n",
        "\n",
        "f = open(dosya, \"r\") \n",
        "\n",
        "for line in f.readlines():\n",
        "    print(line)\n",
        "\n",
        "f.close()\n",
        "```\n",
        "\n",
        "Dosyanın sağlıklı şekilde okunabilmesi için Google Drive ile bağlantının kurulmuş olması ve okunacak dosyanın yolunun tam olarak belirtilmesi gerekmektedir.\n",
        "\n",
        "![Google Drive Colab Klasörü](http://www.madran.net/wp-content/uploads/2020/05/driveMetin.png)"
      ]
    },
    {
      "cell_type": "code",
      "metadata": {
        "id": "3KXhzd_FKMWt",
        "colab": {
          "base_uri": "https://localhost:8080/"
        },
        "outputId": "772b676b-3379-45bd-a013-e7ca864dfa59"
      },
      "source": [
        "#Google Drive Bağlantısı\n",
        "'''\n",
        "from google.colab import drive\n",
        "drive.mount('/gdrive')\n",
        "\n",
        "dosya = \"/gdrive/My Drive/Colab Notebooks/BBY162 - Programlama ve Algoritmalar/metin.txt\"\n",
        "'''\n",
        "dosya = \"/content/gdrive/MyDrive/HU BBY162/Colab Notebooks/BBY162_Python_a_Giris.ipynb adlı not defteri\"\n",
        "\n",
        "f = open(dosya, \"r\") \n",
        "\n",
        "for line in f.readlines():\n",
        "    print(line)\n",
        "\n",
        "f.close()"
      ],
      "execution_count": null,
      "outputs": [
        {
          "output_type": "stream",
          "text": [
            "{\"nbformat\":4,\"nbformat_minor\":0,\"metadata\":{\"colab\":{\"name\":\"BBY162_Python_a_Giris.ipynb adlı not defteri\",\"provenance\":[{\"file_id\":\"https://github.com/orcunmadran/hu-bby162-2020/blob/master/BBY162_Python_a_Giris.ipynb\",\"timestamp\":1615318817180}],\"collapsed_sections\":[],\"toc_visible\":true},\"kernelspec\":{\"name\":\"python3\",\"display_name\":\"Python 3\"}},\"cells\":[{\"cell_type\":\"markdown\",\"metadata\":{\"id\":\"NfVak32KVWSs\"},\"source\":[\"#Bölüm 00: Python'a Giriş\"]},{\"cell_type\":\"markdown\",\"metadata\":{\"id\":\"Jx99cm91VfHw\"},\"source\":[\"## Yazar Hakkında\\n\",\"Yağmur Cengiz\"]},{\"cell_type\":\"markdown\",\"metadata\":{\"id\":\"Pg3xaBR3XNNs\"},\"source\":[\"##Çalışma Defteri Hakkında\\n\",\"\\n\",\"Bu çalışma defteri Google'ın Jupyter Notebook platformuna benzer özellikler taşıyan Google Colab üzerinde oluşturulmuştur. Google Colab, herhangi bir altyapı düzenlemesine ihtiyaç duymadan Web tabanlı olarak Python kodları yazmanıza ve çalıştırmanıza imkan veren ücretsiz bir platformdur. Platform ile ilgili detaylı bilgiye [https://colab.research.google.com/notebooks/intro.ipynb](https://colab.research.google.com/notebooks/intro.ipynb) adresinden ulaşabilirsiniz.\\n\",\"\\n\",\"Python'a giriş seviyesinde 10 dersten oluşan bu çalışma defteri daha önce kodlama deneyimi olmayan öğrenenler için hazırlanmıştır. Etkileşimli yapısından dolayı hem konu anlatımlarının hem de çalıştırılabilir örneklerin bir arada olduğu bu yapı, sürekli olarak güncellenebilecek bir altyapıya sahiptir. Bu açıdan çalışma defterinin güncel sürümünü aşağıdaki adresten kontrol etmenizi tavsiye ederim.\\n\",\"\\n\",\"Sürüm 1.0: [Python'a Giriş](https://github.com/orcunmadran/hu-bby162-2020/blob/master/BBY162_Python_a_Giris.ipynb)\\n\",\"\\n\",\"İyi çalışmalar ve başarılar :)\"]},{\"cell_type\":\"markdown\",\"metadata\":{\"id\":\"6IOyCRzqRgBu\"},\"source\":[\"## Kullanım Şartları\\n\",\"\\n\",\"Bu çalışma defteri aşağıda belirtilen şartlar altında, katkıda bulunanlara Atıf vermek ve aynı lisansla paylaşmak kaydıyla ticari amaç dahil olmak üzere her şekilde dağıtabilir, paylaşabilir, üzerinde değişiklik yapılarak yeniden kullanılabilir.\\n\",\"\\n\",\"\\n\",\"---\\n\",\"\\n\",\"![Atıf-AynıLisanslaPaylaş 4.0 Uluslararası Lisansı](https://i.creativecommons.org/l/by-sa/4.0/88x31.png)\\n\",\"\\n\",\"Bu çalışma defteri Jetbrains'in \\\"Introduction to Python\\\" dersi temel alınarak hazırlanmış ve Creative Commons [Atıf-AynıLisanslaPaylaş 4.0 Uluslararası Lisansı](http://creativecommons.org/licenses/by-sa/4.0/) ile lisanslanmıştır.\\n\",\"\\n\",\"---\\n\",\"\\n\"]},{\"cell_type\":\"markdown\",\"metadata\":{\"id\":\"AE4EYdj6VPvq\"},\"source\":[\"# Bölüm 01: Giriş\\n\",\"\\n\",\"Bu bölümde:\\n\",\"\\n\",\"*   İlk bilgisayar programımız,\\n\",\"*   Yorumlar yer almaktadır.\"]},{\"cell_type\":\"markdown\",\"metadata\":{\"id\":\"4nLn-agoUdfh\"},\"source\":[\"## İlk Bilgisayar Programımız\\n\",\"Geleneksel olarak herhangi bir programlama dilinde yazılan ilk program \\\"Merhaba Dünya!\\\"'dır.\"]},{\"cell_type\":\"markdown\",\"metadata\":{\"id\":\"xhY6ovVFSBp1\"},\"source\":[\"**Örnek Uygulama:**\\n\",\"\\n\",\"\\n\",\"```\\n\",\"print(\\\"Merhaba Dünya!\\\")\\n\",\"```\\n\",\"\\n\",\"\\n\"]},{\"cell_type\":\"code\",\"metadata\":{\"id\":\"ji14524dirwG\",\"colab\":{\"base_uri\":\"https://localhost:8080/\"},\"executionInfo\":{\"status\":\"ok\",\"timestamp\":1615320398449,\"user_tz\":-180,\"elapsed\":1211,\"user\":{\"displayName\":\"Yağmur Cengiz\",\"photoUrl\":\"\",\"userId\":\"11561586730509382852\"}},\"outputId\":\"8820fe86-2895-436f-c3fc-1c6ad5966151\"},\"source\":[\"# Örnek uygulamayı çalıştır\\n\",\"\\n\",\"print(\\\"Merhaba Dünya!\\\")\"],\"execution_count\":null,\"outputs\":[{\"output_type\":\"stream\",\"text\":[\"Merhaba Dünya!\\n\"],\"name\":\"stdout\"}]},{\"cell_type\":\"markdown\",\"metadata\":{\"id\":\"MuYQpCfoh7In\"},\"source\":[\"**Görev:** Kendinizi dünyaya tanıtacak ilk bilgisayar programını yazın!\"]},{\"cell_type\":\"code\",\"metadata\":{\"id\":\"CBHkVbIlUXgW\",\"cellView\":\"both\",\"colab\":{\"base_uri\":\"https://localhost:8080/\"},\"executionInfo\":{\"status\":\"ok\",\"timestamp\":1615323952455,\"user_tz\":-180,\"elapsed\":1239,\"user\":{\"displayName\":\"Yağmur Cengiz\",\"photoUrl\":\"\",\"userId\":\"11561586730509382852\"}},\"outputId\":\"28a98dd2-cbc1-4015-b494-92c04e23de18\"},\"source\":[\"print(\\\"Merhaba Dünya!Ben Yağmur Cengiz.BBY162 dersi sayesinde proglamlama dilini öğreneceğimi düşünüyorum.\\\")\"],\"execution_count\":null,\"outputs\":[{\"output_type\":\"stream\",\"text\":[\"Merhaba Dünya!Ben Yağmur Cengiz.BBY162 dersi sayesinde proglamlama dilini öğreneceğimi düşünüyorum.\\n\"],\"name\":\"stdout\"}]},{\"cell_type\":\"markdown\",\"metadata\":{\"id\":\"0S8fTkAqVb4v\"},\"source\":[\"## Yorumlar\\n\",\"Python'daki yorumlar # \\\"hash\\\" karakteriyle başlar ve fiziksel çizginin sonuna kadar uzanır. Yorum yapmak için kullanılan # \\\"hash\\\" karakteri kod satırlarını geçici olarak devre dışı bırakmak amacıyla da kullanılabilir. \"]},{\"cell_type\":\"markdown\",\"metadata\":{\"id\":\"ql-GYfPYWpUW\"},\"source\":[\"**Örnek Uygulama:**\\n\",\"\\n\",\"\\n\",\"```\\n\",\"# Bu ilk bilgisayar programım için ilk yorumum\\n\",\"print(\\\"# bu bir yorum değildir\\\")\\n\",\"print(\\\"Merhaba!\\\")  # yorumlar kod satırının devamında da yapılabilir.\\n\",\"#print(\\\"Bu kod geçici olarak devre dışı bırakılmıştır.\\\")\\n\",\"```\\n\",\"\\n\"]},{\"cell_type\":\"code\",\"metadata\":{\"id\":\"ZjHL-qoEd7Bj\",\"colab\":{\"base_uri\":\"https://localhost:8080/\"},\"executionInfo\":{\"status\":\"ok\",\"timestamp\":1615323988923,\"user_tz\":-180,\"elapsed\":1535,\"user\":{\"displayName\":\"Yağmur Cengiz\",\"photoUrl\":\"\",\"userId\":\"11561586730509382852\"}},\"outputId\":\"997809d1-44bd-41ae-b7a1-56b36da6e7e8\"},\"source\":[\"# Örnek uygulamayı çalıştır\\n\",\"\\n\",\"# Bu ilk bilgisayar programım için ilk yorumum\\n\",\"print(\\\"# bu bir yorum değildir\\\")\\n\",\"print(\\\"Merhaba!\\\")  # yorumlar kod satırının devamında da yapılabilir.\\n\",\"# print(\\\"Bu kod geçici olarak devre dışı bırakılmıştır.\\\")\"],\"execution_count\":null,\"outputs\":[{\"output_type\":\"stream\",\"text\":[\"# bu bir yorum değildir\\n\",\"Merhaba!\\n\"],\"name\":\"stdout\"}]},{\"cell_type\":\"markdown\",\"metadata\":{\"id\":\"4ufK03hEiP76\"},\"source\":[\"**Görev:** Python kodunuza yeni bir yorum ekleyin, mevcut satıra yorum ekleyin, yazılmış olan bir kod satırını geçici olarak devre dışı bırakın!\"]},{\"cell_type\":\"code\",\"metadata\":{\"id\":\"QzUppEjoXLPM\",\"colab\":{\"base_uri\":\"https://localhost:8080/\"},\"executionInfo\":{\"status\":\"ok\",\"timestamp\":1615324284885,\"user_tz\":-180,\"elapsed\":699,\"user\":{\"displayName\":\"Yağmur Cengiz\",\"photoUrl\":\"\",\"userId\":\"11561586730509382852\"}},\"outputId\":\"bb736d43-eacd-4cd3-ac05-5eb2d0ad408a\"},\"source\":[\"#İlk Hafta Ödevim\\n\",\"print(\\\"Bu satırın devamına bir yorum ekleyin\\\") #yorum\\n\",\"#print(\\\"Bu satırı devre dışı bırakın!\\\")\"],\"execution_count\":null,\"outputs\":[{\"output_type\":\"stream\",\"text\":[\"Bu satırın devamına bir yorum ekleyin\\n\"],\"name\":\"stdout\"}]},{\"cell_type\":\"markdown\",\"metadata\":{\"id\":\"9JeaGlvQYylS\"},\"source\":[\"# Bölüm 02: Değişkenler\\n\",\"Bu bölümde:\\n\",\"\\n\",\"\\n\",\"*   Değişken nedir?,\\n\",\"*   Değişken tanımlama,\\n\",\"*   Değişken türleri,\\n\",\"*   Değişken türü dönüştürme,\\n\",\"*   Aritmetik operatörler,\\n\",\"*   Artıtılmış atama operatörleri,\\n\",\"*   Boolean operatörleri,\\n\",\"*   Karşılaştırma operatörleri yer almaktadır.\\n\",\"\\n\"]},{\"cell_type\":\"markdown\",\"metadata\":{\"id\":\"VzeGixS6Y919\"},\"source\":[\"## Değişken Nedir?\\n\",\"Değişkenler değerleri depolamak için kullanılır. Böylece daha sonra bu değişkenler program içinden çağırılarak atanan değer tekrar ve tekrar kullanılabilir. Değişkenlere metinler ve / veya sayılar atanabilir. Sayı atamaları direkt rakamların yazılması ile gerçekleştirilirken, metin atamalarında metin tek tırnak içinde ( 'abc' ) ya da çift tırnak ( \\\"abc\\\" ) içinde atanır.\\n\",\"\\n\",\"Değişkenler etiketlere benzer ve atama operatörü olarak adlandırılan eşittir ( = ) operatörü ile bir değişkene bir değer atanabilir. Bir değer ataması zincirleme şeklinde gerçekleştirilebilir. Örneğin: a = b = 2\"]},{\"cell_type\":\"markdown\",\"metadata\":{\"id\":\"7tWAdnNlZtQr\"},\"source\":[\"**Örnek Uygulama 1**\\n\",\"\\n\",\"Aşağıda bir \\\"zincir atama\\\" örneği yer almaktadır. Değer olarak atanan 2 hem  \\\"a\\\" değişkenine, hem de \\\"b\\\" değişkenine atanmaktadır.\\n\",\"\\n\",\"```\\n\",\"a = b = 2\\n\",\"print(\\\"a = \\\" + str(a))\\n\",\"print(\\\"b = \\\" + str(b))\\n\",\"```\\n\",\"\\n\",\"\\\"a\\\" ve \\\"b\\\" değişkenleri başka metinler ile birlikte ekrana yazdırılmak istendiğinde metin formatına çevrilmesi gerekmektedir. Bu bağlamda kullanılan \\\"str(a)\\\" ve  \\\"str(b)\\\" ifadeleri eğitimin ilerleyen bölümlerinde anlatılacaktır.\"]},{\"cell_type\":\"code\",\"metadata\":{\"id\":\"lmrymxeNjAR5\",\"colab\":{\"base_uri\":\"https://localhost:8080/\"},\"executionInfo\":{\"status\":\"ok\",\"timestamp\":1615972967494,\"user_tz\":-180,\"elapsed\":724,\"user\":{\"displayName\":\"Yağmur Cengiz\",\"photoUrl\":\"\",\"userId\":\"11561586730509382852\"}},\"outputId\":\"bdad6933-2d55-4ba5-d74c-240d81f8011c\"},\"source\":[\"# Örnek uygulamayı çalıştır\\n\",\"\\n\",\"a = b = 2\\n\",\"print(\\\"a = \\\" + str(a))\\n\",\"print(\\\"b = \\\" + str(b))\"],\"execution_count\":null,\"outputs\":[{\"output_type\":\"stream\",\"text\":[\"a = 2\\n\",\"b = 2\\n\"],\"name\":\"stdout\"}]},{\"cell_type\":\"markdown\",\"metadata\":{\"id\":\"3eqETZKEi7ZG\"},\"source\":[\"**Örnek Uygulama 2**\\n\",\"\\n\",\"\\n\",\"```\\n\",\"adSoyad = \\\"Orçun Madran\\\"\\n\",\"print(\\\"Adı Soyadı: \\\" + adSoyad)\\n\",\"```\"]},{\"cell_type\":\"code\",\"metadata\":{\"id\":\"4iU4Hw7wjNzk\",\"colab\":{\"base_uri\":\"https://localhost:8080/\"},\"executionInfo\":{\"status\":\"ok\",\"timestamp\":1615972999791,\"user_tz\":-180,\"elapsed\":735,\"user\":{\"displayName\":\"Yağmur Cengiz\",\"photoUrl\":\"\",\"userId\":\"11561586730509382852\"}},\"outputId\":\"5438536d-1d29-488f-8b2f-21730ab4cd49\"},\"source\":[\"# Örnek uygulamayı çalıştır\\n\",\"\\n\",\"adSoyad = \\\"Orçun Madran\\\"\\n\",\"print(\\\"Adı Soyadı: \\\" + adSoyad)\"],\"execution_count\":null,\"outputs\":[{\"output_type\":\"stream\",\"text\":[\"Adı Soyadı: Orçun Madran\\n\"],\"name\":\"stdout\"}]},{\"cell_type\":\"markdown\",\"metadata\":{\"id\":\"szRkWMg9idf9\"},\"source\":[\"**Görev:** \\\"eposta\\\" adlı bir değişken oluşturun. Oluşturduğunuz bu değişkene bir e-posta adresi atayın. Daha sonra atadığınız bu değeri ekrana yazdırın. Örneğin: \\\"E-posta: orcun[at]madran.net\\\"\"]},{\"cell_type\":\"code\",\"metadata\":{\"id\":\"RmIa5BJsZ2EI\",\"colab\":{\"base_uri\":\"https://localhost:8080/\"},\"executionInfo\":{\"status\":\"ok\",\"timestamp\":1615973339260,\"user_tz\":-180,\"elapsed\":682,\"user\":{\"displayName\":\"Yağmur Cengiz\",\"photoUrl\":\"\",\"userId\":\"11561586730509382852\"}},\"outputId\":\"93e76a58-06d8-4de4-bec0-0744588a7264\"},\"source\":[\"# Ekrana e-posta yazdır\\n\",\"eposta = \\\"yagmurrcengizz@gmail.com\\\"\\n\",\"print(\\\"E-posta: \\\" + eposta) \"],\"execution_count\":null,\"outputs\":[{\"output_type\":\"stream\",\"text\":[\"E-posta: yagmurrcengizz@gmail.com\\n\"],\"name\":\"stdout\"}]},{\"cell_type\":\"markdown\",\"metadata\":{\"id\":\"2irKEi_raxaB\"},\"source\":[\"## Değişken Tanımlama\\n\",\"Değişken isimlerinde uyulması gereken bir takım kurallar vardır:\\n\",\"\\n\",\"\\n\",\"*   Rakam ile başlayamaz.\\n\",\"*   Boşluk kullanılamaz.\\n\",\"*   Alt tire ( _ ) haricinde bir noktalama işareti kullanılamaz.\\n\",\"*   Python içinde yerleşik olarak tanımlanmış anahtar kelimeler kullanılamaz (ör: print).\\n\",\"*   Python 3. sürümden itibaren latin dışı karakter desteği olan \\\"Unicode\\\" desteği gelmiştir. Türkçe karakterler değişken isimlerinde kullanılabilir. \\n\",\"\\n\",\"**Dikkat:** Değişken isimleri büyük-küçük harfe duyarlıdır. Büyük harfle başlanan isimlendirmeler genelde *sınıflar* için kullanılır. Değişken isimlerinin daha anlaşılır olması için deve notasyonu (camelCase) ya da alt tire kullanımı tavsiye edilir.\\n\"]},{\"cell_type\":\"markdown\",\"metadata\":{\"id\":\"pOxCruNHdp9M\"},\"source\":[\"**Örnek Uygulama:**\\n\",\"\\n\",\"```\\n\",\"degisken = 1\\n\",\"kullaniciAdi = \\\"orcunmadran\\\"\\n\",\"kul_ad = \\\"rafet\\\"\\n\",\"```\\n\",\"\\n\"]},{\"cell_type\":\"markdown\",\"metadata\":{\"id\":\"SVwQ0Tf-isfz\"},\"source\":[\"Henüz tanımlanmamış bir değişken kullanıldığında derleyicinin döndürdüğü hatayı kodu çalıştırarak gözlemleyin!\"]},{\"cell_type\":\"code\",\"metadata\":{\"id\":\"1W14OfkxeGuN\",\"colab\":{\"base_uri\":\"https://localhost:8080/\",\"height\":180},\"executionInfo\":{\"status\":\"error\",\"timestamp\":1619213839515,\"user_tz\":-180,\"elapsed\":963,\"user\":{\"displayName\":\"Yağmur Cengiz\",\"photoUrl\":\"\",\"userId\":\"11561586730509382852\"}},\"outputId\":\"0b8c3c60-d609-433a-e170-2b1238e8d156\"},\"source\":[\"degisken1 = \\\"Veri\\\"\\n\",\"print(degisken2)\"],\"execution_count\":1,\"outputs\":[{\"output_type\":\"error\",\"ename\":\"NameError\",\"evalue\":\"ignored\",\"traceback\":[\"\\u001b[0;31m---------------------------------------------------------------------------\\u001b[0m\",\"\\u001b[0;31mNameError\\u001b[0m                                 Traceback (most recent call last)\",\"\\u001b[0;32m<ipython-input-1-031e866b659a>\\u001b[0m in \\u001b[0;36m<module>\\u001b[0;34m()\\u001b[0m\\n\\u001b[1;32m      1\\u001b[0m \\u001b[0mdegisken1\\u001b[0m \\u001b[0;34m=\\u001b[0m \\u001b[0;34m\\\"Veri\\\"\\u001b[0m\\u001b[0;34m\\u001b[0m\\u001b[0;34m\\u001b[0m\\u001b[0m\\n\\u001b[0;32m----> 2\\u001b[0;31m \\u001b[0mprint\\u001b[0m\\u001b[0;34m(\\u001b[0m\\u001b[0mdegisken2\\u001b[0m\\u001b[0;34m)\\u001b[0m\\u001b[0;34m\\u001b[0m\\u001b[0;34m\\u001b[0m\\u001b[0m\\n\\u001b[0m\",\"\\u001b[0;31mNameError\\u001b[0m: name 'degisken2' is not defined\"]}]},{\"cell_type\":\"markdown\",\"metadata\":{\"id\":\"GwLgmn1fi04Q\"},\"source\":[\"**Görev:** Tanımladığınız değişkeni ekrana yazdırın!\"]},{\"cell_type\":\"code\",\"metadata\":{\"id\":\"JrNUlQAyeqHQ\",\"colab\":{\"base_uri\":\"https://localhost:8080/\"},\"executionInfo\":{\"status\":\"ok\",\"timestamp\":1619214640209,\"user_tz\":-180,\"elapsed\":791,\"user\":{\"displayName\":\"Yağmur Cengiz\",\"photoUrl\":\"\",\"userId\":\"11561586730509382852\"}},\"outputId\":\"c7edaa36-abd2-47ff-a848-d6ef3ea90f81\"},\"source\":[\"degisken3 = 'Yeni veri'\\n\",\"print(degisken3)\"],\"execution_count\":3,\"outputs\":[{\"output_type\":\"stream\",\"text\":[\"Yeni veri\\n\"],\"name\":\"stdout\"}]},{\"cell_type\":\"markdown\",\"metadata\":{\"id\":\"_6eRj3kmeyGw\"},\"source\":[\"## Değişken Türleri\\n\",\"Python'da iki ana sayı türü vardır; tam sayılar ve ondalık sayılar.\\n\",\"\\n\",\"**Dikkat:** Ondalık sayıların yazımında Türkçe'de *virgül* (,) kullanılmasına rağmen, programlama dillerinin evrensel yazım kuralları içerisinde ondalık sayılar *nokta* (.) ile ifade edilir.\"]},{\"cell_type\":\"markdown\",\"metadata\":{\"id\":\"37MxozrGf1-F\"},\"source\":[\"**Örnek Uygulama:**\\n\",\"\\n\",\"```\\n\",\"tamSayi = 5\\n\",\"print(type(tamSayi))   # tamSayi değişkeninin türünü yazdırır\\n\",\"\\n\",\"ondalikSayi = 7.4\\n\",\"print(type(ondalikSayi) # ondalikSayi değişkeninin türünü yazdırır\\n\",\"```\"]},{\"cell_type\":\"code\",\"metadata\":{\"id\":\"Vzg4x_inkN9h\",\"colab\":{\"base_uri\":\"https://localhost:8080/\"},\"executionInfo\":{\"status\":\"ok\",\"timestamp\":1619214666834,\"user_tz\":-180,\"elapsed\":758,\"user\":{\"displayName\":\"Yağmur Cengiz\",\"photoUrl\":\"\",\"userId\":\"11561586730509382852\"}},\"outputId\":\"e715bcc7-a449-4e8d-8780-d393787b21f9\"},\"source\":[\"# Örnek uygulamayı çalıştır\\n\",\"\\n\",\"tamSayi = 5\\n\",\"print(type(tamSayi))\\n\",\"\\n\",\"ondalikSayi = 7.4\\n\",\"print(type(ondalikSayi))\"],\"execution_count\":4,\"outputs\":[{\"output_type\":\"stream\",\"text\":[\"<class 'int'>\\n\",\"<class 'float'>\\n\"],\"name\":\"stdout\"}]},{\"cell_type\":\"markdown\",\"metadata\":{\"id\":\"asiOZVmbn_TO\"},\"source\":[\"**Görev:** \\\"sayi\\\" değişkeninin türünü belirleyerek ekrana yazdırın!\"]},{\"cell_type\":\"code\",\"metadata\":{\"id\":\"UrGfF38CgjdQ\",\"cellView\":\"both\",\"colab\":{\"base_uri\":\"https://localhost:8080/\"},\"executionInfo\":{\"status\":\"ok\",\"timestamp\":1615975564025,\"user_tz\":-180,\"elapsed\":755,\"user\":{\"displayName\":\"Yağmur Cengiz\",\"photoUrl\":\"\",\"userId\":\"11561586730509382852\"}},\"outputId\":\"8d2d1da4-e2f0-4c17-df81-0e6d7273f425\"},\"source\":[\"sayi = 9.0\\n\",\"print(type(ondalikSayi))\\n\"],\"execution_count\":null,\"outputs\":[{\"output_type\":\"stream\",\"text\":[\"<class 'float'>\\n\"],\"name\":\"stdout\"}]},{\"cell_type\":\"markdown\",\"metadata\":{\"id\":\"i3Qht_zmjLf2\"},\"source\":[\"## Değişken Türü Dönüştürme\\n\",\"Bir veri türünü diğerine dönüştürmenize izin veren birkaç yerleşik fonksiyon (built-in function) vardır. Bu fonksiyonlar (\\\"int()\\\", \\\"str()\\\", \\\"float()\\\") uygulandıkları değişkeni dönüştürerek yeni bir nesne döndürürler. \"]},{\"cell_type\":\"markdown\",\"metadata\":{\"id\":\"F-Zp8zfmkzJX\"},\"source\":[\"**Örnek Uygulama**\\n\",\"\\n\",\"\\n\",\"```\\n\",\"sayi = 6.5\\n\",\"print(type(sayi)) # \\\"sayi\\\" değişkeninin türünü ondalık olarak yazdırır\\n\",\"print(sayi)\\n\",\"\\n\",\"sayi = int(sayi)  # Ondalık sayı olan \\\"sayi\\\" değişkenini tam sayıya dönüştürür\\n\",\"print(type(sayi))\\n\",\"print(sayi)\\n\",\"\\n\",\"sayi = float(sayi) # Tam sayı olan \\\"sayi\\\" değişkenini ondalık sayıya dönüştürür\\n\",\"print(type(sayi))\\n\",\"print(sayi)\\n\",\"\\n\",\"sayi = str(sayi) # \\\"sayi\\\" değişkeni artık düz metin halini almıştır\\n\",\"print(type(sayi))\\n\",\"print(sayi)\\n\",\"```\"]},{\"cell_type\":\"code\",\"metadata\":{\"id\":\"G0bwb2rBkgVN\",\"colab\":{\"base_uri\":\"https://localhost:8080/\"},\"executionInfo\":{\"status\":\"ok\",\"timestamp\":1619214757080,\"user_tz\":-180,\"elapsed\":693,\"user\":{\"displayName\":\"Yağmur Cengiz\",\"photoUrl\":\"\",\"userId\":\"11561586730509382852\"}},\"outputId\":\"d7e0ce9e-a351-41c6-84d7-e9030d169478\"},\"source\":[\"# Örnek uygulamayı çalıştır\\n\",\"\\n\",\"sayi = 6.5\\n\",\"print(type(sayi))\\n\",\"print(sayi)\\n\",\" \\n\",\"sayi = int(sayi)\\n\",\"print(type(sayi))\\n\",\"print(sayi)\\n\",\" \\n\",\"sayi = float(sayi)\\n\",\"print(type(sayi))\\n\",\"print(sayi)\\n\",\" \\n\",\"sayi = str(sayi)\\n\",\"print(type(sayi))\\n\",\"print(sayi)\"],\"execution_count\":5,\"outputs\":[{\"output_type\":\"stream\",\"text\":[\"<class 'float'>\\n\",\"6.5\\n\",\"<class 'int'>\\n\",\"6\\n\",\"<class 'float'>\\n\",\"6.0\\n\",\"<class 'str'>\\n\",\"6.0\\n\"],\"name\":\"stdout\"}]},{\"cell_type\":\"markdown\",\"metadata\":{\"id\":\"7j51gKaIlM-u\"},\"source\":[\"**Görev:** Ondalık sayıyı tam sayıya dönüştürün ve ekrana değişken türünü ve değeri yazdırın!\"]},{\"cell_type\":\"code\",\"metadata\":{\"id\":\"o9ZQ6Jr3lL6A\",\"colab\":{\"base_uri\":\"https://localhost:8080/\"},\"executionInfo\":{\"status\":\"ok\",\"timestamp\":1619214771935,\"user_tz\":-180,\"elapsed\":717,\"user\":{\"displayName\":\"Yağmur Cengiz\",\"photoUrl\":\"\",\"userId\":\"11561586730509382852\"}},\"outputId\":\"99c2ebb9-6b37-4ac2-aa88-5abeac6884e7\"},\"source\":[\"sayi = 3.14\\n\",\"sayi = int(sayi)\\n\",\"print(type(sayi))\\n\",\"print(sayi)\\n\"],\"execution_count\":6,\"outputs\":[{\"output_type\":\"stream\",\"text\":[\"<class 'int'>\\n\",\"3\\n\"],\"name\":\"stdout\"}]},{\"cell_type\":\"markdown\",\"metadata\":{\"id\":\"f5MK6vZOl6dG\"},\"source\":[\"## Aritmetik Operatörler\\n\",\"Diğer tüm programlama dillerinde olduğu gibi, toplama (+), çıkarma (-), çarpma (yıldız) ve bölme (/) operatörleri sayılarla kullanılabilir. Bunlarla birlikte Python'un üs (çift yıldız) ve mod (%) operatörleri vardır.\\n\",\"\\n\",\"**Dikkat:** Matematik işlemlerinde geçerli olan aritmetik operatörlerin öncelik sıralamaları (çarpma, bölme, toplama, çıkarma) ve parantezlerin önceliği kuralları Python içindeki matematiksel işlemler için de geçerlidir. \\n\"]},{\"cell_type\":\"markdown\",\"metadata\":{\"id\":\"1THb0XpGmwSD\"},\"source\":[\"**Örnek Uygulama:**\\n\",\"\\n\",\"```\\n\",\"# Toplama işlemi\\n\",\"sayi = 7.0\\n\",\"sonuc = sayi + 3.5\\n\",\"print(sonuc)\\n\",\"\\n\",\"# Çıkarma işlemi\\n\",\"sayi = 200\\n\",\"sonuc = sayi - 35\\n\",\"print(sonuc)\\n\",\"\\n\",\"# Çarpma işlemi\\n\",\"sayi = 44\\n\",\"sonuc = sayi * 10\\n\",\"print(sonuc)\\n\",\"\\n\",\"# Bölme işlemi\\n\",\"sayi = 30\\n\",\"sonuc = sayi / 3\\n\",\"print(sonuc)\\n\",\"\\n\",\"# Üs alma işlemi\\n\",\"sayi = 30\\n\",\"sonuc = sayi ** 3\\n\",\"print(sonuc)\\n\",\"\\n\",\"# Mod alma işlemi \\n\",\"sayi = 35\\n\",\"sonuc = sayi % 4\\n\",\"print(sonuc)\\n\",\"```\"]},{\"cell_type\":\"code\",\"metadata\":{\"id\":\"zdOXer1klJVQ\",\"colab\":{\"base_uri\":\"https://localhost:8080/\"},\"executionInfo\":{\"status\":\"ok\",\"timestamp\":1619214873753,\"user_tz\":-180,\"elapsed\":713,\"user\":{\"displayName\":\"Yağmur Cengiz\",\"photoUrl\":\"\",\"userId\":\"11561586730509382852\"}},\"outputId\":\"a39d309a-0e12-4fb3-e768-f2745e22c9fe\"},\"source\":[\"# Örnek uygulamayı çalıştır\\n\",\"\\n\",\"# Toplama işlemi\\n\",\"sayi = 7.0\\n\",\"sonuc = sayi + 3.5\\n\",\"print(sonuc)\\n\",\" \\n\",\"# Çıkarma işlemi\\n\",\"sayi = 200\\n\",\"sonuc = sayi - 35\\n\",\"print(sonuc)\\n\",\" \\n\",\"# Çarpma işlemi\\n\",\"sayi = 44\\n\",\"sonuc = sayi * 10\\n\",\"print(sonuc)\\n\",\" \\n\",\"# Bölme işlemi\\n\",\"sayi = 30\\n\",\"sonuc = sayi / 3\\n\",\"print(sonuc)\\n\",\" \\n\",\"# Üs alma işlemi\\n\",\"sayi = 30\\n\",\"sonuc = sayi ** 3\\n\",\"print(sonuc)\\n\",\" \\n\",\"# Mod alma işlemi \\n\",\"sayi = 35\\n\",\"sonuc = sayi % 4\\n\",\"print(sonuc)\"],\"execution_count\":7,\"outputs\":[{\"output_type\":\"stream\",\"text\":[\"10.5\\n\",\"165\\n\",\"440\\n\",\"10.0\\n\",\"27000\\n\",\"3\\n\"],\"name\":\"stdout\"}]},{\"cell_type\":\"markdown\",\"metadata\":{\"id\":\"jp3PvDghnJkY\"},\"source\":[\"**Görev:** Aşağıda değer atamaları tamamlanmış olan değişkenleri kullanarak ürünlerin peşin satın alınma bedelini TL olarak hesaplayınız ve ürün adı ile birlikte ekrana yazdırınız! İpucu: Ürün adını ve ürün bedelini tek bir satırda yazdırmak isterseniz ürün bedelini str() fonksiyonu ile düz metin değişken türüne çevirmeniz gerekir. \"]},{\"cell_type\":\"code\",\"metadata\":{\"id\":\"oMY_MZjmndQj\",\"colab\":{\"base_uri\":\"https://localhost:8080/\"},\"executionInfo\":{\"status\":\"ok\",\"timestamp\":1619218298307,\"user_tz\":-180,\"elapsed\":663,\"user\":{\"displayName\":\"Yağmur Cengiz\",\"photoUrl\":\"\",\"userId\":\"11561586730509382852\"}},\"outputId\":\"4d78ba03-71bc-4849-b5dc-b98d5c1e1d55\"},\"source\":[\"\\n\",\"urunAdi = \\\"Bisiklet\\\"\\n\",\"urunBedeliAvro = 850\\n\",\"pariteAvroTL = 7\\n\",\"urunAdet = 3\\n\",\"pesinAdetIndirimTL = 500\\n\",\"sonuc = urunBedeliAvro * urunAdet\\n\",\"print(sonuc)\\n\",\"sonuc1 = sonuc * kurAvro\\n\",\"print(sonuc1)\\n\",\"sonuc2 = pesinAdetIndirimTL * urunAdet\\n\",\"print(sonuc2)\\n\",\"sonuc3 = sonuc1 - sonuc2\\n\",\"print(sonuc3)\\n\",\"print(\\\"Bisiklet =\\\" + str(sonuc3) + \\\"TL\\\")\\n\"],\"execution_count\":38,\"outputs\":[{\"output_type\":\"stream\",\"text\":[\"2550\\n\",\"17850\\n\",\"1500\\n\",\"16350\\n\",\"Bisiklet =16350TL\\n\"],\"name\":\"stdout\"}]},{\"cell_type\":\"code\",\"metadata\":{\"id\":\"WUZ-hIb25_ry\"},\"source\":[\"\"],\"execution_count\":null,\"outputs\":[]},{\"cell_type\":\"markdown\",\"metadata\":{\"id\":\"OUWeht_8nyCx\"},\"source\":[\"## Artırılmış Atama Operatörleri\\n\",\"Artırılmış atama, bir değişkenin mevcut değerine belirlenen değerin eklenerek ( += ) ya da çıkartılarak ( -= ) atanması işlemidir. \\n\"]},{\"cell_type\":\"markdown\",\"metadata\":{\"id\":\"r-6ImrKCobv_\"},\"source\":[\"**Örnek Uygulama**\\n\",\"\\n\",\"```\\n\",\"sayi = 8\\n\",\"sayi += 4  # Mevcut değer olan 8'e 4 daha ekler.\\n\",\"print(sayi) \\n\",\"\\n\",\"sayi -= 6 # Mevcut değer olan 12'den 6 eksiltir.\\n\",\"print(\\\"Sayı = \\\" + str(sayi))\\n\",\"```\\n\",\"\\n\"]},{\"cell_type\":\"code\",\"metadata\":{\"id\":\"p281janglpzz\",\"colab\":{\"base_uri\":\"https://localhost:8080/\"},\"executionInfo\":{\"status\":\"ok\",\"timestamp\":1619216649462,\"user_tz\":-180,\"elapsed\":715,\"user\":{\"displayName\":\"Yağmur Cengiz\",\"photoUrl\":\"\",\"userId\":\"11561586730509382852\"}},\"outputId\":\"3e373df0-dc50-48ba-b3ca-943e0c8c3fd2\"},\"source\":[\"# Örnek uygulama çalıştır\\n\",\"\\n\",\"sayi = 8\\n\",\"sayi += 4\\n\",\"print(sayi) \\n\",\" \\n\",\"sayi -= 6 \\n\",\"print(\\\"Sayı = \\\" + str(sayi))\"],\"execution_count\":18,\"outputs\":[{\"output_type\":\"stream\",\"text\":[\"12\\n\",\"Sayı = 6\\n\"],\"name\":\"stdout\"}]},{\"cell_type\":\"markdown\",\"metadata\":{\"id\":\"Du5w88EaovzQ\"},\"source\":[\"**Görev:** Artıtılmış atama operatörleri kullanarak \\\"sayi\\\" değişkenine 20 ekleyip, 10 çıkartarak değişkenin güncel değerini ekrana yazdırın! \"]},{\"cell_type\":\"code\",\"metadata\":{\"id\":\"ro0-FwgDpCkx\",\"colab\":{\"base_uri\":\"https://localhost:8080/\"},\"executionInfo\":{\"status\":\"ok\",\"timestamp\":1619216867230,\"user_tz\":-180,\"elapsed\":659,\"user\":{\"displayName\":\"Yağmur Cengiz\",\"photoUrl\":\"\",\"userId\":\"11561586730509382852\"}},\"outputId\":\"81cfda78-e200-4318-b2b0-7364e1d3622c\"},\"source\":[\"sayi = 55\\n\",\"sayi+= 20\\n\",\"print(sayi)\\n\",\"sayi-=10\\n\",\"print(\\\"Sayı =\\\" + str(sayi))\"],\"execution_count\":21,\"outputs\":[{\"output_type\":\"stream\",\"text\":[\"75\\n\",\"Sayı =65\\n\"],\"name\":\"stdout\"}]},{\"cell_type\":\"markdown\",\"metadata\":{\"id\":\"C0G673j0pQD4\"},\"source\":[\"## Boolean Operatörleri\\n\",\"Boolean, yalnızca **Doğru (True)** veya **Yanlış (False)** olabilen bir değer türüdür. Eşitlik (==) operatörleri karşılaştırılan iki değişkenin eşit olup olmadığını kontrol eder ve *True* ya da *False* değeri döndürür.\"]},{\"cell_type\":\"markdown\",\"metadata\":{\"id\":\"Trd3P6X4pwbu\"},\"source\":[\"**Örnek Uygulama:**\\n\",\"\\n\",\"```\\n\",\"deger1 = 10\\n\",\"deger2 = 10\\n\",\"esitMi = (deger1 == deger2) # Eşit olup olmadıkları kontrol ediliyor\\n\",\"print(esitMi) # Değişken \\\"True\\\" olarak dönüyor\\n\",\"\\n\",\"deger1 = \\\"Python\\\"\\n\",\"deger2 = \\\"Piton\\\"\\n\",\"esitMi = (deger1 == deger2) # Eşit olup olmadıkları kontrol ediliyor\\n\",\"print(esitMi) # Değişken \\\"False\\\" olarak dönüyor\\n\",\"```\"]},{\"cell_type\":\"code\",\"metadata\":{\"id\":\"COYD_DtlmXgr\",\"colab\":{\"base_uri\":\"https://localhost:8080/\"},\"executionInfo\":{\"status\":\"ok\",\"timestamp\":1619216908863,\"user_tz\":-180,\"elapsed\":806,\"user\":{\"displayName\":\"Yağmur Cengiz\",\"photoUrl\":\"\",\"userId\":\"11561586730509382852\"}},\"outputId\":\"dee9734e-f47e-45b0-c4ab-107374c76db8\"},\"source\":[\"# Örnek uygulama çalıştır\\n\",\"\\n\",\"deger1 = 10\\n\",\"deger2 = 10\\n\",\"esitMi = (deger1 == deger2) \\n\",\"print(esitMi) \\n\",\" \\n\",\"deger1 = \\\"Python\\\"\\n\",\"deger2 = \\\"Piton\\\"\\n\",\"esitMi = (deger1 == deger2)\\n\",\"print(esitMi)\"],\"execution_count\":22,\"outputs\":[{\"output_type\":\"stream\",\"text\":[\"True\\n\",\"False\\n\"],\"name\":\"stdout\"}]},{\"cell_type\":\"markdown\",\"metadata\":{\"id\":\"QSvUSLN4p7Ra\"},\"source\":[\"**Görev:** Atamaları yapılmış olan değişkenler arasındaki eşitliği kontrol edin ve sonucu ekrana yazıdırın!\"]},{\"cell_type\":\"code\",\"metadata\":{\"id\":\"ihVP2eQpttpv\",\"colab\":{\"base_uri\":\"https://localhost:8080/\"},\"executionInfo\":{\"status\":\"ok\",\"timestamp\":1619217005905,\"user_tz\":-180,\"elapsed\":1045,\"user\":{\"displayName\":\"Yağmur Cengiz\",\"photoUrl\":\"\",\"userId\":\"11561586730509382852\"}},\"outputId\":\"36ffe7e9-8a83-4af3-cc9e-bf46d9d685cf\"},\"source\":[\"sifre = \\\"Python2020\\\"\\n\",\"sifreTekrar = \\\"Piton2020\\\"\\n\",\"esitMi = (sifre == sifreTekrar)\\n\",\"print(esitMi)\"],\"execution_count\":24,\"outputs\":[{\"output_type\":\"stream\",\"text\":[\"False\\n\"],\"name\":\"stdout\"}]},{\"cell_type\":\"markdown\",\"metadata\":{\"id\":\"NU2bhXlwuUtj\"},\"source\":[\"## Karşılaştırma Operatörleri\\n\",\"Python'da, >=, <= , >, < vb. dahil olmak üzere birçok operatör bulunmaktadır. Python'daki tüm karşılaştırma operatörleri aynı önceliğe sahiptir. Karşılaştırma sonucunda boole değerleri (*True* ya da *False*) döner. Karşılaştırma operatörleri isteğe bağlı olarak arka arkaya da (zincirlenerek) kullanılabilir.\"]},{\"cell_type\":\"markdown\",\"metadata\":{\"id\":\"kUkH4Qe6vBIm\"},\"source\":[\"**Örnek Uygulama:**\\n\",\"\\n\",\"```\\n\",\"deger1 = 5\\n\",\"deger2 = 7\\n\",\"deger3 = 9\\n\",\"\\n\",\"print(deger1 < deger2 < deger3)  # Sonuç \\\"True\\\" olarak dönecektir\\n\",\"```\\n\",\"\\n\"]},{\"cell_type\":\"code\",\"metadata\":{\"id\":\"NXpmIY32mwsY\",\"colab\":{\"base_uri\":\"https://localhost:8080/\"},\"executionInfo\":{\"status\":\"ok\",\"timestamp\":1619217047450,\"user_tz\":-180,\"elapsed\":672,\"user\":{\"displayName\":\"Yağmur Cengiz\",\"photoUrl\":\"\",\"userId\":\"11561586730509382852\"}},\"outputId\":\"835832f6-f839-479f-b2dd-c602ff751d74\"},\"source\":[\"# Örnek uygulama çalıştır\\n\",\"\\n\",\"deger1 = 5\\n\",\"deger2 = 7\\n\",\"deger3 = 9\\n\",\" \\n\",\"print(deger1 < deger2 < deger3)\"],\"execution_count\":25,\"outputs\":[{\"output_type\":\"stream\",\"text\":[\"True\\n\"],\"name\":\"stdout\"}]},{\"cell_type\":\"markdown\",\"metadata\":{\"id\":\"JrbnTUNavEsJ\"},\"source\":[\"**Görev:** Aşağıda değer atamaları tamamlanmış olan değişkenleri kullanarak ürünlerin peşin satın alınma bedelini TL olarak hesaplayın. Toplam satın alma bedeli ile bütçenizi karşılaştırın. Satın alma bedelini ve bütçenizi ekrana yazdırın. Ödeme bütçenizi aşıyorsa ekrana \\\"False\\\", aşmıyorsa \\\"True\\\" yazdırın.  \"]},{\"cell_type\":\"code\",\"metadata\":{\"id\":\"chsHnUn9vWDA\",\"colab\":{\"base_uri\":\"https://localhost:8080/\"},\"executionInfo\":{\"status\":\"ok\",\"timestamp\":1619218535110,\"user_tz\":-180,\"elapsed\":689,\"user\":{\"displayName\":\"Yağmur Cengiz\",\"photoUrl\":\"\",\"userId\":\"11561586730509382852\"}},\"outputId\":\"e21c5f7d-d81c-4ff7-f664-c11e4a385886\"},\"source\":[\"urunAdi = \\\"Bisiklet\\\"\\n\",\"urunBedeliAvro = 850\\n\",\"kurAvro = 7\\n\",\"urunAdet = 3\\n\",\"pesinAdetIndirimTL = 500\\n\",\"butce = 15000\\n\",\"sonuc = urunBedeliAvro * urunAdet\\n\",\"print(sonuc) \\n\",\"sonuc1 = sonuc * kurAvro\\n\",\"print(sonuc1)\\n\",\"sonuc2 = pesinAdetIndirimTL * urunAdet\\n\",\"print(sonuc2)\\n\",\"sonuc3 = sonuc1 - sonuc2\\n\",\"print(sonuc3)\\n\",\"print(\\\"Bisiklet =\\\" + str(sonuc3) + \\\"TL\\\")\\n\",\"deger1 = 16350\\n\",\"deger2 = 15000\\n\",\"print(deger1 < deger2)\"],\"execution_count\":40,\"outputs\":[{\"output_type\":\"stream\",\"text\":[\"2550\\n\",\"17850\\n\",\"1500\\n\",\"16350\\n\",\"Bisiklet =16350TL\\n\",\"False\\n\"],\"name\":\"stdout\"}]},{\"cell_type\":\"markdown\",\"metadata\":{\"id\":\"qhLUJ8wJM79g\"},\"source\":[\"# Bölüm 03: Metin Katarları\\n\",\"\\n\",\"Bu bölümde:\\n\",\"\\n\",\"*   Birbirine bağlama,\\n\",\"*   Metin katarı çarpımı,\\n\",\"*   Metin katarı dizinleme,\\n\",\"*   Metin katarı negatif dizinleme,\\n\",\"*   Metin katarı dilimleme,\\n\",\"*   In operatörü,\\n\",\"*   Metin katarının uzunluğu,\\n\",\"*   Özel karakterlerden kaçma,\\n\",\"*   Basit metin katarı metodları,\\n\",\"*   Metin katarı biçimlendirme yer almaktadır.\"]},{\"cell_type\":\"markdown\",\"metadata\":{\"id\":\"9UNmx1IUNSrB\"},\"source\":[\"## Birbirine Bağlama\\n\",\"Birbirine bağlama artı (+) işlemini kullanarak iki metin katarının birleştirilmesi işlemine denir.\"]},{\"cell_type\":\"markdown\",\"metadata\":{\"id\":\"1CkYIUTqNhSR\"},\"source\":[\"**Örnek Uygulama**\\n\",\"\\n\",\"```\\n\",\"deger1 = \\\"Merhaba\\\"\\n\",\"deger2 = \\\"Dünya\\\"\\n\",\"\\n\",\"selamlama = deger1 + \\\" \\\" + deger2\\n\",\"print(selamlama)      # Çıktı: Merhaba Dünya\\n\",\"```\\n\",\"\\n\"]},{\"cell_type\":\"code\",\"metadata\":{\"id\":\"-kLiOIo7Ku-F\",\"colab\":{\"base_uri\":\"https://localhost:8080/\"},\"executionInfo\":{\"status\":\"ok\",\"timestamp\":1619218819927,\"user_tz\":-180,\"elapsed\":656,\"user\":{\"displayName\":\"Yağmur Cengiz\",\"photoUrl\":\"\",\"userId\":\"11561586730509382852\"}},\"outputId\":\"6eb4352d-fd54-4092-beb6-6ba2d8aba4d6\"},\"source\":[\"# Örnek uygulamayı çalışıtır\\n\",\"\\n\",\"deger1 = \\\"Merhaba\\\"\\n\",\"deger2 = \\\"Dünya\\\"\\n\",\"\\n\",\"selamlama = deger1 + \\\" \\\" + deger2\\n\",\"print(selamlama)\"],\"execution_count\":45,\"outputs\":[{\"output_type\":\"stream\",\"text\":[\"Merhaba Dünya\\n\"],\"name\":\"stdout\"}]},{\"cell_type\":\"markdown\",\"metadata\":{\"id\":\"n9rA4HAHNqI7\"},\"source\":[\"**Görev:** *ad*, *soyad* ve *hitap* değişkenlerini tek bir çıktıda birleştirecek kodu yazın! \"]},{\"cell_type\":\"code\",\"metadata\":{\"id\":\"xyNs9VEFOHJc\",\"colab\":{\"base_uri\":\"https://localhost:8080/\"},\"executionInfo\":{\"status\":\"ok\",\"timestamp\":1619218892591,\"user_tz\":-180,\"elapsed\":661,\"user\":{\"displayName\":\"Yağmur Cengiz\",\"photoUrl\":\"\",\"userId\":\"11561586730509382852\"}},\"outputId\":\"178fdea4-32b1-4c49-88ff-ddc22620d241\"},\"source\":[\"hitap = \\\"Öğr. Gör.\\\"\\n\",\"ad = \\\"Orçun\\\"\\n\",\"soyad = \\\"Madran\\\"\\n\",\"cıktı = hitap + ad + soyad\\n\",\"print(cıktı)\"],\"execution_count\":48,\"outputs\":[{\"output_type\":\"stream\",\"text\":[\"Öğr. Gör.OrçunMadran\\n\"],\"name\":\"stdout\"}]},{\"cell_type\":\"markdown\",\"metadata\":{\"id\":\"ipcnECBCOKWX\"},\"source\":[\"## Metin Katarı Çarpımı\\n\",\"Python, metin katarlarının çarpım sayısı kadar tekrar ettirilmesini desteklemektedir.\"]},{\"cell_type\":\"markdown\",\"metadata\":{\"id\":\"HXxuq9kMO2xm\"},\"source\":[\"**Örnek Uygulama**\\n\",\"\\n\",\"```\\n\",\"metin = \\\"Hadi! \\\"\\n\",\"metniCarp = metin * 4\\n\",\"print(metniCarp) # Çıktı: Hadi! Hadi! Hadi! Hadi! \\n\",\"```\\n\",\"\\n\"]},{\"cell_type\":\"code\",\"metadata\":{\"id\":\"12AYvND7LYwN\",\"colab\":{\"base_uri\":\"https://localhost:8080/\"},\"executionInfo\":{\"status\":\"ok\",\"timestamp\":1619219000069,\"user_tz\":-180,\"elapsed\":706,\"user\":{\"displayName\":\"Yağmur Cengiz\",\"photoUrl\":\"\",\"userId\":\"11561586730509382852\"}},\"outputId\":\"201a56ea-3b20-4349-d583-9043432d830c\"},\"source\":[\"# Örnek uygulamayı çalıştır\\n\",\"\\n\",\"metin = \\\"Hadi! \\\"\\n\",\"metniCarp = metin * 4\\n\",\"print(metniCarp)\"],\"execution_count\":49,\"outputs\":[{\"output_type\":\"stream\",\"text\":[\"Hadi! Hadi! Hadi! Hadi! \\n\"],\"name\":\"stdout\"}]},{\"cell_type\":\"markdown\",\"metadata\":{\"id\":\"56NercDUOh8x\"},\"source\":[\"**Görev:** Sizi sürekli bekleten arkadaşınızı uyarabilmek için istediğiniz sayıda \\\"Hadi!\\\" kelimesini ekrana yazdırın!\"]},{\"cell_type\":\"code\",\"metadata\":{\"id\":\"j_CdqS1bPHAb\",\"colab\":{\"base_uri\":\"https://localhost:8080/\"},\"executionInfo\":{\"status\":\"ok\",\"timestamp\":1619219073503,\"user_tz\":-180,\"elapsed\":745,\"user\":{\"displayName\":\"Yağmur Cengiz\",\"photoUrl\":\"\",\"userId\":\"11561586730509382852\"}},\"outputId\":\"de1065a8-835c-4a81-9329-507ac9501503\"},\"source\":[\"metin = \\\"Hadi! \\\"\\n\",\"metniCarp = metin * 8\\n\",\"print(metniCarp)\\n\",\"# Çıktı: Hadi! Hadi! Hadi! Hadi! ... Hadi!\"],\"execution_count\":50,\"outputs\":[{\"output_type\":\"stream\",\"text\":[\"Hadi! Hadi! Hadi! Hadi! Hadi! Hadi! Hadi! Hadi! \\n\"],\"name\":\"stdout\"}]},{\"cell_type\":\"markdown\",\"metadata\":{\"id\":\"Xo6sOrv-PpgY\"},\"source\":[\"##Metin Katarı Dizinleme\\n\",\"Konumu biliniyorsa, bir metin katarındaki ilgili karaktere erişilebilir. Örneğin; str[index] metin katarındaki indeks numarasının karşılık geldiği karakteri geri döndürecektir. İndekslerin her zaman 0'dan başladığı unutulmamalıdır. İndeksler, sağdan saymaya başlamak için negatif sayılar da olabilir. -0, 0 ile aynı olduğundan, negatif indeksler -1 ile başlar.\"]},{\"cell_type\":\"markdown\",\"metadata\":{\"id\":\"VV71MAQFQaPs\"},\"source\":[\"**Örnek Uygulama**\\n\",\"\\n\",\"```\\n\",\"metin = \\\"Python Programlama Dili\\\"\\n\",\"print(\\\"'h' harfini yakala: \\\" + metin[3]) # Çıktı: 'h' harfini yakala: h\\\"\\n\",\"```\\n\"]},{\"cell_type\":\"code\",\"metadata\":{\"id\":\"S7c1TXGlL3XI\",\"colab\":{\"base_uri\":\"https://localhost:8080/\"},\"executionInfo\":{\"status\":\"ok\",\"timestamp\":1619219129564,\"user_tz\":-180,\"elapsed\":684,\"user\":{\"displayName\":\"Yağmur Cengiz\",\"photoUrl\":\"\",\"userId\":\"11561586730509382852\"}},\"outputId\":\"0b6c388e-701e-4277-9209-41fc2e083914\"},\"source\":[\"# örnek uygulama çalıştır\\n\",\"\\n\",\"metin = \\\"Python Programlama Dili\\\"\\n\",\"print(\\\"'h' harfini yakala: \\\" + metin[3])\"],\"execution_count\":51,\"outputs\":[{\"output_type\":\"stream\",\"text\":[\"'h' harfini yakala: h\\n\"],\"name\":\"stdout\"}]},{\"cell_type\":\"markdown\",\"metadata\":{\"id\":\"55Lviae-QTax\"},\"source\":[\"**Görev:** İndeks numarasını kullanarak metin katarındaki ikinci \\\"P\\\" harfini ekrana yazdırın!\\n\"]},{\"cell_type\":\"code\",\"metadata\":{\"id\":\"dHJ48v5WQe4c\",\"colab\":{\"base_uri\":\"https://localhost:8080/\"},\"executionInfo\":{\"status\":\"ok\",\"timestamp\":1619219393832,\"user_tz\":-180,\"elapsed\":657,\"user\":{\"displayName\":\"Yağmur Cengiz\",\"photoUrl\":\"\",\"userId\":\"11561586730509382852\"}},\"outputId\":\"2d79a513-be06-4496-ea05-4baed5077bff\"},\"source\":[\"metin = \\\"Python Programlama Dili\\\"\\n\",\"print(\\\"İkinci 'P' harfini ekrana yazdırın:\\\" + metin[7])\\n\",\"# Çıktı: P\"],\"execution_count\":57,\"outputs\":[{\"output_type\":\"stream\",\"text\":[\"İkinci 'P' harfini ekrana yazdırın:P\\n\"],\"name\":\"stdout\"}]},{\"cell_type\":\"markdown\",\"metadata\":{\"id\":\"op2D6v9xQsRe\"},\"source\":[\"## Metin Katarı Negatif Dizinleme\\n\",\"Metin katarının sonlarında yer alan bir karaktere daha rahat erişebilmek için indeks numarası negatif bir değer olarak belirlenebilir.\"]},{\"cell_type\":\"markdown\",\"metadata\":{\"id\":\"kZTrtqD6RM7j\"},\"source\":[\"**Örnek Uygulama**\\n\",\"\\n\",\"```\\n\",\"metin = \\\"Python Programlama Dili\\\"\\n\",\"dHarfi = metin[-4]\\n\",\"print(dHarfi) # Çıktı: D\\n\",\"```\\n\",\"\\n\"]},{\"cell_type\":\"code\",\"metadata\":{\"id\":\"_iG5JXqmM96K\",\"colab\":{\"base_uri\":\"https://localhost:8080/\"},\"executionInfo\":{\"status\":\"ok\",\"timestamp\":1619219422420,\"user_tz\":-180,\"elapsed\":697,\"user\":{\"displayName\":\"Yağmur Cengiz\",\"photoUrl\":\"\",\"userId\":\"11561586730509382852\"}},\"outputId\":\"4d894e3c-7b80-42d6-a6d8-a3a9a9f175f0\"},\"source\":[\"# Örnek uygulama çalıştır\\n\",\"\\n\",\"metin = \\\"Python Programlama Dili\\\"\\n\",\"dHarfi = metin[-4]\\n\",\"print(dHarfi)\"],\"execution_count\":58,\"outputs\":[{\"output_type\":\"stream\",\"text\":[\"D\\n\"],\"name\":\"stdout\"}]},{\"cell_type\":\"markdown\",\"metadata\":{\"id\":\"ZM6vbbChQ_4R\"},\"source\":[\"**Görev:** Metin katarının sonunda yer alan \\\"i\\\" harfini ekrana yazdırın!\"]},{\"cell_type\":\"code\",\"metadata\":{\"id\":\"d49Cfw-FRJMT\",\"colab\":{\"base_uri\":\"https://localhost:8080/\"},\"executionInfo\":{\"status\":\"ok\",\"timestamp\":1619219484586,\"user_tz\":-180,\"elapsed\":751,\"user\":{\"displayName\":\"Yağmur Cengiz\",\"photoUrl\":\"\",\"userId\":\"11561586730509382852\"}},\"outputId\":\"d260b717-236f-4e3a-fa1c-3551b8026283\"},\"source\":[\"metin = \\\"Python Programlama Dili\\\"\\n\",\"iHarfi = metin[-1]\\n\",\"print(iHarfi)\\n\",\"#Çıktı: i\"],\"execution_count\":59,\"outputs\":[{\"output_type\":\"stream\",\"text\":[\"i\\n\"],\"name\":\"stdout\"}]},{\"cell_type\":\"markdown\",\"metadata\":{\"id\":\"xPgrx41FRbrw\"},\"source\":[\"##Metin Katarı Dilimleme\\n\",\"Dilimleme, bir metin katarından birden çok karakter (bir alt katar oluşturmak) almak için kullanılır. Söz dizimi indeks numarası ile bir karaktere erişmeye benzer, ancak iki nokta üst üste işaretiyle ayrılmış iki indeks numarası kullanılır. Ör: str[ind1:ind2].\\n\",\"\\n\",\"Noktalı virgülün solundaki indeks numarası belirlenmezse ilk karakterden itibaren (ilk karakter dahil) seçimin yapılacağı anlamına gelir. Ör: str[:ind2]\\n\",\"\\n\",\"Noktalı virgülün sağındaki indeks numarası belirlenmezse son karaktere kadar (son karakter dahil) seçimin yapılacağı anlamına gelir. Ör: str[ind1:]\"]},{\"cell_type\":\"markdown\",\"metadata\":{\"id\":\"X_MHtUgUSFpY\"},\"source\":[\"**Örnek Uygulama**\\n\",\"\\n\",\"```\\n\",\"metin = \\\"Python Programlama Dili\\\"\\n\",\"dilimle = metin[:6]      \\n\",\"print(dilimle) # Çıktı: Python\\n\",\"\\n\",\"metin = \\\"Python Programlama Dili\\\" \\n\",\"print(metin[7:]) # Çıktı: Programlama Dili\\n\",\"\\n\",\"```\\n\",\"\\n\"]},{\"cell_type\":\"code\",\"metadata\":{\"id\":\"UDTKDiPeNh_a\",\"colab\":{\"base_uri\":\"https://localhost:8080/\"},\"executionInfo\":{\"status\":\"ok\",\"timestamp\":1619219874491,\"user_tz\":-180,\"elapsed\":675,\"user\":{\"displayName\":\"Yağmur Cengiz\",\"photoUrl\":\"\",\"userId\":\"11561586730509382852\"}},\"outputId\":\"7669e026-ee04-47a3-e71d-b06652852749\"},\"source\":[\"# Örnek uygulama çalıştır\\n\",\"\\n\",\"metin = \\\"Python Programlama Dili\\\"\\n\",\"dilimle = metin[:6]      \\n\",\"print(dilimle)\\n\",\"\\n\",\"metin = \\\"Python Programlama Dili\\\" \\n\",\"print(metin[7:])\"],\"execution_count\":60,\"outputs\":[{\"output_type\":\"stream\",\"text\":[\"Python\\n\",\"Programlama Dili\\n\"],\"name\":\"stdout\"}]},{\"cell_type\":\"markdown\",\"metadata\":{\"id\":\"SjPJOtqUR7rT\"},\"source\":[\"**Görev:** Metin katarını dilemleyerek katarda yer alan üç kelimeyi de ayrı ayrı (alt alta) ekrana yazdırın!.\"]},{\"cell_type\":\"code\",\"metadata\":{\"id\":\"bHxs-WnaSKie\",\"colab\":{\"base_uri\":\"https://localhost:8080/\"},\"executionInfo\":{\"status\":\"ok\",\"timestamp\":1619220653848,\"user_tz\":-180,\"elapsed\":665,\"user\":{\"displayName\":\"Yağmur Cengiz\",\"photoUrl\":\"\",\"userId\":\"11561586730509382852\"}},\"outputId\":\"db5ea163-9864-43fa-b046-fe84d27f6641\"},\"source\":[\"metin = \\\"Python Programlama Dili\\\" \\n\",\"dilimle = metin[:6]\\n\",\"print(dilimle)\\n\",\"metin = \\\"Programlama Dili\\\"\\n\",\"dilimle = metin[:11]\\n\",\"print(dilimle)\\n\",\"dilimle1 = metin[12:]\\n\",\"print(dilimle1)\\n\",\"# Çıktı:\\n\",\"# Python\\n\",\"# Programlama\\n\",\"# Dili\"],\"execution_count\":88,\"outputs\":[{\"output_type\":\"stream\",\"text\":[\"Python\\n\",\"Programlama\\n\",\"Dili\\n\"],\"name\":\"stdout\"}]},{\"cell_type\":\"markdown\",\"metadata\":{\"id\":\"aIfLylzcShEG\"},\"source\":[\"##In Operatörü\\n\",\"Bir metin katarının belirli bir harf ya da bir alt katar içerip içermediğini kontrol etmek için, in anahtar sözcüğü kullanılır.\"]},{\"cell_type\":\"markdown\",\"metadata\":{\"id\":\"pZZxStolS-Rg\"},\"source\":[\"**Örnek Uygulama**\\n\",\"\\n\",\"```\\n\",\"metin = \\\"Python Programlama Dili\\\"\\n\",\"print(\\\"Programlama\\\" in metin)    # Çıktı: True\\n\",\"```\\n\",\"\\n\"]},{\"cell_type\":\"markdown\",\"metadata\":{\"id\":\"551pDT0YS14M\"},\"source\":[\"**Görev:** Metin katarında \\\"Python\\\" kelimesinin geçip geçmediğini kontrol ederek ekrana yazdırın!\"]},{\"cell_type\":\"code\",\"metadata\":{\"id\":\"2CpxVwHMTENL\",\"colab\":{\"base_uri\":\"https://localhost:8080/\"},\"executionInfo\":{\"status\":\"ok\",\"timestamp\":1619221354561,\"user_tz\":-180,\"elapsed\":681,\"user\":{\"displayName\":\"Yağmur Cengiz\",\"photoUrl\":\"\",\"userId\":\"11561586730509382852\"}},\"outputId\":\"9f340be2-3e78-4cc5-eb87-4dcc93c8d42a\"},\"source\":[\"metin = \\\"Python Programlama Dili\\\"\\n\",\"print(\\\"Python\\\" in metin)\"],\"execution_count\":89,\"outputs\":[{\"output_type\":\"stream\",\"text\":[\"True\\n\"],\"name\":\"stdout\"}]},{\"cell_type\":\"markdown\",\"metadata\":{\"id\":\"mKLQLw8_TJyz\"},\"source\":[\"##Metin Katarının Uzunluğu\\n\",\"Bir metin katarının kaç karakter içerdiğini saymak için len() yerleşik fonksiyonu kullanılır. \"]},{\"cell_type\":\"markdown\",\"metadata\":{\"id\":\"aa4IkB7CTuyr\"},\"source\":[\"**Örnek Uygulama**\\n\",\"\\n\",\"```\\n\",\"metin = \\\"Python programlama dili\\\"\\n\",\"print(len(metin)) # Çıktı: 23\\n\",\"```\\n\",\"\\n\"]},{\"cell_type\":\"code\",\"metadata\":{\"id\":\"dOa6Pu2CPpW7\",\"colab\":{\"base_uri\":\"https://localhost:8080/\"},\"executionInfo\":{\"status\":\"ok\",\"timestamp\":1619221751550,\"user_tz\":-180,\"elapsed\":652,\"user\":{\"displayName\":\"Yağmur Cengiz\",\"photoUrl\":\"\",\"userId\":\"11561586730509382852\"}},\"outputId\":\"50608436-7aa0-4ed0-d69c-ddfbfe78cf47\"},\"source\":[\"# Örnek uygulamayı çalıştır\\n\",\"\\n\",\"metin = \\\"Python programlama dili\\\"\\n\",\"print(len(metin)) \"],\"execution_count\":95,\"outputs\":[{\"output_type\":\"stream\",\"text\":[\"23\\n\"],\"name\":\"stdout\"}]},{\"cell_type\":\"markdown\",\"metadata\":{\"id\":\"BF5DPvyuTa4R\"},\"source\":[\"**Görev:** Metin katarındaki cümlenin ilk yarısını ekrana yazdırın! Yazılan kod cümlenin uzunluğundan bağımsız olarak cümleyi ikiye bölmelidir.\"]},{\"cell_type\":\"code\",\"metadata\":{\"id\":\"Uvnr2f1XT05N\",\"colab\":{\"base_uri\":\"https://localhost:8080/\"},\"executionInfo\":{\"status\":\"ok\",\"timestamp\":1619222164373,\"user_tz\":-180,\"elapsed\":1170,\"user\":{\"displayName\":\"Yağmur Cengiz\",\"photoUrl\":\"\",\"userId\":\"11561586730509382852\"}},\"outputId\":\"a67acd27-7815-4faa-d881-6a7dbb4a1233\"},\"source\":[\"metin = \\\"Python programlama dili, dünyada eğitim amacıyla en çok kullanılan programlama dillerinin başında gelir.\\\"\\n\",\"print(len(\\\"Python programlama dili, dünyada eğitim amacıyla en \\\"))\\n\",\"# Çıktı: Python programlama dili, dünyada eğitim amacıyla en\"],\"execution_count\":104,\"outputs\":[{\"output_type\":\"stream\",\"text\":[\"52\\n\"],\"name\":\"stdout\"}]},{\"cell_type\":\"markdown\",\"metadata\":{\"id\":\"T_u1X0aKVAO2\"},\"source\":[\"## Özel Karakterlerden Kaçma\\n\",\"Metin katarları içerisinde tek ve çift tırnak kullanımı kimi zaman sorunlara yol açmaktadır. Bu karakterin metin katarları içerisinde kullanılabilmesi için \\\"Ters Eğik Çizgi\\\" ile birlikte kullanılırlar. \\n\",\"\\n\",\"Örneğin: 'Önümüzdeki ay \\\"Ankara'da Python Eğitimi\\\" gerçekleştirilecek' cümlesindeki tek tırnak kullanımı soruna yol açacağından 'Önümüzdeki ay \\\"Ankara\\\\'da Python Eğitimi\\\" gerçekleştirilecek' şeklinde kullanılmalıdır.\\n\",\"\\n\",\"**İpucu:** Tek tırnaklı metin katarlarından kaçmak için çift tırnak ya da tam tersi kullanılabilir.\"]},{\"cell_type\":\"markdown\",\"metadata\":{\"id\":\"bJX6J5bvVbZa\"},\"source\":[\"**Örnek Uygulama**\\n\",\"\\n\",\"```\\n\",\"metin = 'Önümüzdeki ay \\\"Ankara\\\\'da Python Eğitimi\\\" gerçekleştirilecektir.'\\n\",\"print(metin) #Çıktı: Önümüzdeki ay \\\"Ankara'da Python Eğitimi\\\" gerçekleştirilecektir.\\n\",\"\\n\",\"metin = 'Önümüzdeki ay \\\"Ankara'da Python Eğitimi\\\" gerçekleştirilecektir.'\\n\",\"print(metin) # Çıktı: Geçersiz söz dizimi hatası dönecektir. \\n\",\"```\\n\",\"\\n\"]},{\"cell_type\":\"code\",\"metadata\":{\"id\":\"GopY-yJSQ8Z_\",\"colab\":{\"base_uri\":\"https://localhost:8080/\"},\"executionInfo\":{\"status\":\"ok\",\"timestamp\":1619222431267,\"user_tz\":-180,\"elapsed\":684,\"user\":{\"displayName\":\"Yağmur Cengiz\",\"photoUrl\":\"\",\"userId\":\"11561586730509382852\"}},\"outputId\":\"c438e440-9a41-4b99-e2b9-a0f12c2653ef\"},\"source\":[\"# Örnek uygulamayı çalıştır\\n\",\"\\n\",\"metin = 'Önümüzdeki ay \\\"Ankara\\\\'da Python Eğitimi\\\" gerçekleştirilecektir.'\\n\",\"print(metin)\"],\"execution_count\":105,\"outputs\":[{\"output_type\":\"stream\",\"text\":[\"Önümüzdeki ay \\\"Ankara'da Python Eğitimi\\\" gerçekleştirilecektir.\\n\"],\"name\":\"stdout\"}]},{\"cell_type\":\"code\",\"metadata\":{\"id\":\"a0TZUON2Qd2X\",\"colab\":{\"base_uri\":\"https://localhost:8080/\",\"height\":129},\"executionInfo\":{\"status\":\"error\",\"timestamp\":1619222441220,\"user_tz\":-180,\"elapsed\":1134,\"user\":{\"displayName\":\"Yağmur Cengiz\",\"photoUrl\":\"\",\"userId\":\"11561586730509382852\"}},\"outputId\":\"a46a9bfa-3c09-4a21-c473-573770b3494d\"},\"source\":[\"# Örnek uygulamadaki hatayı gözlemle\\n\",\"\\n\",\"metin = 'Önümüzdeki ay \\\"Ankara'da Python Eğitimi\\\" gerçekleştirilecektir.'\\n\",\"print(metin)\"],\"execution_count\":106,\"outputs\":[{\"output_type\":\"error\",\"ename\":\"SyntaxError\",\"evalue\":\"ignored\",\"traceback\":[\"\\u001b[0;36m  File \\u001b[0;32m\\\"<ipython-input-106-7067b27e1e4c>\\\"\\u001b[0;36m, line \\u001b[0;32m3\\u001b[0m\\n\\u001b[0;31m    metin = 'Önümüzdeki ay \\\"Ankara'da Python Eğitimi\\\" gerçekleştirilecektir.'\\u001b[0m\\n\\u001b[0m                                    ^\\u001b[0m\\n\\u001b[0;31mSyntaxError\\u001b[0m\\u001b[0;31m:\\u001b[0m invalid syntax\\n\"]}]},{\"cell_type\":\"markdown\",\"metadata\":{\"id\":\"5520MewzVPmx\"},\"source\":[\"**Görev:** Metin katarındaki cümlede yer alan noktalama işaretlerinden uygun şekilde kaçarak cümleyi ekrana yazdırın!\"]},{\"cell_type\":\"code\",\"metadata\":{\"id\":\"A8Gpec2uVhxU\",\"colab\":{\"base_uri\":\"https://localhost:8080/\"},\"executionInfo\":{\"status\":\"ok\",\"timestamp\":1619222478306,\"user_tz\":-180,\"elapsed\":689,\"user\":{\"displayName\":\"Yağmur Cengiz\",\"photoUrl\":\"\",\"userId\":\"11561586730509382852\"}},\"outputId\":\"785fcc62-3e7c-4788-abb7-31af3c498261\"},\"source\":[\"metin = 'Bilimsel çalışmalarda \\\"Python\\\" kullanımı Türkiye\\\\'de çok yaygınlaştı!'\\n\",\"print(metin)\"],\"execution_count\":107,\"outputs\":[{\"output_type\":\"stream\",\"text\":[\"Bilimsel çalışmalarda \\\"Python\\\" kullanımı Türkiye'de çok yaygınlaştı!\\n\"],\"name\":\"stdout\"}]},{\"cell_type\":\"markdown\",\"metadata\":{\"id\":\"cft6m1VaVqVH\"},\"source\":[\"##Basit Metin Katarı Metodları\\n\",\"Python içinde birçok yerleşik metin katarı fonksiyonu vardır. En çok kullanılan fonksiyonlardan bazıları olarak;\\n\",\"\\n\",\"* tüm harfleri büyük harfe dönüştüren *upper()*,\\n\",\"* tüm harfleri küçük harfe dönüştüren *lower()*,\\n\",\"* sadece cümlenin ilk harfini büyük hale getiren *capitalize()* sayılabilir.\\n\",\"\\n\",\"**İpucu:** Python'daki yerleşik fonksiyonların bir listesini görüntüleyebilmek için metin katarından sonra bir nokta (.) koyulur ve uygun olan fonksiyonlar arayüz tarafından otomatik olarak listelenir. Bu yardımcı işlevi tetiklemek için CTRL + Bolşuk tuş kombinasyonu da kullanılabilir.\"]},{\"cell_type\":\"markdown\",\"metadata\":{\"id\":\"S3-V5gloV3MM\"},\"source\":[\"**Örnek Uygulama**\\n\",\"\\n\",\"```\\n\",\"metin = \\\"Python Programlama Dili\\\"\\n\",\"print(metin.lower())    # Çıktı: python programlama dili\\n\",\"print(metin.upper())    # Çıktı: PYTHON PROGRAMLAMA DILI\\n\",\"print(metin.capitalize())    # Çıktı: Python programlama dili\\n\",\"```\\n\",\"\\n\"]},{\"cell_type\":\"code\",\"metadata\":{\"id\":\"x6OiDHydSKra\",\"colab\":{\"base_uri\":\"https://localhost:8080/\"},\"executionInfo\":{\"status\":\"ok\",\"timestamp\":1619222568971,\"user_tz\":-180,\"elapsed\":682,\"user\":{\"displayName\":\"Yağmur Cengiz\",\"photoUrl\":\"\",\"userId\":\"11561586730509382852\"}},\"outputId\":\"1c822db2-8c48-408c-9c75-f2cf57a778f6\"},\"source\":[\"# Örnek uygulamayı çalıştır\\n\",\"\\n\",\"metin = \\\"Python Programlama Dili\\\"\\n\",\"print(metin.lower())\\n\",\"print(metin.upper())\\n\",\"print(metin.capitalize())\"],\"execution_count\":108,\"outputs\":[{\"output_type\":\"stream\",\"text\":[\"python programlama dili\\n\",\"PYTHON PROGRAMLAMA DILI\\n\",\"Python programlama dili\\n\"],\"name\":\"stdout\"}]},{\"cell_type\":\"markdown\",\"metadata\":{\"id\":\"-ko2Gpq_Vz23\"},\"source\":[\"**Görev:** *anahtarKelime* ve *arananKelime* değişkenlerinde yer alan metinler karşılaştırıldığında birbirlerine eşit (==) olmalarını sağlayın ve dönen değerin \\\"True\\\" olmasını sağlayın!\"]},{\"cell_type\":\"code\",\"metadata\":{\"id\":\"XfaN4psBV8wr\",\"colab\":{\"base_uri\":\"https://localhost:8080/\"},\"executionInfo\":{\"status\":\"ok\",\"timestamp\":1619223118429,\"user_tz\":-180,\"elapsed\":665,\"user\":{\"displayName\":\"Yağmur Cengiz\",\"photoUrl\":\"\",\"userId\":\"11561586730509382852\"}},\"outputId\":\"6cadcfff-fd7c-4544-cb45-3a2dd399c914\"},\"source\":[\"anahtarKelime = \\\"Makine Öğrenmesi\\\"\\n\",\"arananKelime = \\\"makine öğrenmesi\\\"\\n\",\"print(anahtarKelime.lower())\\n\",\"print(anahtarKelime.lower() == arananKelime) # Çıktı: True\"],\"execution_count\":119,\"outputs\":[{\"output_type\":\"stream\",\"text\":[\"makine öğrenmesi\\n\",\"True\\n\"],\"name\":\"stdout\"}]},{\"cell_type\":\"markdown\",\"metadata\":{\"id\":\"16m1oC6LWEdJ\"},\"source\":[\"##Metin Katarı Biçimlendirme\\n\",\"Bir metin katarından sonraki % operatörü, bir metin katarını değişkenlerle birleştirmek için kullanılır. % operatörü, bir metin katarıdanki % s öğesini, arkasından gelen değişkenle değiştirir. % d sembolü ise, sayısal veya ondalık değerler için yer tutucu olarak kullanılır.\"]},{\"cell_type\":\"markdown\",\"metadata\":{\"id\":\"1l70j4-3WP4b\"},\"source\":[\"**Örnek Uygulama**\\n\",\"\\n\",\"```\\n\",\"adsoyad = \\\"Orçun Madran\\\"\\n\",\"dogumTarihi = 1976\\n\",\"\\n\",\"print(\\\"Merhaba, ben %s!\\\" % adsoyad) #  Çıktı: Merhaba, ben Orçun Madran!\\n\",\"print(\\\"Ben %d doğumluyum\\\" % dogumTarihi) #  Ben 1976 doğumluyum.\\n\",\"\\n\",\"ad = \\\"Orçun\\\"\\n\",\"soyad = \\\"Madran\\\"\\n\",\"\\n\",\"print(\\\"Merhaba, ben %s %s!\\\" % (ad, soyad)) #  Çıktı: Merhaba, ben Orçun Madran!\\n\",\"```\\n\",\"\\n\"]},{\"cell_type\":\"code\",\"metadata\":{\"id\":\"L1lvJBIVSzRK\"},\"source\":[\"# Örnek uygulamayı çalıştır\\n\",\"\\n\",\"adsoyad = \\\"Orçun Madran\\\"\\n\",\"dogumTarihi = 1976\\n\",\"\\n\",\"print(\\\"Merhaba, ben %s!\\\" % adsoyad)\\n\",\"print(\\\"Ben %d doğumluyum\\\" % dogumTarihi)\"],\"execution_count\":null,\"outputs\":[]},{\"cell_type\":\"code\",\"metadata\":{\"id\":\"YEhvVmn0TAlx\"},\"source\":[\"# Örnek uygulamayı çalıştır\\n\",\"\\n\",\"ad = \\\"Orçun\\\"\\n\",\"soyad = \\\"Madran\\\"\\n\",\"\\n\",\"print(\\\"Merhaba, ben %s %s!\\\" % (ad, soyad))\"],\"execution_count\":null,\"outputs\":[]},{\"cell_type\":\"markdown\",\"metadata\":{\"id\":\"b7ny_Q7uWJJX\"},\"source\":[\"**Görev:** \\\"Merhaba Orçun Madran, bu dönemki dersiniz 'Programlama Dilleri'. Başarılar!\\\" cümlesini ekrana biçimlendirmeyi kullanarak (artı işaretini kullanmadan) yazdırın!\"]},{\"cell_type\":\"code\",\"metadata\":{\"id\":\"HxYY3XqGWYsi\"},\"source\":[\"ad = \\\"Orçun\\\"\\n\",\"soyad = \\\"Madran\\\"\\n\",\"ders = \\\"Programlama Dilleri\\\"\\n\",\"\\n\",\"# Çıktı: Merhaba Orçun Madran, bu dönemki dersiniz \\\"Programlama Dilleri\\\". Başarılar!\"],\"execution_count\":null,\"outputs\":[]},{\"cell_type\":\"markdown\",\"metadata\":{\"id\":\"nTiryVt-EuJP\"},\"source\":[\"# Bölüm 04: Veri Yapılar\\n\",\"\\n\",\"Bu bölümde:\\n\",\"\\n\",\"*   Listeler,\\n\",\"*   Liste işlemleri,\\n\",\"*   Liste öğeleri,\\n\",\"*   Demetler (Tuples),\\n\",\"*   Sözlükler,\\n\",\"*   Sözlük değerleri ve anahtarları,\\n\",\"*   In anahtar kelimesinin kullanımı yer almaktadır.\\n\"]},{\"cell_type\":\"markdown\",\"metadata\":{\"id\":\"H78J_wNDE1Id\"},\"source\":[\"## Listeler\\n\",\"Liste, birden fazla değeri tek bir değişken adı altında saklamak için kullanabileceğiniz bir veri yapısıdır. Bir liste köşeli parantez arasında virgülle ayrılmış değerler dizisi olarak yazılır. Ör: liste = [deger1, deger2].\\n\",\"\\n\",\"Listeler farklı türden öğeler içerebilir, ancak genellikle listedeki tüm öğeler aynı türdedir. Metin katarları gibi listeler de dizine eklenebilir ve dilimlenebilir. (Bkz. Bölüm 3).\"]},{\"cell_type\":\"markdown\",\"metadata\":{\"id\":\"O4TC5Qs2Ge8H\"},\"source\":[\"**Örnek Uygulama**\\n\",\"\\n\",\"```\\n\",\"acikListe = [\\\"Açık Bilim\\\", \\\"Açık Erişim\\\", \\\"Açık Veri\\\", \\\"Açık Eğitim\\\", \\\"Açık Kaynak\\\"]   # acikListe adında yeni bir liste oluşturur\\n\",\"\\n\",\"print(acikListe) # Çıktı: ['Açık Bilim', 'Açık Erişim', 'Açık Veri', 'Açık Eğitim', 'Açık Kaynak']\\n\",\"```\\n\",\"\\n\"]},{\"cell_type\":\"code\",\"metadata\":{\"id\":\"p1GRzMQkUgX0\"},\"source\":[\"# Örnek uygulamayı çalıştır\\n\",\"\\n\",\"acikListe = [\\\"Açık Bilim\\\", \\\"Açık Erişim\\\", \\\"Açık Veri\\\", \\\"Açık Eğitim\\\", \\\"Açık Kaynak\\\"]\\n\",\"print(acikListe)\"],\"execution_count\":null,\"outputs\":[]},{\"cell_type\":\"markdown\",\"metadata\":{\"id\":\"ZqYRBLZSIJvi\"},\"source\":[\"**Görev 1:** acikListe içinde yer alan 3. liste öğesini ekrana yazıdırın! \"]},{\"cell_type\":\"code\",\"metadata\":{\"id\":\"bVSMLdnLG7Kx\"},\"source\":[\"acikListe = [\\\"Açık Bilim\\\", \\\"Açık Erişim\\\", \\\"Açık Veri\\\", \\\"Açık Eğitim\\\", \\\"Açık Kaynak\\\"]\\n\"],\"execution_count\":null,\"outputs\":[]},{\"cell_type\":\"markdown\",\"metadata\":{\"id\":\"pZ4hTBC0JCln\"},\"source\":[\"**Görev 2:** acikListe içinde yer alan 4. ve 5. liste öğesini ekrana yazıdırın! \"]},{\"cell_type\":\"code\",\"metadata\":{\"id\":\"_DgLPxODI3aP\"},\"source\":[\"acikListe = [\\\"Açık Bilim\\\", \\\"Açık Erişim\\\", \\\"Açık Veri\\\", \\\"Açık Eğitim\\\", \\\"Açık Kaynak\\\"]\\n\"],\"execution_count\":null,\"outputs\":[]},{\"cell_type\":\"markdown\",\"metadata\":{\"id\":\"D_Vt3_mQJq9Q\"},\"source\":[\"## Liste İşlemleri\\n\",\"append() fonksiyonunu kullanarak ya da artırılmış atama operatörü ( += ) yardımıyla listenin sonuna yeni öğeler (değerler) eklenebilir.  Listelerin içindeki öğeler güncellenebilir, yani liste[indeksNo] = yeni_deger kullanarak içeriklerini değiştirmek mümkündür.\"]},{\"cell_type\":\"markdown\",\"metadata\":{\"id\":\"3xGEUhipL11G\"},\"source\":[\"**Örnek Uygulama**\\n\",\"\\n\",\"```\\n\",\"acikListe = [\\\"Açık Bilim\\\", \\\"Açık Erişim\\\", \\\"Açık Veri\\\", \\\"Açık Eğitim\\\", \\\"Açık Kaynak\\\"]   # acikListe adında yeni bir liste oluşturur\\n\",\"print(acikListe) # Çıktı: ['Açık Bilim', 'Açık Erişim', 'Açık Veri', 'Açık Eğitim', 'Açık Kaynak']\\n\",\"\\n\",\"acikListe += [\\\"Açık Donanım\\\", \\\"Açık İnovasyon\\\"]    # listeye iki yeni öğe ekler\\n\",\"print(acikListe) # Çıktı: ['Açık Bilim', 'Açık Erişim', 'Açık Veri', 'Açık Eğitim', 'Açık Kaynak', 'Açık Donanım', 'Açık İnovasyon']\\n\",\"\\n\",\"acikListe.append(\\\"Açık Veri Gazeteciliği\\\")   # listeye yeni bir öğe ekler\\n\",\"print(acikListe) # Çıktı: ['Açık Bilim', 'Açık Erişim', 'Açık Veri', 'Açık Eğitim', 'Açık Kaynak', 'Açık Donanım', 'Açık İnovasyon', 'Açık Veri Gazeteciliği']\\n\",\"\\n\",\"acikListe[4] = \\\"Açık Kaynak Kod\\\" # listenin 5. öğesini değiştirir\\n\",\"print(acikListe) # Çıktı: ['Açık Bilim', 'Açık Erişim', 'Açık Veri', 'Açık Eğitim', 'Açık Kaynak Kod', 'Açık Donanım', 'Açık İnovasyon', 'Açık Veri Gazeteciliği']\\n\",\"```\\n\",\"\\n\"]},{\"cell_type\":\"code\",\"metadata\":{\"id\":\"YlhpK0Y2VbBw\"},\"source\":[\"# Örnek uygulamayı çalıştır\\n\",\"\\n\",\"acikListe = [\\\"Açık Bilim\\\", \\\"Açık Erişim\\\", \\\"Açık Veri\\\", \\\"Açık Eğitim\\\", \\\"Açık Kaynak\\\"]\\n\",\"print(acikListe)\\n\",\" \\n\",\"acikListe += [\\\"Açık Donanım\\\", \\\"Açık İnovasyon\\\"] \\n\",\"print(acikListe)\\n\",\" \\n\",\"acikListe.append(\\\"Açık Veri Gazeteciliği\\\")\\n\",\"print(acikListe)\\n\",\" \\n\",\"acikListe[4] = \\\"Açık Kaynak Kod\\\"\\n\",\"print(acikListe)\"],\"execution_count\":null,\"outputs\":[]},{\"cell_type\":\"markdown\",\"metadata\":{\"id\":\"5hgUnMj7ODY1\"},\"source\":[\"**Görev:** bilgiBilim adlı bir liste oluşturun. Bu listeye bilgi bilim disiplini ile ilgili 3 adet anahtar kelime ya da kavram ekleyin. Bu listeyi ekrana yazdırın. Listeye istediğiniz bir yöntem ile (append(), +=) 2 yeni öğe ekleyin. Ekrana listenin son durumunu yazdırın. Listenizdeki son öğeyi değiştirin. Listenin son halini ekrana yazıdırn.\"]},{\"cell_type\":\"code\",\"metadata\":{\"id\":\"_gzwR_UGLkL4\"},\"source\":[\"#bilgiBilim\\n\"],\"execution_count\":null,\"outputs\":[]},{\"cell_type\":\"markdown\",\"metadata\":{\"id\":\"qiE0PiXLPQmM\"},\"source\":[\"## Liste Öğeleri\"]},{\"cell_type\":\"markdown\",\"metadata\":{\"id\":\"S7yYWbwTPXQ8\"},\"source\":[\"Liste öğelerini dilimleme (slice) yaparak da atamak mümkündür. Bu bir listenin boyutunu değiştirebilir veya listeyi tamamen temizleyebilir.\"]},{\"cell_type\":\"markdown\",\"metadata\":{\"id\":\"_ooqgLJbPsXC\"},\"source\":[\"**Örnek Uygulama**\\n\",\"\\n\",\"```\\n\",\"acikListe = [\\\"Açık Bilim\\\", \\\"Açık Erişim\\\", \\\"Açık Veri\\\", \\\"Açık Eğitim\\\", \\\"Açık Kaynak\\\"]   # acikListe adında yeni bir liste oluşturur\\n\",\"print(acikListe) # Çıktı: ['Açık Bilim', 'Açık Erişim', 'Açık Veri', 'Açık Eğitim', 'Açık Kaynak']\\n\",\"\\n\",\"acikListe[2:4] = [\\\"Açık İnovasyon\\\"]    # \\\"Açık Veri\\\" ve \\\"Açık Eğitim\\\" öğelerinin yerine tek bir öğe ekler\\n\",\"print(acikListe)  #Çıktı:  [\\\"Açık Bilim\\\", \\\"Açık Erişim\\\", \\\"Açık İnovasyon\\\", \\\"Açık Kaynak\\\"]\\n\",\"\\n\",\"acikListe[:2] = []     # listenin ilk iki öğesini siler\\n\",\"print(acikListe)  #Çıktı:  [\\\"Açık İnovasyon\\\", \\\"Açık Kaynak\\\"]\\n\",\"\\n\",\"acikListe[:] = [] # listeyi temizler \\n\",\"print(acikListe)  #Çıktı: []\\n\",\"```\\n\",\"\\n\"]},{\"cell_type\":\"code\",\"metadata\":{\"id\":\"ZTD-lZlkWPQZ\"},\"source\":[\"# Örnek uygulamayı çalıştır\\n\",\"\\n\",\"acikListe = [\\\"Açık Bilim\\\", \\\"Açık Erişim\\\", \\\"Açık Veri\\\", \\\"Açık Eğitim\\\", \\\"Açık Kaynak\\\"]\\n\",\"print(acikListe)\\n\",\"\\n\",\"acikListe[2:4] = [\\\"Açık İnovasyon\\\"]\\n\",\"print(acikListe)\\n\",\"\\n\",\"acikListe[:2] = []\\n\",\"print(acikListe)\\n\",\"\\n\",\"acikListe[:] = []\\n\",\"print(acikListe)\"],\"execution_count\":null,\"outputs\":[]},{\"cell_type\":\"markdown\",\"metadata\":{\"id\":\"4C3xLijJSKdE\"},\"source\":[\"**Görev:** Önceki görevde oluşturulan \\\"bilgiBilim\\\" adlı listenin istediğiniz öğesini silerek listenin güncel halini ekrana yazdırın. Listeyi tamamen temizleyerek listenin güncel halini ekrana yazdırın.\"]},{\"cell_type\":\"code\",\"metadata\":{\"id\":\"uQPbQgJAQ8nq\"},\"source\":[\"#bilgiBilim\\n\"],\"execution_count\":null,\"outputs\":[]},{\"cell_type\":\"markdown\",\"metadata\":{\"id\":\"J_f83oCDS-Hz\"},\"source\":[\"## Demetler (Tuples)\"]},{\"cell_type\":\"markdown\",\"metadata\":{\"id\":\"9er0WsfhTBpI\"},\"source\":[\"Demetler neredeyse listelerle aynı. Demetler ve listeler arasındaki tek önemli fark, demetlerin değiştirilememesidir. Demetlere öğe eklenmez, öğe değiştirilmez veya demetlerden öğe silinemez. Demetler, parantez içine alınmış bir virgül operatörü tarafından oluşturulur. Ör: demet = (\\\"deger1\\\", \\\"deger2\\\", \\\"deger3\\\"). Tek bir öğe demetinde (\\\"d\\\",) gibi bir virgül olmalıdır.\"]},{\"cell_type\":\"markdown\",\"metadata\":{\"id\":\"h95qzA42Tti-\"},\"source\":[\"**Örnek Uygulama**\\n\",\"\\n\",\"```\\n\",\"ulkeKodlari = (\\\"TR\\\", \\\"US\\\", \\\"EN\\\", \\\"JP\\\")\\n\",\"print(ulkeKodlari)   # Çıktı: ('TR', 'US', 'EN', 'JP')\\n\",\"```\\n\",\"\\n\"]},{\"cell_type\":\"code\",\"metadata\":{\"id\":\"XHSZ06qzWxmB\"},\"source\":[\"# Örnek uygulamayı çalıştır\\n\",\"\\n\",\"ulkeKodlari = (\\\"TR\\\", \\\"US\\\", \\\"EN\\\", \\\"JP\\\")\\n\",\"print(ulkeKodlari)\"],\"execution_count\":null,\"outputs\":[]},{\"cell_type\":\"markdown\",\"metadata\":{\"id\":\"ON1kJ2-nU2ZO\"},\"source\":[\"**Görev:** Kongre Kütüphanesi konu başlıkları listesinin kodlarından oluşan bir demet oluşturun ve ekrana yazdırın! Oluşturulan demet içindeki tek bir öğeyi ekrana yazdırın!\"]},{\"cell_type\":\"code\",\"metadata\":{\"id\":\"p4i7BTX1Uv9S\"},\"source\":[\"#konuBasliklari\\n\"],\"execution_count\":null,\"outputs\":[]},{\"cell_type\":\"markdown\",\"metadata\":{\"id\":\"HkDm5do0Vduc\"},\"source\":[\"## Sözlükler\\n\",\"Sözlük, listeye benzer, ancak sözlük içindeki değerlere indeks numarası yerine bir anahtara ile erişilebilir. Bir anahtar herhangi bir metin katarı veya rakam olabilir. Sözlükler ayraç içine alınır. Ör: sozluk = {'anahtar1': \\\"değer1\\\", 'anahtar2': \\\"değer2\\\"}.\"]},{\"cell_type\":\"markdown\",\"metadata\":{\"id\":\"e1BbS2f3V9le\"},\"source\":[\"**Örnek Uygulama**\\n\",\"\\n\",\"```\\n\",\"adresDefteri = {\\\"Hacettepe Üniversitesi\\\": \\\"hacettepe.edu.tr\\\", \\\"ODTÜ\\\": \\\"odtu.edu.tr\\\", \\\"Bilkent Üniversitesi\\\": \\\"bilkent.edu.tr\\\"} # yeni bir sözlük oluşturur\\n\",\"print(adresDefteri) # Çıktı: {'Hacettepe Üniversitesi': 'hacettepe.edu.tr', 'ODTÜ': 'odtu.edu.tr', 'Bilkent Üniversitesi': 'bilkent.edu.tr'}\\n\",\"\\n\",\"adresDefteri[\\\"Ankara Üniversitesi\\\"] = \\\"ankara.edu.tr\\\" #sözlüğe yeni bir öğe ekler\\n\",\"print(adresDefteri)  # Çıktı: {'Hacettepe Üniversitesi': 'hacettepe.edu.tr', 'ODTÜ': 'odtu.edu.tr', 'Bilkent Üniversitesi': 'bilkent.edu.tr', 'Ankara Üniversitesi': 'ankara.edu.tr'}\\n\",\"\\n\",\"del adresDefteri [\\\"Ankara Üniversitesi\\\"] #sözlükten belirtilen öğeyi siler\\n\",\"print(adresDefteri) # Çıktı: {'Hacettepe Üniversitesi': 'hacettepe.edu.tr', 'ODTÜ': 'odtu.edu.tr', 'Bilkent Üniversitesi': 'bilkent.edu.tr'}\\n\",\"```\\n\",\"\\n\"]},{\"cell_type\":\"code\",\"metadata\":{\"id\":\"T1DFoRVIXJtN\"},\"source\":[\"# Örnek uygulamayı çalıştır\\n\",\"\\n\",\"adresDefteri = {\\\"Hacettepe Üniversitesi\\\": \\\"hacettepe.edu.tr\\\", \\\"ODTÜ\\\": \\\"odtu.edu.tr\\\", \\\"Bilkent Üniversitesi\\\": \\\"bilkent.edu.tr\\\"}\\n\",\"print(adresDefteri)\\n\",\"\\n\",\"adresDefteri[\\\"Ankara Üniversitesi\\\"] = \\\"ankara.edu.tr\\\"\\n\",\"print(adresDefteri)\\n\",\"\\n\",\"del adresDefteri [\\\"Ankara Üniversitesi\\\"]\\n\",\"print(adresDefteri)\"],\"execution_count\":null,\"outputs\":[]},{\"cell_type\":\"markdown\",\"metadata\":{\"id\":\"fDWQzlKTXYbo\"},\"source\":[\"**Görev:** İstediğin herhangi bir konuda 5 öğeye sahip bir sözlük oluştur. Sözlüğü ekrana yazdır. Sözlükteki belirli bir öğeyi ekrana yazdır. Sözlükteki belirli bir öğeyi silerek sözlüğün güncel halini ekrana yazdır!\"]},{\"cell_type\":\"code\",\"metadata\":{\"id\":\"t4-oPZTRXEuQ\"},\"source\":[\"#sozluk\\n\"],\"execution_count\":null,\"outputs\":[]},{\"cell_type\":\"markdown\",\"metadata\":{\"id\":\"9qqctZNZX6q4\"},\"source\":[\"## Sözlük Değerleri ve Anahtarları\\n\",\"Sözlüklerde values() ve keys() gibi birçok yararlı fonksiyon vardır. Bir sozlük adı ve ardından noktadan sonra çıkan listeyi kullanarak geri kalan fonksiyolar incelenebilir.\"]},{\"cell_type\":\"markdown\",\"metadata\":{\"id\":\"EaYu0M-1Ydia\"},\"source\":[\"**Örnek Uygulama**\\n\",\"\\n\",\"```\\n\",\"adresDefteri = {\\\"Hacettepe Üniversitesi\\\": \\\"hacettepe.edu.tr\\\", \\\"ODTÜ\\\": \\\"odtu.edu.tr\\\", \\\"Bilkent Üniversitesi\\\": \\\"bilkent.edu.tr\\\"} # yeni bir sözlük oluşturur\\n\",\"print(adresDefteri) # Çıktı: {'Hacettepe Üniversitesi': 'hacettepe.edu.tr', 'ODTÜ': 'odtu.edu.tr', 'Bilkent Üniversitesi': 'bilkent.edu.tr'}\\n\",\"\\n\",\"print(adresDefteri.values()) # Çıktı: dict_values(['hacettepe.edu.tr', 'odtu.edu.tr', 'bilkent.edu.tr'])\\n\",\"\\n\",\"print(adresDefteri.keys()) # Çıktı: dict_keys(['Hacettepe Üniversitesi', 'ODTÜ', 'Bilkent Üniversitesi'])\\n\",\"```\\n\",\"\\n\"]},{\"cell_type\":\"code\",\"metadata\":{\"id\":\"b07Mqre3XqoH\"},\"source\":[\"# Örnek uygulamayı çalıştır\\n\",\"\\n\",\"adresDefteri = {\\\"Hacettepe Üniversitesi\\\": \\\"hacettepe.edu.tr\\\", \\\"ODTÜ\\\": \\\"odtu.edu.tr\\\", \\\"Bilkent Üniversitesi\\\": \\\"bilkent.edu.tr\\\"}\\n\",\"print(adresDefteri)\\n\",\"\\n\",\"print(adresDefteri.values())\\n\",\"\\n\",\"print(adresDefteri.keys())\"],\"execution_count\":null,\"outputs\":[]},{\"cell_type\":\"markdown\",\"metadata\":{\"id\":\"twxTKZ-XY_5l\"},\"source\":[\"**Görev:** İstediğin bir konuda istediğin öğe saysına sahip bir sözlük oluştur. Sözlükler ile ilgili farklı fonksiyoları dene. Sonuçları ekrana yazdır!\"]},{\"cell_type\":\"code\",\"metadata\":{\"id\":\"CcNcGoOaZfja\"},\"source\":[\"#yeniSozluk\\n\"],\"execution_count\":null,\"outputs\":[]},{\"cell_type\":\"markdown\",\"metadata\":{\"id\":\"iFlaNCzFpdIj\"},\"source\":[\"##In Anahtar Kelimesi\\n\",\"\\\"In\\\" anahtar sözcüğü, bir listenin veya sözlüğün belirli bir öğe içerip içermediğini kontrol etmek için kullanılır. Daha önce metin katarlarındaki kullanıma benzer bir kullanımı vardır. \\\"In\\\" anahtar sözcüğü ile öğe kontrolü yapıldıktan sonra sonuç, öğe listede ya da sözlükte yer alıyorsa *True* yer almıyorsa *False* olarak geri döner.\\n\",\"\\n\",\"**Dikkat**: Aranan öğe ile liste ya da sözlük içinde yer alan öğelerin karşılaştırılması sırasında büyük-küçük harf duyarlılığı bulunmaktadır. Ör: \\\"Bilgi\\\" ve \\\"bilgi\\\" iki farklı öğe olarak değerlendirilir.\"]},{\"cell_type\":\"markdown\",\"metadata\":{\"id\":\"rZ-pjki1q6bs\"},\"source\":[\"**Örnek Uygulama**\\n\",\"\\n\",\"```\\n\",\"bilgiKavramları = [\\\"indeks\\\", \\\"erişim\\\", \\\"koleksiyon\\\"]   # yeni bir liste oluşturur\\n\",\"print(\\\"Erişim\\\" in bilgiKavramları)    # Çıktı: False\\n\",\"\\n\",\"bilgiSozlugu = {\\\"indeks\\\": \\\"index\\\", \\\"erişim\\\": \\\"access\\\", \\\"koleksiyon\\\": \\\"collection\\\"}   # yeni bir sozluk oluşturur\\n\",\"print(\\\"koleksiyon\\\" in bilgiSozlugu.keys())  #  çıktı: True\\n\",\"```\\n\",\"\\n\"]},{\"cell_type\":\"code\",\"metadata\":{\"id\":\"rCDZFucUYbGC\"},\"source\":[\"# Örnek uygulamayı çalıştır\\n\",\"\\n\",\"bilgiKavramları = [\\\"indeks\\\", \\\"erişim\\\", \\\"koleksiyon\\\"]\\n\",\"print(\\\"Erişim\\\" in bilgiKavramları)\\n\",\"\\n\",\"bilgiSozlugu = {\\\"indeks\\\": \\\"index\\\", \\\"erişim\\\": \\\"access\\\", \\\"koleksiyon\\\": \\\"collection\\\"}\\n\",\"print(\\\"koleksiyon\\\" in bilgiSozlugu.keys())\"],\"execution_count\":null,\"outputs\":[]},{\"cell_type\":\"markdown\",\"metadata\":{\"id\":\"Pdn_zG-mq9Sx\"},\"source\":[\"**Görev:** Bir liste ve bir sözlük oluşturun. Liste içinde istediğiniz kelimeyi aratın ve sonucunu ekrana yazdırın! Oluşturduğunuz sözlüğün içinde hem anahtar kelime (keys()) hem de değer (values()) kontrolü yaptırın ve sonucunu ekrana yazdırın!\"]},{\"cell_type\":\"code\",\"metadata\":{\"id\":\"3Sl_XODcq1mL\"},\"source\":[\"#yeniListe\\n\",\"#yeniSozluk\"],\"execution_count\":null,\"outputs\":[]},{\"cell_type\":\"markdown\",\"metadata\":{\"id\":\"o68yxOoTx1vA\"},\"source\":[\"#Bölüm 05: Koşullu İfadeler\\n\",\"\\n\",\"Bu bölümde:\\n\",\"\\n\",\"*   Mantıksal operatörler,\\n\",\"*   If cümleciği,\\n\",\"*   Else ve elif kullanımı yer almatadır.\"]},{\"cell_type\":\"markdown\",\"metadata\":{\"id\":\"0R6l7TiLyI1H\"},\"source\":[\"##Mantıksal Operatörler\\n\",\"Mantıksal operatörler ifadeleri karşılaştırır ve sonuçları *True* ya da *False* değerleriyle döndürür. Python'da üç tane mantıksal operatör bulunur:\\n\",\"\\n\",\"1. \\\"and\\\" operatörü: Her iki yanındaki ifadeler doğru olduğunda *True* değerini döndürür.\\n\",\"2. \\\"or\\\" operatörü: Her iki tarafındaki ifadelerden en az bir ifade doğru olduğunda \\\"True\\\" değerini döndürür.\\n\",\"3. \\\"not\\\" operatörü: İfadenin tam tersi olarak değerlendirilmesini sağlar.\\n\"]},{\"cell_type\":\"markdown\",\"metadata\":{\"id\":\"6HZvGmjG1rxk\"},\"source\":[\"**Örnek Uygulama**\\n\",\"\\n\",\"```\\n\",\"kullaniciAdi = \\\"orcunmadran\\\"\\n\",\"sifre = 123456\\n\",\"print(kullaniciAdi == \\\"orcunmadran\\\" and sifre == 123456) # Çıktı: True\\n\",\"\\n\",\"kullaniciAdi = \\\"orcunmadran\\\"\\n\",\"sifre = 123456\\n\",\"print(kullaniciAdi == \\\"orcunmadran\\\" and not sifre == 123456) # Çıktı: False\\n\",\"\\n\",\"cepTel = \\\"05321234567\\\"\\n\",\"ePosta = \\\"orcunmadran@gmail.com\\\"\\n\",\"print(cepTel == \\\"\\\" or ePosta == \\\"orcunmadran@gmail.com\\\" ) # Çıktı: True\\n\",\"```\\n\",\"\\n\"]},{\"cell_type\":\"code\",\"metadata\":{\"id\":\"2e6sRcxoayBf\"},\"source\":[\"# Örnek uygulamayı çalıştır\\n\",\"\\n\",\"kullaniciAdi = \\\"orcunmadran\\\"\\n\",\"sifre = 123456\\n\",\"print(kullaniciAdi == \\\"orcunmadran\\\" and sifre == 123456)\\n\",\"\\n\",\"kullaniciAdi = \\\"orcunmadran\\\"\\n\",\"sifre = 123456\\n\",\"print(kullaniciAdi == \\\"orcunmadran\\\" and not sifre == 123456)\\n\",\"\\n\",\"cepTel = \\\"05321234567\\\"\\n\",\"ePosta = \\\"orcunmadran@gmail.com\\\"\\n\",\"print(cepTel == \\\"\\\" or ePosta == \\\"orcunmadran@gmail.com\\\" )\"],\"execution_count\":null,\"outputs\":[]},{\"cell_type\":\"markdown\",\"metadata\":{\"id\":\"nwkgY8TZ5NcI\"},\"source\":[\"**Görev:** Klavyeden girilen kullanıcı adı ve şifrenin kayıtlı bulunan kullanıcı adı ve şifre ile uyuşup uyuşmadığını kontrol edin ve sonucu ekrana yazdırın!\"]},{\"cell_type\":\"code\",\"metadata\":{\"id\":\"XMHB4_dY3B1v\"},\"source\":[\"#Sistemde yer alan bilgiler:\\n\",\"sisKulAdi = \\\"yonetici\\\"\\n\",\"sisKulSifre = \\\"bby162\\\"\\n\",\"\\n\",\"#Klavyeden girilen bilgiler:\\n\",\"girKulAdi = input(\\\"Kullanıcı Adı: \\\")\\n\",\"girKulSifre = input(\\\"Şifre: \\\")\\n\",\"\\n\",\"#Kontrol\\n\",\"\\n\",\"\\n\",\"#Sonuç\\n\",\"print(sonuc)\"],\"execution_count\":null,\"outputs\":[]},{\"cell_type\":\"markdown\",\"metadata\":{\"id\":\"rd-bsVch9Dxb\"},\"source\":[\"## If Cümleciği\\n\",\"\\\"If\\\" anahtar sözcüğü, verilen ifadenin doğru olup olmadığını kontrol ettikten sonra belirtilen kodu çalıştıran bir koşullu ifade oluşturmak için kullanılır. Python'da kod bloklarının tanımlanması için girinti kullanır.\"]},{\"cell_type\":\"markdown\",\"metadata\":{\"id\":\"VujnXgWV-B_u\"},\"source\":[\"**Örnek Uygulama**\\n\",\"\\n\",\"```\\n\",\"acikKavramlar = [\\\"bilim\\\", \\\"erişim\\\", \\\"veri\\\", \\\"eğitim\\\"]\\n\",\"kavram = input(\\\"Bir açık kavramı yazın: \\\")\\n\",\"if kavram in acikKavramlar:\\n\",\"  print(kavram + \\\" açık kavramlar listesinde yer alıyor!\\\")\\n\",\"```\\n\",\"\\n\"]},{\"cell_type\":\"code\",\"metadata\":{\"id\":\"EERabauFbSBB\"},\"source\":[\"# Örnek uygulamayı çalıştır\\n\",\"\\n\",\"acikKavramlar = [\\\"bilim\\\", \\\"erişim\\\", \\\"veri\\\", \\\"eğitim\\\"]\\n\",\"kavram = input(\\\"Bir açık kavramı yazın: \\\")\\n\",\"if kavram in acikKavramlar:\\n\",\"  print(kavram + \\\" açık kavramlar listesinde yer alıyor!\\\")\"],\"execution_count\":null,\"outputs\":[]},{\"cell_type\":\"markdown\",\"metadata\":{\"id\":\"mwAnF_eiHj-g\"},\"source\":[\"**Görev:** \\\"acikSozluk\\\" içinde yer alan anahtarları (keys) kullanarak eğer klavyeden girilen anahtar kelime sözlükte varsa açıklamasını ekrana yazdırın!\"]},{\"cell_type\":\"code\",\"metadata\":{\"id\":\"-Knt3IBI_BRm\"},\"source\":[\"acikSozluk = {\\n\",\"    \\\"Açık Bilim\\\" : \\\"Bilimsel bilgi kamu malıdır. Bilimsel yayınlara ve verilere açık erişim bir haktır.\\\" ,\\n\",\"    \\\"Açık Erişim\\\" : \\\"Kamu kaynakları ile yapılan araştırmalar sonucunda üretilen yayınlara ücretsiz erişim\\\" ,\\n\",\"    \\\"Açık Veri\\\" : \\\"Kamu kaynakları ile yapılan araştırma sonucunda üretilen verilere ücretsiz ve yeniden kullanılabilir biçimde erişim\\\" \\n\",\"    }\\n\",\"anahtar = input(\\\"Anahtar Kelime: \\\")\\n\",\"\\n\",\"#If\"],\"execution_count\":null,\"outputs\":[]},{\"cell_type\":\"markdown\",\"metadata\":{\"id\":\"gBj0pSOoLvWu\"},\"source\":[\"## Else ve Elif Kullanımı\\n\",\"\\\"If\\\" cümleciği içinde ikinci bir ifadenin doğruluğunun kontrolü için \\\"Elif\\\" ifadesi kullanılır. Doğruluğu sorgulanan ifadelerden hiçbiri *True* döndürmediği zaman çalışacak olan kod bloğu \\\"Else\\\" altında yer alan kod bloğudur. \"]},{\"cell_type\":\"markdown\",\"metadata\":{\"id\":\"k-jKSvQcMeu6\"},\"source\":[\"**Örnek Uygulama**\\n\",\"\\n\",\"```\\n\",\"gunler = [\\\"Pazartesi\\\", \\\"Çarşamba\\\", \\\"Cuma\\\"]\\n\",\"girilen = input(\\\"Gün giriniz: \\\")\\n\",\"if girilen == gunler[0]:\\n\",\"  print(\\\"Programlama Dilleri\\\")\\n\",\"elif girilen == gunler[1]:\\n\",\"  print(\\\"Kataloglama\\\")\\n\",\"elif girilen == gunler[2]:\\n\",\"  print(\\\"Bilimsel İletişim\\\")\\n\",\"else :\\n\",\"  print(\\\"Kayıtlı bir gün bilgisi girmediniz!\\\")\\n\",\"```\\n\",\"\\n\"]},{\"cell_type\":\"code\",\"metadata\":{\"id\":\"hVT2r9_tbnis\"},\"source\":[\"# Örnek uygulamayı çalıştır\\n\",\"\\n\",\"gunler = [\\\"Pazartesi\\\", \\\"Çarşamba\\\", \\\"Cuma\\\"]\\n\",\"girilen = input(\\\"Gün giriniz: \\\")\\n\",\"if girilen == gunler[0]:\\n\",\"  print(\\\"Programlama Dilleri\\\")\\n\",\"elif girilen == gunler[1]:\\n\",\"  print(\\\"Kataloglama\\\")\\n\",\"elif girilen == gunler[2]:\\n\",\"  print(\\\"Bilimsel İletişim\\\")\\n\",\"else :\\n\",\"  print(\\\"Kayıtlı bir gün bilgisi girmediniz!\\\")\"],\"execution_count\":null,\"outputs\":[]},{\"cell_type\":\"markdown\",\"metadata\":{\"id\":\"5JzZRGxWr3Sm\"},\"source\":[\"**Görev:** Klavyeden girilen yaş bilgisini kullanarak ekrana aşağıdaki mesajları yazdır:\\n\",\"\\n\",\"*   21 yaş altı ve 64 yaş üstü kişilere: \\\"Sokağa çıkma yasağı bulunmaktadır!\\\"\\n\",\"*   Diğer tüm kişilere: \\\"Sokağa çıkma yasağı yoktur!\\\"\\n\",\"*   Klavyeden yaş harici bir bilgi girişi yapıldığında: \\\"Yaşınızı rakam olarak giriniz!\\\"\"]},{\"cell_type\":\"code\",\"metadata\":{\"id\":\"vEFr1ub_thtK\"},\"source\":[\"yas = int(input(\\\"Yaşınızı giriniz: \\\"))\\n\",\"\\n\"],\"execution_count\":null,\"outputs\":[]},{\"cell_type\":\"markdown\",\"metadata\":{\"id\":\"mLq4XzRPHdHl\"},\"source\":[\"# Bölüm 06: Döngüler\\n\",\"\\n\",\"Bu bölümde:\\n\",\"\\n\",\"*   for döngüsü,\\n\",\"*   Metin katarlarında for döngüsü kullanımı,\\n\",\"*   while döngüsü,\\n\",\"*   break anahtar kelimesi,\\n\",\"*   continue anahtar kelimesi yer almaktadır.\\n\",\"\\n\"]},{\"cell_type\":\"markdown\",\"metadata\":{\"id\":\"yuku4yibHvy5\"},\"source\":[\"## for Döngüsü\\n\",\"for döngüleri belirli komut satırını ya da satırlarını yinelemek (tekrar etmek) için kullanılır. Her yinelemede, for döngüsünde tanımlanan değişken listedeki bir sonraki değere otomatik olarak atanacaktır.\"]},{\"cell_type\":\"markdown\",\"metadata\":{\"id\":\"JjwFU3rcIfzO\"},\"source\":[\"**Örnek Uygulama**\\n\",\"\\n\",\"```\\n\",\"for i in range(5):  # i değerine 0-4 arası indeks değerleri otomatik olarak atanır\\n\",\"    print(i)  # Çıktı: Bu komut satırı toplam 5 kere tekrarlanır ve her satırda yeni i değeri yazdırılır\\n\",\"\\n\",\"\\n\",\"konular = [\\\"Açık Bilim\\\", \\\"Açık Erişim\\\", \\\"Açık Veri\\\"]   # yeni bir liste oluşturur\\n\",\"\\n\",\"for konu in konular:\\n\",\"    print(konu) #Çıktı: Her bir liste öğesi alt alta satırlara yazdırılır\\n\",\"\\n\",\"```\\n\",\"\\n\"]},{\"cell_type\":\"code\",\"metadata\":{\"id\":\"ZIm4g511cyvz\"},\"source\":[\"# Örnek uygulmayı çalıştır\\n\",\"\\n\",\"for i in range(5):\\n\",\"    print(i)\"],\"execution_count\":null,\"outputs\":[]},{\"cell_type\":\"code\",\"metadata\":{\"id\":\"Uikl2CnDc8rE\"},\"source\":[\"# Örnek uygulmayı çalıştır\\n\",\"\\n\",\"konular = [\\\"Açık Bilim\\\", \\\"Açık Erişim\\\", \\\"Açık Veri\\\"]\\n\",\"\\n\",\"for konu in konular:\\n\",\"    print(konu)\"],\"execution_count\":null,\"outputs\":[]},{\"cell_type\":\"markdown\",\"metadata\":{\"id\":\"cbpRcW1aKFYu\"},\"source\":[\"**Görev:** Bir liste oluşturun. Liste öğelerini \\\"for\\\" döngüsü kullanarak ekrana yazdırın!\"]},{\"cell_type\":\"code\",\"metadata\":{\"id\":\"ry1L7GJ_J_wZ\"},\"source\":[\"#liste\\n\"],\"execution_count\":null,\"outputs\":[]},{\"cell_type\":\"markdown\",\"metadata\":{\"id\":\"rHicjY1WKk5o\"},\"source\":[\"## Metin Katarlarında for Döngüsü Kullanımı\\n\",\"Metin Katarları üzerinde gerçekleştirilebilecek işlemler Python'daki listelerle büyük benzerlik taşırlar. Metin Katarını oluşturan öğeler (harfler) liste elemanları gibi \\\"for\\\" döngüsü yardımıyla ekrana yazdırılabilir. \"]},{\"cell_type\":\"markdown\",\"metadata\":{\"id\":\"UlkXx7vOLdhn\"},\"source\":[\"**Örnek Uygulama**\\n\",\"\\n\",\"```\\n\",\"cumle = \\\"Bisiklet hem zihni hem bedeni dinç tutar!\\\"\\n\",\"\\n\",\"for harf in cumle:    # Cümledeki her bir harfi ekrana satır satır yazdırır\\n\",\"    print(harf)\\n\",\"```\\n\",\"\\n\"]},{\"cell_type\":\"code\",\"metadata\":{\"id\":\"VLDA2SWAdUHz\"},\"source\":[\"# Örnek uygulamayı çalıştır\\n\",\"\\n\",\"cumle = \\\"Bisiklet hem zihni, hem bedeni dinç tutar!\\\"\\n\",\" \\n\",\"for harf in cumle:\\n\",\"    print(harf)\"],\"execution_count\":null,\"outputs\":[]},{\"cell_type\":\"markdown\",\"metadata\":{\"id\":\"y_7DFSavMJO4\"},\"source\":[\"**Görev:** İçinde metin katarı bulunan bir değişken oluşturun. Bu değişkende yer alan her bir harfi bir satıra gelecek şekilde \\\"for\\\" döngüsü ile ekrana yazdırın!\"]},{\"cell_type\":\"code\",\"metadata\":{\"id\":\"83a-E21mMEUr\"},\"source\":[\"#degisken\\n\"],\"execution_count\":null,\"outputs\":[]},{\"cell_type\":\"markdown\",\"metadata\":{\"id\":\"mSp_IsCyM7Ed\"},\"source\":[\"## while Döngüsü\\n\",\"\\\"While\\\" döngüsü \\\"if\\\" cümleciğinin ifade şekline benzer. Koşul doğruysa döngüye bağlı kod satırı ya da satırları yürütülür (çalıştırılır). Temel fark, koşul doğru (True) olduğu olduğu sürece bağlı kod satırı ya da satırları çalışmaya devam eder.\"]},{\"cell_type\":\"markdown\",\"metadata\":{\"id\":\"O0pVXw8jOGjc\"},\"source\":[\"**Örnek Uygulama**\\n\",\"\\n\",\"```\\n\",\"deger = 1\\n\",\"\\n\",\"while deger <= 10:\\n\",\"    print(deger)    # Bu satır 10 kez tekrarlanacak\\n\",\"    deger += 1      # Bu satır da 10 kez tekrarlanacak\\n\",\"\\n\",\"print(\\\"Program bitti\\\")  # Bu satır sadece bir kez çalıştırılacak\\n\",\"```\\n\",\"\\n\"]},{\"cell_type\":\"code\",\"metadata\":{\"id\":\"GTRNt3f4dxaZ\"},\"source\":[\"# Örnek uygulamayı çalıştır\\n\",\"\\n\",\"deger = 1\\n\",\"\\n\",\"while deger <= 10:\\n\",\"    print(deger)\\n\",\"    deger += 1\\n\",\"    \\n\",\"print(\\\"Program bitti\\\")\"],\"execution_count\":null,\"outputs\":[]},{\"cell_type\":\"markdown\",\"metadata\":{\"id\":\"CBGdLeJbSEev\"},\"source\":[\"## break Anahtar Kelimesi\\n\",\"Asla bitmeyen döngüye sonsuz döngü adı verilir. Döngü koşulu daima doğru (True) olursa, böyle bir döngü sonsuz olur. \\\"Break\\\" anahtar kelimesi geçerli döngüden çıkmak için kullanılır.\"]},{\"cell_type\":\"markdown\",\"metadata\":{\"id\":\"ihLhjXWcSnv8\"},\"source\":[\"**Örnek Uygulama**\\n\",\"\\n\",\"```\\n\",\"sayi = 0\\n\",\"\\n\",\"while True:  # bu döngü sonsuz bir döngüdür\\n\",\"    print(sayi)\\n\",\"    sayi += 1\\n\",\"    if sayi >= 5:\\n\",\"        break   # sayı değeri 5 olduğunda döngü otomatik olarak sonlanır\\n\",\"```\\n\",\"\\n\"]},{\"cell_type\":\"code\",\"metadata\":{\"id\":\"xXDmHHe2TVLJ\"},\"source\":[\"# Örnek Uygulamayı çalıştır\\n\",\"\\n\",\"sayi = 0\\n\",\"\\n\",\"while True:\\n\",\"    print(sayi)\\n\",\"    sayi += 1\\n\",\"    if sayi >= 5:\\n\",\"        break\"],\"execution_count\":null,\"outputs\":[]},{\"cell_type\":\"markdown\",\"metadata\":{\"id\":\"ySFedvaOTqjR\"},\"source\":[\"## continue Anahtar Kelimesi\\n\",\"\\\"continue\\\" anahtar kelimesi, o anda yürütülen döngü için döngü içindeki kodun geri kalanını atlamak ve \\\"for\\\" veya \\\"while\\\" deyimine geri dönmek için kullanılır.\"]},{\"cell_type\":\"markdown\",\"metadata\":{\"id\":\"Ge8XX1mbT0Me\"},\"source\":[\"\\n\",\"\\n\",\"```\\n\",\"for i in range(5):\\n\",\"    if i == 3:\\n\",\"        continue   # i değeri 3 olduğu anda altta yer alan \\\"print\\\" komutu atlanıyor.\\n\",\"    print(i)\\n\",\"```\\n\",\"\\n\"]},{\"cell_type\":\"code\",\"metadata\":{\"id\":\"8kRu3DpFT4pe\"},\"source\":[\"# Örnek Uygulamayı çalıştır\\n\",\"\\n\",\"for i in range(5):\\n\",\"    if i == 3:\\n\",\"        continue\\n\",\"    print(i)\"],\"execution_count\":null,\"outputs\":[]},{\"cell_type\":\"markdown\",\"metadata\":{\"id\":\"bvvGF4PTO3MX\"},\"source\":[\"**Görev: Tahmin Oyunu**\\n\",\"\\n\",\"\\\"while\\\" döngüsü kullanarak bir tahmin oyunu tasarla. Bu tahmin oyununda, önceden belirlenmiş olan kelime ile klavyeden girilen kelime karşılaştırılmalı, tahmin doğru ise oyun \\\"Bildiniz..!\\\" mesajı ile sonlanmalı, yanlış ise tahmin hakkı bir daha verilmeli.\"]},{\"cell_type\":\"code\",\"metadata\":{\"id\":\"aPxS3byjrjEN\"},\"source\":[\"#Tahmin Oyunu\\n\",\"kelime = \\\"bilgi\\\"\\n\",\"tahmin = \\\"\\\"\"],\"execution_count\":null,\"outputs\":[]},{\"cell_type\":\"markdown\",\"metadata\":{\"id\":\"yWfAoCUc-D9d\"},\"source\":[\"# Bölüm 07: Fonksiyonlar\"]},{\"cell_type\":\"markdown\",\"metadata\":{\"id\":\"YJrL9elb-LvL\"},\"source\":[\"## Fonksiyon Tanımlama (Definition)\\n\",\"Fonksiyonlar, yazılan kodu faydalı bloklara bölmenin, daha okunabilir hale getirmenin ve tekrar kullanmaya yardımcı olmanın kullanışlı bir yoludur. Fonksiyonlar \\\"def\\\" anahtar sözcüğü ve ardından fonksiyonun adı kullanılarak tanımlanır.\"]},{\"cell_type\":\"markdown\",\"metadata\":{\"id\":\"AY162tKL-6Nd\"},\"source\":[\"**Örnek Uygulama**\\n\",\"\\n\",\"```\\n\",\"def merhaba_dunya():  # fonksiyon tanımlama, isimlendirme\\n\",\"    print(\\\"Merhaba Dünya!\\\") #fonksiyona dahil kod satırları\\n\",\"\\n\",\"for i in range(5):\\n\",\"    merhaba_dunya()   # fonksiyon 5 kere çağırılacak\\n\",\"```\\n\",\"\\n\"]},{\"cell_type\":\"code\",\"metadata\":{\"id\":\"iwMnSTNMevh8\"},\"source\":[\"# Örnek uygulamayı çalıştır\\n\",\"\\n\",\"def merhaba_dunya():  # fonksiyon tanımlama, isimlendirme\\n\",\"    print(\\\"Merhaba Dünya!\\\") #fonksiyona dahil kod satırları\\n\",\"\\n\",\"for i in range(5):\\n\",\"    merhaba_dunya()   # fonksiyon 5 kere çağırılacak\"],\"execution_count\":null,\"outputs\":[]},{\"cell_type\":\"markdown\",\"metadata\":{\"id\":\"UnHQO9MR_pII\"},\"source\":[\"##Fonksiyolarda Parametre Kullanımı\\n\",\"Fonksiyon parametreleri, fonksiyon adından sonra parantez () içinde tanımlanır. Parametre, iletilen bağımsız değişken için değişken adı görevi görür.\"]},{\"cell_type\":\"markdown\",\"metadata\":{\"id\":\"IDgYf17j_4fu\"},\"source\":[\"**Örnek Uygulama**\\n\",\"\\n\",\"```\\n\",\"def foo(x):    # x bir fonksiyon parametresidir\\n\",\"    print(\\\"x = \\\" + str(x))\\n\",\"\\n\",\"foo(5)   # 5 değeri fonksiyona iletilir ve değer olarak kullanılır.\\n\",\"```\\n\",\"\\n\"]},{\"cell_type\":\"code\",\"metadata\":{\"id\":\"i2IW-s8wfB3e\"},\"source\":[\"# Örnek uygulamayı çalıştır\\n\",\"\\n\",\"def foo(x):\\n\",\"    print(\\\"x = \\\" + str(x))\\n\",\"\\n\",\"foo(5)\"],\"execution_count\":null,\"outputs\":[]},{\"cell_type\":\"markdown\",\"metadata\":{\"id\":\"53DY9zKcgPHD\"},\"source\":[\"**Görev:** *karsila* fonksiyonunun tetiklenmesi için gerekli kod ve parametleri ekle!\"]},{\"cell_type\":\"code\",\"metadata\":{\"id\":\"BKerIDjcpfyE\"},\"source\":[\"def karsila(kAd, kSoyad):\\n\",\"  print(\\\"Hoşgeldin, %s %s\\\" % (kAd, kSoyad))\\n\",\"\\n\"],\"execution_count\":null,\"outputs\":[]},{\"cell_type\":\"markdown\",\"metadata\":{\"id\":\"LKBMne6BAhid\"},\"source\":[\"##Return Değeri\\n\",\"Fonksiyonlar, \\\"return\\\" anahtar sözcüğünü kullanarak fonksiyon sonucunda bir değer döndürebilir. Döndürülen değer bir değişkene atanabilir veya sadece örneğin değeri yazdırmak için kullanılabilir.\"]},{\"cell_type\":\"markdown\",\"metadata\":{\"id\":\"fJuWpMooBV0x\"},\"source\":[\"**Örnek Uygulama**\\n\",\"\\n\",\"```\\n\",\"def iki_sayi_topla(a, b):\\n\",\"    return a + b    # hesaplama işleminin sonucu değer olarak döndürülüyor\\n\",\"\\n\",\"print(iki_sayi_topla(3, 12))  # ekrana işlem sonucu yazdırılacak\\n\",\"```\\n\",\"\\n\"]},{\"cell_type\":\"code\",\"metadata\":{\"id\":\"xRukn_KfrsA3\"},\"source\":[\"# Örnek uygulamayı çalıştır\\n\",\"\\n\",\"def iki_sayi_topla(a, b):\\n\",\"    return a + b\\n\",\"\\n\",\"print(iki_sayi_topla(3, 12))\"],\"execution_count\":null,\"outputs\":[]},{\"cell_type\":\"markdown\",\"metadata\":{\"id\":\"FXXW68lICB7S\"},\"source\":[\"##Varsayılan Parametreler\\n\",\"Bazen bir veya daha fazla fonksiyon parametresi için varsayılan bir değer belirtmek yararlı olabilir. Bu, ihtiyaç duyulan parametrelerden daha az argümanla çağrılabilen bir fonksiyon oluşturur.\"]},{\"cell_type\":\"markdown\",\"metadata\":{\"id\":\"fCHKSZpcCglT\"},\"source\":[\"**Örnek Uygulama**\\n\",\"\\n\",\"```\\n\",\"def iki_sayi_carp(a, b=2):\\n\",\"    return a * b\\n\",\"\\n\",\"print(iki_sayi_carp(3, 47)) # verilen iki degeri de kullanır \\n\",\"print(iki_sayi_carp(3))    # verilmeyen 2. değer yerine varsayılanı kullanır\\n\",\"```\\n\",\"\\n\"]},{\"cell_type\":\"code\",\"metadata\":{\"id\":\"Gy_5nrP6hHOR\"},\"source\":[\"# Örnek uygulamayı çalıştır\\n\",\"\\n\",\"def iki_sayi_carp(a, b=2):\\n\",\"    return a * b\\n\",\"\\n\",\"print(iki_sayi_carp(3, 47))\\n\",\"print(iki_sayi_carp(3))\"],\"execution_count\":null,\"outputs\":[]},{\"cell_type\":\"markdown\",\"metadata\":{\"id\":\"8iTlloLEh59b\"},\"source\":[\"**Örnek Uygulama: Sayısal Loto**\\n\",\"\\n\",\"Aşağıda temel yapısı aynı olan iki *sayısal loto* uygulaması bulunmaktadır: Fonksiyonsuz ve fonksiyonlu.\\n\",\"\\n\",\"İlk sayısal loto uygulamasında herhangi bir fonksiyon kullanımı yoktur. Her satırda 1-49 arası 6 adet sayının yer aldığı 6 satır oluşturur.\\n\",\"\\n\",\"İkinci sayısal loto uygulamsında ise *tahminEt* isimli bir fonksiyon yer almaktadır. Bu fonksiyon varsayılan parametrelere sahiptir ve bu parametreler fonksiyon çağırılırken değiştirilebilir. Böylece ilk uygulamadan çok daha geniş seçenekler sunabilir bir hale gelmiştir.\\n\",\"\\n\"]},{\"cell_type\":\"code\",\"metadata\":{\"id\":\"W4Z_Rgl_hq1t\"},\"source\":[\"#Sayısal Loto örnek uygulama (fonksiyonsuz)\\n\",\"\\n\",\"from random import randint\\n\",\"i = 0\\n\",\"secilenler = [0,0,0,0,0,0]\\n\",\"for rastgele in secilenler:\\n\",\"    while i < len(secilenler):\\n\",\"        secilen = randint(1, 49)\\n\",\"        if secilen not in secilenler:\\n\",\"            secilenler[i] = secilen\\n\",\"            i+=1\\n\",\"    print(sorted(secilenler))\\n\",\"    i=0\"],\"execution_count\":null,\"outputs\":[]},{\"cell_type\":\"code\",\"metadata\":{\"id\":\"PRtF6Bd_b2Xg\"},\"source\":[\"#Sayısal Loto örnek uygulama (fonksiyonlu)\\n\",\"\\n\",\"from random import randint\\n\",\"def tahminEt(rakam=6, satir=6, baslangic=1, bitis=49):\\n\",\"  i = 0\\n\",\"  secilenler = []\\n\",\"  for liste in range(rakam):\\n\",\"    secilenler.append(0)\\n\",\"  for olustur in range(satir):\\n\",\"      while i < len(secilenler):\\n\",\"          secilen = randint(baslangic, bitis)\\n\",\"          if secilen not in secilenler:\\n\",\"              secilenler[i] = secilen\\n\",\"              i+=1\\n\",\"      print(sorted(secilenler))\\n\",\"      i=0\\n\",\"tahminEt(10,6,1,60)\"],\"execution_count\":null,\"outputs\":[]},{\"cell_type\":\"markdown\",\"metadata\":{\"id\":\"lpT_y9p9DB_U\"},\"source\":[\"**Görev:** Bu görev genel olarak fonksiyon bölümünü kapsamaktadır.\\n\",\"\\n\",\"Daha önce yapmış olduğunuz \\\"Adam Asmaca\\\" projesini (ya da aşağıda yer alan örneği) fonksiyonlar kullanarak oyun bittiğinde tekrar başlatmaya gerek duyulmadan yeniden oynanabilmesine imkan sağlayacak şekilde yeniden kurgulayın.\\n\",\"\\n\",\"Oyunun farklı sekansları için farklı fonksiyonlar tanımlayarak oyunu daha optimize hale getirmeye çalışın.\\n\",\"\\n\",\"Aşağıda bir adam asmaca oyununun temel özellikerine sahip bir örnek yer almaktadır.\\n\",\"\\n\"]},{\"cell_type\":\"code\",\"metadata\":{\"id\":\"iGDblCXpkeGZ\"},\"source\":[\"#Fonksiyonsuz Adam Asmaca\\n\",\"\\n\",\"from random import choice\\n\",\"\\n\",\"adamCan = 3\\n\",\"\\n\",\"kelimeler = [\\\"bisiklet\\\", \\\"triatlon\\\", \\\"yüzme\\\", \\\"koşu\\\"]\\n\",\"secilenKelime = choice(kelimeler)\\n\",\"print(secilenKelime)\\n\",\"dizilenKelime = []\\n\",\"for diz in secilenKelime:\\n\",\"    dizilenKelime.append(\\\"_\\\")\\n\",\"print(dizilenKelime)\\n\",\"\\n\",\"while adamCan > 0:\\n\",\"    girilenHarf = input(\\\"Bir harf giriniz: \\\")\\n\",\"    canKontrol = girilenHarf in secilenKelime\\n\",\"    if canKontrol == False:\\n\",\"        adamCan-=1\\n\",\"    i = 0\\n\",\"    for kontrol in secilenKelime:\\n\",\"        if secilenKelime[i] == girilenHarf:\\n\",\"            dizilenKelime[i] = girilenHarf\\n\",\"        i+=1\\n\",\"    print(dizilenKelime)\\n\",\"    print(\\\"Kalan can: \\\"+ str(adamCan))\"],\"execution_count\":null,\"outputs\":[]},{\"cell_type\":\"code\",\"metadata\":{\"id\":\"JfxS1H8rEKuR\"},\"source\":[\"#Fonksiyonlu Adam Asmaca\\n\"],\"execution_count\":null,\"outputs\":[]},{\"cell_type\":\"markdown\",\"metadata\":{\"id\":\"Uocer9uZoa_6\"},\"source\":[\"# Bölüm 08: Sınıflar ve Nesneler\\n\",\"\\n\",\"Bu bölümde:\\n\",\"\\n\",\"*   Sınıf ve nesne tanımlama,\\n\",\"*   Değişkenlere erişim,\\n\",\"*   self parametresi,\\n\",\"*   init metodu yer almaktadır.\"]},{\"cell_type\":\"markdown\",\"metadata\":{\"id\":\"nSklAub4oh9p\"},\"source\":[\"## Sınıf ve Nesne Tanımlama\\n\",\"Bir nesne değişkenleri ve fonksiyonları tek bir varlıkta birleştirir. Nesneler değişkenlerini ve fonksiyonlarını sınıflardan alır. Sınıflar bir anlamda nesnelerinizi oluşturmak için kullanılan şablonlardır. Bir nesneyi, fonksiyonların yanı sıra veri içeren tek bir veri yapısı olarak düşünebilirsiniz. Nesnelerin fonksiyonlarına yöntem (metod) denir.\\n\",\"\\n\",\"**İpucu:** Sınıf isimlerinin baş harfi büyük yazılarak Python içindeki diğer öğelerden (değişken, fonksiyon vb.) daha rahat ayırt edilmeleri sağlanır.\"]},{\"cell_type\":\"markdown\",\"metadata\":{\"id\":\"ShzCIh8VpgM0\"},\"source\":[\"**Örnek Uygulama**\\n\",\"\\n\",\"\\n\",\"```\\n\",\"class BenimSinifim: # yeni bir sınıfın tanımlanması\\n\",\"    \\n\",\"    bsDegisken = 4  # sınıf içinde yer alan bir değişken\\n\",\"\\n\",\"    def bsFonksiyon(self): #sınıf içinde yer alan bir fonksiyon\\n\",\"        print(\\\"Benim sınıfımın fonksiyonundan Merhaba!\\\")\\n\",\"\\n\",\"benimNesnem = BenimSinifim()\\n\",\"```\\n\",\"\\n\"]},{\"cell_type\":\"markdown\",\"metadata\":{\"id\":\"5NwBvq6S0r4v\"},\"source\":[\"##Değişkenlere ve Fonksiyonlara Erişim\\n\",\"Sınıftan örneklenen bir nesnenin içindeki bir değişkene ya da fonksiyona erişmek için öncelikle nesnenin adı daha sonra ise değişkenin ya da fonkiyonun adı çağırılmalıdır (Ör: nesneAdi.degiskenAdi). Bir sınıfın farklı örnekleri (nesneleri) içinde tanımlanan değişkenlerin değerleri değiştirebilir.\"]},{\"cell_type\":\"markdown\",\"metadata\":{\"id\":\"NAcj1XjQn89D\"},\"source\":[\"**Örnek Uygulama 1**\\n\",\"\\n\",\"\\n\",\"```\\n\",\"class BenimSinifim:   # yeni bir sınıf oluşturur\\n\",\"    bsDegisken = 3    # sınıfın içinde bir değişken tanımlar\\n\",\"    def bsFonksiyon(self):  #sınıfın içinde bir fonksiyon tanımlar\\n\",\"        print(\\\"Benim sınıfımın fonksiyonundan Merhaba!\\\")\\n\",\"\\n\",\"benimNesnem = BenimSinifim()  #sınıftan yeni bir nesne oluşturur\\n\",\"\\n\",\"for i in range(benimNesnem.bsDegisken):  #  oluşturulan nesne üzerinden değişkene ve fonksiyona ulaşılır\\n\",\"  benimNesnem.bsFonksiyon()\\n\",\"\\n\",\"benimNesnem.bsDegisken = 5  #  sınıfın içinde tanımlanan değişkene yeni değer atanması\\n\",\"\\n\",\"for i in range(benimNesnem.bsDegisken):\\n\",\"  benimNesnem.bsFonksiyon()\\n\",\"```\\n\",\"\\n\"]},{\"cell_type\":\"code\",\"metadata\":{\"id\":\"LpNM7SptoLK-\"},\"source\":[\"# Örnek uygulama 1'i gözlemleyelim\\n\",\"\\n\",\"class BenimSinifim:   \\n\",\"    bsDegisken = 3\\n\",\"    def bsFonksiyon(self):\\n\",\"        print(\\\"Benim sınıfımın fonksiyonundan Merhaba!\\\")\\n\",\"\\n\",\"benimNesnem = BenimSinifim()\\n\",\"\\n\",\"for i in range(benimNesnem.bsDegisken):\\n\",\"  benimNesnem.bsFonksiyon()\\n\",\"\\n\",\"benimNesnem.bsDegisken = 5\\n\",\"\\n\",\"for i in range(benimNesnem.bsDegisken):\\n\",\"  benimNesnem.bsFonksiyon()\"],\"execution_count\":null,\"outputs\":[]},{\"cell_type\":\"markdown\",\"metadata\":{\"id\":\"E0v9sloQ22oP\"},\"source\":[\"**Örnek Uygulama 2**\\n\",\"\\n\",\"\\n\",\"```\\n\",\"class Bisiklet:\\n\",\"    renk = \\\"Kırmızı\\\"\\n\",\"    vites = 1\\n\",\"    def ozellikler(self):\\n\",\"        ozellikDetay = \\\"Bu bisiklet %s renkli ve %d viteslidir.\\\" % (self.renk, self.vites)\\n\",\"        return ozellikDetay\\n\",\"\\n\",\"bisiklet1 = Bisiklet()\\n\",\"bisiklet2 = Bisiklet()\\n\",\"\\n\",\"print(\\\"Bisiklet 1: \\\" + bisiklet1.ozellikler())\\n\",\"\\n\",\"bisiklet2.renk = \\\"Sarı\\\"\\n\",\"bisiklet2.vites = 22\\n\",\"\\n\",\"print(\\\"Bisiklet 2: \\\" + bisiklet2.ozellikler())\\n\",\"```\\n\",\"\\n\"]},{\"cell_type\":\"code\",\"metadata\":{\"id\":\"RPIbXyYvrTlk\"},\"source\":[\"# Örnek uygulama 2'i gözlemleyelim\\n\",\"\\n\",\"class Bisiklet:\\n\",\"    renk = \\\"Kırmızı\\\"\\n\",\"    vites = 1\\n\",\"    def ozellikler(self):\\n\",\"        ozellikDetay = \\\"Bu bisiklet %s renkli ve %d viteslidir.\\\" % (self.renk, self.vites)\\n\",\"        return ozellikDetay\\n\",\"\\n\",\"bisiklet1 = Bisiklet()\\n\",\"bisiklet2 = Bisiklet()\\n\",\"\\n\",\"print(\\\"Bisiklet 1: \\\" + bisiklet1.ozellikler())\\n\",\"\\n\",\"bisiklet2.renk = \\\"Sarı\\\"\\n\",\"bisiklet2.vites = 22\\n\",\"\\n\",\"print(\\\"Bisiklet 2: \\\" + bisiklet2.ozellikler())\"],\"execution_count\":null,\"outputs\":[]},{\"cell_type\":\"markdown\",\"metadata\":{\"id\":\"o8f-zk-y3KvD\"},\"source\":[\"##self Parametresi\\n\",\"\\\"self\\\" parametresi bir Python kuralıdır. \\\"self\\\", herhangi bir sınıf yöntemine iletilen ilk parametredir. Python, oluşturulan nesneyi belirtmek için self parametresini kullanır.\"]},{\"cell_type\":\"markdown\",\"metadata\":{\"id\":\"ZoxlmJep4C6j\"},\"source\":[\"**Örnek Uygulama**\\n\",\"\\n\",\"Aşağıdaki örnek uygulamada **Bisiklet** sınıfının değişkenleri olan *renk* ve *bisiklet*, sınıf içindeki fonksiyonda **self** parametresi ile birlikte kullanılmaktadır. Bu kullanım şekli sınıftan oluşturulan nesnelerin tanımlanmış değişkenlere ulaşabilmeleri için gereklidir.\\n\",\"```\\n\",\"class Bisiklet:\\n\",\"    renk = \\\"Kırmızı\\\"\\n\",\"    vites = 1\\n\",\"    def ozellikler(self):\\n\",\"        ozellikDetay = \\\"Bu bisiklet %s renkli ve %d viteslidir.\\\" % (self.renk, self.vites)\\n\",\"        return ozellikDetay\\n\",\"```\\n\",\"\\n\"]},{\"cell_type\":\"code\",\"metadata\":{\"id\":\"2gqeiPB9ys1l\"},\"source\":[\"# Örnek uygulamada \\\"self\\\" tanımlaması yapılmadığı zaman döndürülen hata kodunu inceleyin\\n\",\"\\n\",\"class Bisiklet:\\n\",\"    renk = \\\"Kırmızı\\\"\\n\",\"    vites = 1\\n\",\"    def ozellikler(self):\\n\",\"        ozellikDetay = \\\"Bu bisiklet %s renkli ve %d viteslidir.\\\" % (renk, vites) #tanımlama eksik\\n\",\"        return ozellikDetay\\n\",\"\\n\",\"bisiklet1 = Bisiklet()\\n\",\"bisiklet2 = Bisiklet()\\n\",\"\\n\",\"print(\\\"Bisiklet 1: \\\" + bisiklet1.ozellikler())\\n\",\"\\n\",\"bisiklet2.renk = \\\"Sarı\\\"\\n\",\"bisiklet2.vites = 22\\n\",\"\\n\",\"print(\\\"Bisiklet 2: \\\" + bisiklet2.ozellikler())\"],\"execution_count\":null,\"outputs\":[]},{\"cell_type\":\"markdown\",\"metadata\":{\"id\":\"1B4iU-FI4wRy\"},\"source\":[\"##__init__ Metodu\\n\",\"__init__ fonksiyonu, oluşturduğu nesneleri başlatmak için kullanılır. init \\\"başlat\\\" ın kısaltmasıdır. __init__() her zaman yaratılan nesneye atıfta bulunan en az bir argüman alır: \\\"self\\\".\\n\"]},{\"cell_type\":\"markdown\",\"metadata\":{\"id\":\"FMtmqmiD44ZH\"},\"source\":[\"**Örnek Uygulama**\\n\",\"\\n\",\"Aşağıdaki örnek uygulamada *sporDali* sınıfının içinde tanımlanan **init** fonksiyonu, sınıf oluşturulduğu anda çalışmaya başlamaktadır. Fonksiyonun ayrıca çağırılmasına gerek kalmamıştır.\\n\",\"```\\n\",\"class sporDali:\\n\",\"  sporlar = [\\\"Yüzme\\\", \\\"Bisiklet\\\", \\\"Koşu\\\"]\\n\",\"  def __init__(self):\\n\",\"    for spor in self.sporlar:\\n\",\"      print(spor + \\\" bir triatlon branşıdır.\\\")\\n\",\"\\n\",\"triatlon = sporDali()\\n\",\"```\\n\",\"\\n\"]},{\"cell_type\":\"code\",\"metadata\":{\"id\":\"5zwuicQu0wm7\"},\"source\":[\"# Örnek uygulamayı çalıştır\\n\",\"\\n\",\"class sporDali:\\n\",\"  sporlar = [\\\"Yüzme\\\", \\\"Bisiklet\\\", \\\"Koşu\\\"]\\n\",\"  def __init__(self):\\n\",\"    for spor in self.sporlar:\\n\",\"      print(spor + \\\" bir triatlon branşıdır.\\\")\\n\",\"\\n\",\"triatlon = sporDali()\"],\"execution_count\":null,\"outputs\":[]},{\"cell_type\":\"markdown\",\"metadata\":{\"id\":\"UbKP1Z_c0d9k\"},\"source\":[\"#Bölüm 09: Modüller ve Paketler\"]},{\"cell_type\":\"markdown\",\"metadata\":{\"id\":\"KyJG2zkhzLD7\"},\"source\":[\"##Modülün İçe Aktarılması\\n\",\"Python'daki modüller, Python tanımlarını (sınıflar, fonksiyonlar vb.) ve ifadelerini (değişkenler, listeler, sözlükler vb.) içeren .py uzantısına sahip Python dosyalarıdır.\\n\",\"\\n\",\"Modüller, *import* anahtar sözcüğü ve uzantı olmadan dosya adı kullanılarak içe aktarılır. Bir modül, çalışan bir Python betiğine ilk kez yüklendiğinde, modüldeki kodun bir kez çalıştırılmasıyla başlatılır.\"]},{\"cell_type\":\"markdown\",\"metadata\":{\"id\":\"15prWEGSz1SN\"},\"source\":[\"**Örnek Uygulama**\\n\",\"\\n\",\"\\n\",\"\\n\",\"```\\n\",\"#bisiklet.py adlı modülün içeriği\\n\",\"\\\"\\\"\\\"\\n\",\"Bu modül içinde Bisiklet sınıfı yer almaktadır.\\n\",\"\\\"\\\"\\\"\\n\",\"class Bisiklet:\\n\",\"    renk = \\\"Kırmızı\\\"\\n\",\"    vites = 1\\n\",\"    def ozellikler(self):\\n\",\"        ozellikDetay = \\\"Bu bisiklet %s renkli ve %d viteslidir.\\\" % (self.renk, self.vites)\\n\",\"        return ozellikDetay\\n\",\"```\\n\",\"\\n\",\"\\n\",\"\\n\",\"```\\n\",\"#bisikletler.py adlı Python dosyasının içeriği\\n\",\"\\n\",\"import bisiklet\\n\",\"\\n\",\"bisiklet1 = bisiklet.Bisiklet()\\n\",\"\\n\",\"print(\\\"Bisiklet 1: \\\" + bisiklet1.ozellikler())\\n\",\"\\n\",\"```\\n\",\"\\n\"]},{\"cell_type\":\"markdown\",\"metadata\":{\"id\":\"lmb0EwAx-xYG\"},\"source\":[\"**PyCharm Örneği**\\n\",\"\\n\",\"\\n\",\"![bisiklet.py](http://www.madran.net/wp-content/uploads/2020/05/bisikletPY.png) \\n\",\"\\n\",\"bisiklet.py\\n\",\"\\n\",\"\\n\",\"\\n\",\"---\\n\",\"\\n\",\"\\n\",\"\\n\",\"![alt text](http://www.madran.net/wp-content/uploads/2020/05/bisikletlerPY.png)\\n\",\"\\n\",\"bisikletler.py\"]},{\"cell_type\":\"markdown\",\"metadata\":{\"id\":\"btdYo-btCCu5\"},\"source\":[\"##Colab'de Modülün İçe Aktarılması\\n\",\"\\n\",\"Bir önceki bölümde (Modülün İçe Aktarılması) herhangi bir kişisel bilgisayarın sabit diski üzerinde çalışırken yerleşik olmayan (kendi yazdığımız) modülün içe aktarılması yer aldı.\\n\",\"\\n\",\"Bu bölümde ise Colab üzerinde çalışırken yerleşik olmayan bir modülü nasıl içe aktarılacağı yer almakta.\"]},{\"cell_type\":\"markdown\",\"metadata\":{\"id\":\"4KYGmiV4EQwz\"},\"source\":[\"**Örnek Uygulama**\\n\",\"\\n\",\"Aşağıda içeriği görüntülenen *bisiklet.py* adlı Python dosyası Google Drive içerisinde \\\"BBY162_Python_a_Giris.ipynb\\\" dosyasının ile aynı klasör içinde bulunmaktadır.\\n\",\"\\n\",\"```\\n\",\"#bisiklet.py adlı modülün içeriği\\n\",\"\\\"\\\"\\\"\\n\",\"Bu modül içinde Bisiklet sınıfı yer almaktadır.\\n\",\"\\\"\\\"\\\"\\n\",\"class Bisiklet:\\n\",\"    renk = \\\"Kırmızı\\\"\\n\",\"    vites = 1\\n\",\"    def ozellikler(self):\\n\",\"        ozellikDetay = \\\"Bu bisiklet %s renkli ve %d viteslidir.\\\" % (self.renk, self.vites)\\n\",\"        return ozellikDetay\\n\",\"```\\n\"]},{\"cell_type\":\"code\",\"metadata\":{\"id\":\"slM_q141DkRK\"},\"source\":[\"# Google Drive'ın bir disk olarak görülmesi \\n\",\"from google.colab import drive\\n\",\"drive.mount('gdrive') # bağlanan diskin 'gdrive' adı ile tanımlanması.\\n\",\"\\n\",\"import sys # bağlanan diskin fiziksel yolunun tespit edilmesi ve bağlantı yoluna eklenmesi\\n\",\"sys.path.append('/content/gdrive/My Drive/Colab Notebooks/BBY162 - Programlama ve Algoritmalar/')\\n\",\"\\n\",\"import bisiklet # bisiklet.py içerisindeki 'bisiklet' sınıfının içe aktarılması\\n\",\"\\n\",\"bisiklet1 = bisiklet.Bisiklet()\\n\",\"print(\\\"Bisiklet 1: \\\" + bisiklet1.ozellikler())\"],\"execution_count\":null,\"outputs\":[]},{\"cell_type\":\"markdown\",\"metadata\":{\"id\":\"tVPUaDwZBfrc\"},\"source\":[\"##Yerleşik Modüller (built-in)\\n\",\"Python aşağıdaki bağlantıda yer alan standart modüllerle birlikte gelir. Bu modüllerin *import* anahtar kelimesi ile çağrılması yeterlidir. Ayrıca bu modüllerin yüklenmesine gerek yoktur.\\n\",\"\\n\",\"[Python Standart Modülleri](https://docs.python.org/3/library/)\"]},{\"cell_type\":\"markdown\",\"metadata\":{\"id\":\"1UvfkosdCOQW\"},\"source\":[\"**Örnek Uygulama**\\n\",\"\\n\",\"\\n\",\"```\\n\",\"import datetime\\n\",\"print(datetime.datetime.today())\\n\",\"```\\n\",\"\\n\"]},{\"cell_type\":\"code\",\"metadata\":{\"id\":\"CKTfLO0PH3mF\"},\"source\":[\"# Örnek uygulamayı çalıştır \\n\",\"\\n\",\"import datetime\\n\",\"print(datetime.datetime.today())\"],\"execution_count\":null,\"outputs\":[]},{\"cell_type\":\"markdown\",\"metadata\":{\"id\":\"nqSNESNxDoVL\"},\"source\":[\"##from import Kullanımı\\n\",\"İçe aktarma ifadesinin bir başka kullanım şekli *from* anahtar kelimesinin kullanılmasıdır. *from* ifadesi ile modül adları paketin içinde alınarak direkt kullanıma hazır hale getirilir. Bu şekilde, içe aktarılan modül, modül_adı öneki olmadan doğrudan kullanılır.\"]},{\"cell_type\":\"markdown\",\"metadata\":{\"id\":\"ccZnbUVLE9hg\"},\"source\":[\"**Örnek Uygulama**\\n\",\"\\n\",\"\\n\",\"\\n\",\"```\\n\",\"#bisiklet.py adlı modülün içeriği\\n\",\"\\\"\\\"\\\"\\n\",\"Bu modül içinde Bisiklet sınıfı yer almaktadır.\\n\",\"\\\"\\\"\\\"\\n\",\"class Bisiklet:\\n\",\"    renk = \\\"Kırmızı\\\"\\n\",\"    vites = 1\\n\",\"    def ozellikler(self):\\n\",\"        ozellikDetay = \\\"Bu bisiklet %s renkli ve %d viteslidir.\\\" % (self.renk, self.vites)\\n\",\"        return ozellikDetay\\n\",\"```\\n\"]},{\"cell_type\":\"code\",\"metadata\":{\"id\":\"HxSSqtqMIYpS\"},\"source\":[\"# Google Drive'ın bir disk olarak görülmesi \\n\",\"from google.colab import drive\\n\",\"drive.mount('gdrive') # bağlanan diskin 'gdrive' adı ile tanımlanması.\\n\",\"\\n\",\"import sys # bağlanan diskin fiziksel yolunun tespit edilmesi ve bağlantı yoluna eklenmesi\\n\",\"sys.path.append('/content/gdrive/My Drive/Colab Notebooks/BBY162 - Programlama ve Algoritmalar/')\\n\",\"\\n\",\"from bisiklet import Bisiklet # bisiklet.py içerisindeki 'bisiklet' sınıfının içe aktarılması\\n\",\"\\n\",\"bisiklet1 = Bisiklet() # bisiklet ön tanımlamasına gerek kalmadı\\n\",\"print(\\\"Bisiklet 1: \\\" + bisiklet1.ozellikler())\"],\"execution_count\":null,\"outputs\":[]},{\"cell_type\":\"markdown\",\"metadata\":{\"id\":\"8s0bn98LFdh4\"},\"source\":[\"#Bölüm 10: Dosya İşlemleri\"]},{\"cell_type\":\"markdown\",\"metadata\":{\"id\":\"cTf7unkXFtRi\"},\"source\":[\"##Dosya Okuma\\n\",\"Python, bilgisayarınızdaki bir dosyadan bilgi okumak ve yazmak için bir dizi yerleşik fonksiyona sahiptir. **open** fonksiyonu bir dosyayı açmak için kullanılır. Dosya, okuma modunda (ikinci argüman olarak \\\"r\\\" kullanılarak) veya yazma modunda (ikinci argüman olarak \\\"w\\\" kullanılarak) açılabilir. **open** fonksiyonu dosya nesnesini döndürür. Dosyanın saklanması için kapatılması gerekir.\"]},{\"cell_type\":\"markdown\",\"metadata\":{\"id\":\"SV9N24JsRqbk\"},\"source\":[\"**Örnek Uygulama**\\n\",\"\\n\",\"\\n\",\"```\\n\",\"#Google Drive Bağlantısı\\n\",\"from google.colab import drive\\n\",\"drive.mount('/gdrive')\\n\",\"\\n\",\"dosya = \\\"/gdrive/My Drive/Colab Notebooks/BBY162 - Programlama ve Algoritmalar/metin.txt\\\"\\n\",\"\\n\",\"f = open(dosya, \\\"r\\\") \\n\",\"\\n\",\"for line in f.readlines():\\n\",\"    print(line)\\n\",\"\\n\",\"f.close()\\n\",\"```\\n\",\"\\n\",\"Dosyanın sağlıklı şekilde okunabilmesi için Google Drive ile bağlantının kurulmuş olması ve okunacak dosyanın yolunun tam olarak belirtilmesi gerekmektedir.\\n\",\"\\n\",\"![Google Drive Colab Klasörü](http://www.madran.net/wp-content/uploads/2020/05/driveMetin.png)\"]},{\"cell_type\":\"code\",\"metadata\":{\"id\":\"3KXhzd_FKMWt\"},\"source\":[\"#Google Drive Bağlantısı\\n\",\"from google.colab import drive\\n\",\"drive.mount('/gdrive')\\n\",\"\\n\",\"dosya = \\\"/gdrive/My Drive/Colab Notebooks/BBY162 - Programlama ve Algoritmalar/metin.txt\\\"\\n\",\"\\n\",\"f = open(dosya, \\\"r\\\") \\n\",\"\\n\",\"for line in f.readlines():\\n\",\"    print(line)\\n\",\"\\n\",\"f.close()\"],\"execution_count\":null,\"outputs\":[]},{\"cell_type\":\"markdown\",\"metadata\":{\"id\":\"pToEIEVUR16I\"},\"source\":[\"##Dosya Yazma\\n\",\"Bir dosyayı ikinci argüman olarak \\\"w\\\" (yazma) kullanarak açarsanız, yeni bir boş dosya oluşturulur. Aynı ada sahip başka bir dosya varsa silineceğini unutmayın. Mevcut bir dosyaya içerik eklemek istiyorsanız \\\"a\\\" (ekleme) değiştiricisini kullanmalısınız.\"]},{\"cell_type\":\"markdown\",\"metadata\":{\"id\":\"aserUhlGcBVX\"},\"source\":[\"**Örnek Uygulama**\\n\",\"\\n\",\"Aşağıdaki örnekte dosya 'w' parametresi ile açıldığı için var olan dosyanın içindekiler silinir ve yeni veriler dosyaya yazılır. Dosyanın içindeki verilerin kalması ve yeni verilerin eklenmesi isteniyorsa dosya 'a' parametresi ile açılmalıdır.\\n\",\"\\n\",\"```\\n\",\"#Google Drive Bağlantısı\\n\",\"from google.colab import drive\\n\",\"drive.mount('/gdrive')\\n\",\" \\n\",\"dosya = \\\"/gdrive/My Drive/Colab Notebooks/BBY162 - Programlama ve Algoritmalar/cikti.txt\\\"\\n\",\"\\n\",\"f = open(dosya, 'w') # Mevcut veriye ek veri yazılması için parametre: 'a'\\n\",\"f.write(\\\"test\\\") # Her yeni verinin bir alt satıra yazdırılması \\\"test\\\\n\\\"\\n\",\"f.close()\\n\",\"```\\n\",\"\\n\",\"Kod çalıştırıldıktan sonra eğer *cikti.txt* adında bir dosya yoksa otomatik olarak oluşturulur ve istenilen içerik yazılır.\\n\",\"\\n\",\"![Google Drive Colab Klasörü](http://www.madran.net/wp-content/uploads/2020/05/driveColab.png)\"]},{\"cell_type\":\"code\",\"metadata\":{\"id\":\"JGu95coVKdTn\"},\"source\":[\"#Google Drive Bağlantısı\\n\",\"from google.colab import drive\\n\",\"drive.mount('/gdrive')\\n\",\" \\n\",\"dosya = \\\"/gdrive/My Drive/Colab Notebooks/BBY162 - Programlama ve Algoritmalar/cikti.txt\\\"\\n\",\"\\n\",\"f = open(dosya, 'w') # Mevcut veriye ek veri yazılması için parametre: 'a'\\n\",\"f.write(\\\"test\\\") # Her yeni verinin bir alt satıra yazdırılması \\\"test\\\\n\\\"\\n\",\"f.close()\"],\"execution_count\":null,\"outputs\":[]}]}\n"
          ],
          "name": "stdout"
        }
      ]
    },
    {
      "cell_type": "markdown",
      "metadata": {
        "id": "pToEIEVUR16I"
      },
      "source": [
        "##Dosya Yazma\n",
        "Bir dosyayı ikinci argüman olarak \"w\" (yazma) kullanarak açarsanız, yeni bir boş dosya oluşturulur. Aynı ada sahip başka bir dosya varsa silineceğini unutmayın. Mevcut bir dosyaya içerik eklemek istiyorsanız \"a\" (ekleme) değiştiricisini kullanmalısınız."
      ]
    },
    {
      "cell_type": "markdown",
      "metadata": {
        "id": "aserUhlGcBVX"
      },
      "source": [
        "**Örnek Uygulama**\n",
        "\n",
        "Aşağıdaki örnekte dosya 'w' parametresi ile açıldığı için var olan dosyanın içindekiler silinir ve yeni veriler dosyaya yazılır. Dosyanın içindeki verilerin kalması ve yeni verilerin eklenmesi isteniyorsa dosya 'a' parametresi ile açılmalıdır.\n",
        "\n",
        "```\n",
        "#Google Drive Bağlantısı\n",
        "from google.colab import drive\n",
        "drive.mount('/gdrive')\n",
        " \n",
        "dosya = \"/gdrive/My Drive/Colab Notebooks/BBY162 - Programlama ve Algoritmalar/cikti.txt\"\n",
        "\n",
        "f = open(dosya, 'w') # Mevcut veriye ek veri yazılması için parametre: 'a'\n",
        "f.write(\"test\") # Her yeni verinin bir alt satıra yazdırılması \"test\\n\"\n",
        "f.close()\n",
        "```\n",
        "\n",
        "Kod çalıştırıldıktan sonra eğer *cikti.txt* adında bir dosya yoksa otomatik olarak oluşturulur ve istenilen içerik yazılır.\n",
        "\n",
        "![Google Drive Colab Klasörü](http://www.madran.net/wp-content/uploads/2020/05/driveColab.png)"
      ]
    },
    {
      "cell_type": "code",
      "metadata": {
        "id": "397M8lw8q-XZ"
      },
      "source": [
        ""
      ],
      "execution_count": null,
      "outputs": []
    },
    {
      "cell_type": "code",
      "metadata": {
        "id": "JGu95coVKdTn",
        "colab": {
          "base_uri": "https://localhost:8080/",
          "height": 248
        },
        "outputId": "b7688c75-d195-4592-e2c7-09d3f933320e"
      },
      "source": [
        "#Google Drive Bağlantısı\n",
        "from google.colab import drive\n",
        "drive.mount('/gdrive')\n",
        " \n",
        "dosya = \"//gdrive/MyDrive/HU BBY162/Colab Notebooks/BBY162_Python_a_Giris.ipynb adlı not defteri/\"\n",
        "\n",
        "f = open(dosya, 'w') # Mevcut veriye ek veri yazılması için parametre: 'a'\n",
        "f.write(\"yeni\") # Her yeni verinin bir alt satıra yazdırılması \"test\\n\"\n",
        "f.close()"
      ],
      "execution_count": 10,
      "outputs": [
        {
          "output_type": "stream",
          "text": [
            "Drive already mounted at /gdrive; to attempt to forcibly remount, call drive.mount(\"/gdrive\", force_remount=True).\n"
          ],
          "name": "stdout"
        },
        {
          "output_type": "error",
          "ename": "IsADirectoryError",
          "evalue": "ignored",
          "traceback": [
            "\u001b[0;31m---------------------------------------------------------------------------\u001b[0m",
            "\u001b[0;31mIsADirectoryError\u001b[0m                         Traceback (most recent call last)",
            "\u001b[0;32m<ipython-input-10-c03fe42896ea>\u001b[0m in \u001b[0;36m<module>\u001b[0;34m()\u001b[0m\n\u001b[1;32m      5\u001b[0m \u001b[0mdosya\u001b[0m \u001b[0;34m=\u001b[0m \u001b[0;34m\"//gdrive/MyDrive/HU BBY162/Colab Notebooks/BBY162_Python_a_Giris.ipynb adlı not defteri/\"\u001b[0m\u001b[0;34m\u001b[0m\u001b[0;34m\u001b[0m\u001b[0m\n\u001b[1;32m      6\u001b[0m \u001b[0;34m\u001b[0m\u001b[0m\n\u001b[0;32m----> 7\u001b[0;31m \u001b[0mf\u001b[0m \u001b[0;34m=\u001b[0m \u001b[0mopen\u001b[0m\u001b[0;34m(\u001b[0m\u001b[0mdosya\u001b[0m\u001b[0;34m,\u001b[0m \u001b[0;34m'w'\u001b[0m\u001b[0;34m)\u001b[0m \u001b[0;31m# Mevcut veriye ek veri yazılması için parametre: 'a'\u001b[0m\u001b[0;34m\u001b[0m\u001b[0;34m\u001b[0m\u001b[0m\n\u001b[0m\u001b[1;32m      8\u001b[0m \u001b[0mf\u001b[0m\u001b[0;34m.\u001b[0m\u001b[0mwrite\u001b[0m\u001b[0;34m(\u001b[0m\u001b[0;34m\"yeni\"\u001b[0m\u001b[0;34m)\u001b[0m \u001b[0;31m# Her yeni verinin bir alt satıra yazdırılması \"test\\n\"\u001b[0m\u001b[0;34m\u001b[0m\u001b[0;34m\u001b[0m\u001b[0m\n\u001b[1;32m      9\u001b[0m \u001b[0mf\u001b[0m\u001b[0;34m.\u001b[0m\u001b[0mclose\u001b[0m\u001b[0;34m(\u001b[0m\u001b[0;34m)\u001b[0m\u001b[0;34m\u001b[0m\u001b[0;34m\u001b[0m\u001b[0m\n",
            "\u001b[0;31mIsADirectoryError\u001b[0m: [Errno 21] Is a directory: '//gdrive/MyDrive/HU BBY162/Colab Notebooks/BBY162_Python_a_Giris.ipynb adlı not defteri/'"
          ]
        }
      ]
    }
  ]
}